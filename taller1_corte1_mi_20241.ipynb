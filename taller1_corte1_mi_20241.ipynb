{
  "nbformat": 4,
  "nbformat_minor": 0,
  "metadata": {
    "colab": {
      "provenance": [],
      "toc_visible": true,
      "mount_file_id": "1PETWeF3zmWYsaSMUDTXC0wk70aNeY5fu",
      "authorship_tag": "ABX9TyPFnq/BuFTQmZTn9OuudpPt",
      "include_colab_link": true
    },
    "kernelspec": {
      "name": "python3",
      "display_name": "Python 3"
    },
    "language_info": {
      "name": "python"
    }
  },
  "cells": [
    {
      "cell_type": "markdown",
      "metadata": {
        "id": "view-in-github",
        "colab_type": "text"
      },
      "source": [
        "<a href=\"https://colab.research.google.com/github/alexanderbeleno16/taller1_corte1_mi_20241/blob/main/taller1_corte1_mi_20241.ipynb\" target=\"_parent\"><img src=\"https://colab.research.google.com/assets/colab-badge.svg\" alt=\"Open In Colab\"/></a>"
      ]
    },
    {
      "cell_type": "markdown",
      "source": [
        "# **TALLER #1 CORTE 1 MI 2024-1 NOCTURNO**\n",
        "\n",
        "## CORPORACIÓN UNIVERSITARIA LATINOAMERICANA\n",
        "\n",
        "### PRESENTADO POR:\n",
        "\n",
        "### ALEXANDER BELEÑO, VANESSA BAENA, JHON DIAZ\n"
      ],
      "metadata": {
        "id": "aote-4ApClK1"
      }
    },
    {
      "cell_type": "markdown",
      "source": [
        "## **INFORMACIÓN RELACIONADA AL DATASET**\n",
        "\n",
        "La información sobre la población colombiana residente y registrada en las diversas misiones consulares en el exterior proporciona un panorama detallado y crucial para comprender la diáspora colombiana y sus características demográficas. Esta data abarca una variedad de aspectos, desde el género y la edad hasta el nivel educativo, la ocupación y el lugar de residencia de los ciudadanos colombianos en el extranjero. Tal información no solo permite a las autoridades consulares entender las necesidades específicas de sus ciudadanos en el exterior, sino que también facilita la implementación de políticas y programas destinados a brindarles apoyo y protección. Además, el conocimiento del consulado de la circunscripción que atiende a cada individuo contribuye a una gestión más efectiva de los servicios consulares y a una mejor atención personalizada a los colombianos en el extranjero.\n",
        "\n",
        "Esta recopilación exhaustiva de datos no solo ayuda a trazar perfiles demográficos precisos de la población colombiana en el exterior, sino que también ofrece una visión más amplia de la diáspora y sus contribuciones a nivel global. El conocimiento detallado sobre la distribución por género, edad, nivel educativo y ocupación permite identificar tendencias migratorias y patrones socioeconómicos, lo que a su vez puede informar políticas públicas tanto en Colombia como en los países de acogida. Además, esta información puede ser valiosa para el diseño de programas de integración y desarrollo que beneficien tanto a los colombianos en el exterior como a sus comunidades de origen. En resumen, la compilación y análisis de datos sobre la población colombiana en el exterior desempeña un papel fundamental en la formulación de estrategias para fortalecer los lazos entre la diáspora y su país de origen, promoviendo así un mayor desarrollo y bienestar para todos los involucrados."
      ],
      "metadata": {
        "id": "0ajMSwcKSKP5"
      }
    },
    {
      "cell_type": "markdown",
      "source": [
        "## **REFERENCIA DEL DATASET**\n",
        "https://www.datos.gov.co/Estad-sticas-Nacionales/Colombianos-registrados-en-el-exterior/y399-rzwf/about_data"
      ],
      "metadata": {
        "id": "Sh9yck3oN60Y"
      }
    },
    {
      "cell_type": "markdown",
      "source": [
        "## **IMPORTACIÓN DE LIBRERIAS**\n",
        "En esta sección del código se realizan las importaciones correspondientes a cada librería que permitiran la realización exitosa de la lectura y el tratamiento de los datos del archivo \".csv\"."
      ],
      "metadata": {
        "id": "TE9bjXMUEzbV"
      }
    },
    {
      "cell_type": "code",
      "execution_count": 2,
      "metadata": {
        "id": "Y09becwgCjnm"
      },
      "outputs": [],
      "source": [
        "import pandas as pd\n",
        "import numpy as np\n",
        "import matplotlib.pyplot as plt"
      ]
    },
    {
      "cell_type": "markdown",
      "source": [
        "## **CARGUE Y LECTURA DEL ARCHIVO CSV**\n",
        "En esta sección del código se carga los datos del archivo CSV en un objeto llamado data_frame"
      ],
      "metadata": {
        "id": "FA2I_H5FHYnI"
      }
    },
    {
      "cell_type": "code",
      "source": [
        "data_frame = pd.read_csv('drive/MyDrive/files/Colombianos_registrados_en_el_exterior_20240221.csv')"
      ],
      "metadata": {
        "id": "d3HD2lI3HqsX"
      },
      "execution_count": 3,
      "outputs": []
    },
    {
      "cell_type": "markdown",
      "source": [
        "## **LIMPIEZA DE LA DATA**\n",
        "\n",
        "ANTES DE TRABAJAR LOS DATOS ES MUY IMPORTANTE CONOCERLOS Y LIMPIARLO PARA EVITAR DISTORCIONES.\n",
        "\n",
        "Para este caso proceseremos con la limpieza de los datos de las columnas con las que vamos a trabajar,\n",
        "en este caso las columnas \"Edad\", \"Altura\" y \"Cantidad de personas\".\n",
        "\n",
        "La cantidad de datos en las columnas es uniformo, lo cual nos indica que no hay datos faltantes a tratar.\n",
        "Actualmente la columna \"Localidad\" no es inecesaria en nuestro conjunto de datos pero, de mantendra temporalmente.\n",
        "En base a los datos tratados, es normal que dispongamos de determinadas filas con la misma informacion, por\n",
        "lo que no es bueno eliminar las columnas repetidas.\n",
        "\n",
        "**COLUMNA EDAD:**\n",
        "Eliminamos los datos no validos de las columnas como los -1 lo cual no tiene sentido en nuestros datos\n",
        "(aunque indique que no se identifica la edad).\n",
        "Tambien eliminamos los valores extremos, lo cuales son personas mayores a 100 años.\n",
        "\n",
        "**COLUMNA ESTATURA:**\n",
        "En el caso de la estatura los valores extremos son menores de 35CM pero tambien hay que tener en cuenta que\n",
        "los inferiores a 10CM no tienen sentido e el ajuste es necesario.\n",
        "\n",
        "**COLUMNA CANTIDAD DE PERSONAS:**\n",
        "Con respecto a la cantidad de personas, solo requiere un ajuste preventivo en el cual se eliminara los\n",
        "valores negativos al no tener sentido y los mayores a 500 para evitar grandes desvios en la graficacion."
      ],
      "metadata": {
        "id": "T2XAPG6o3Z-r"
      }
    },
    {
      "cell_type": "code",
      "source": [
        "data_frame.drop(data_frame[(data_frame['Edad (años)'] <= 0)].index, inplace=True)\n",
        "data_frame.drop(data_frame[(data_frame['Edad (años)'] >= 100)].index, inplace=True)\n",
        "data_frame.drop(data_frame[(data_frame['Estatura (CM)'] < 35)].index, inplace=True)\n",
        "data_frame.drop(data_frame[(data_frame['Estatura (CM)'] > 190)].index, inplace=True)\n",
        "data_frame.drop(data_frame[(data_frame['Cantidad de personas'] < 0)].index, inplace=True)\n",
        "data_frame.drop(data_frame[(data_frame['Cantidad de personas'] > 500)].index, inplace=True)"
      ],
      "metadata": {
        "id": "YyCnXVii3dgE"
      },
      "execution_count": 4,
      "outputs": []
    },
    {
      "cell_type": "markdown",
      "source": [
        "## **NOMBRE Y TIPO DE DATOS DE LAS COLUMNAS**\n",
        "\n",
        "La función **data_frame.info()** en Pandas proporciona un resumen conciso de la estructura y la información básica sobre el DataFrame cargado. RangeIndex: 739595 entries, 0 to 739594: Indica que el DataFrame tiene un índice que va desde 0 hasta 739594, y contiene un total de 739595 filas (entradas).\n",
        "\n",
        "**Data columns (total 14 columns):** Indica que hay un total de 14 columnas en el DataFrame.\n",
        "\n",
        "**Column:** Lista los nombres de las columnas.\n",
        "\n",
        "**Non-Null Count:** Muestra el número de valores no nulos en cada columna, lo que indica cuántos valores válidos hay en cada columna. En este caso, todas las columnas tienen 739595 valores no nulos, lo que significa que no hay valores faltantes en ninguna columna."
      ],
      "metadata": {
        "id": "lxDcxILhMCRp"
      }
    },
    {
      "cell_type": "code",
      "source": [
        "data_frame.info()"
      ],
      "metadata": {
        "colab": {
          "base_uri": "https://localhost:8080/"
        },
        "id": "HqMifW3uM8GK",
        "outputId": "5a4c27da-a8c9-4434-8e41-ee5ab976039e"
      },
      "execution_count": 5,
      "outputs": [
        {
          "output_type": "stream",
          "name": "stdout",
          "text": [
            "<class 'pandas.core.frame.DataFrame'>\n",
            "Int64Index: 279489 entries, 1 to 739594\n",
            "Data columns (total 14 columns):\n",
            " #   Column                 Non-Null Count   Dtype \n",
            "---  ------                 --------------   ----- \n",
            " 0   País                   279489 non-null  object\n",
            " 1   Código ISO país        279489 non-null  object\n",
            " 2   Oficina de registro    279489 non-null  object\n",
            " 3   Grupo edad             279489 non-null  object\n",
            " 4   Edad (años)            279489 non-null  int64 \n",
            " 5   Área Conocimiento      279489 non-null  object\n",
            " 6   Sub Area Conocimiento  279489 non-null  object\n",
            " 7   Nivel Académico        279489 non-null  object\n",
            " 8   Estado civil           279489 non-null  object\n",
            " 9   Género                 279489 non-null  object\n",
            " 10  Etnia de la persona    279489 non-null  object\n",
            " 11  Estatura (CM)          279489 non-null  int64 \n",
            " 12  Localización           279489 non-null  object\n",
            " 13  Cantidad de personas   279489 non-null  int64 \n",
            "dtypes: int64(3), object(11)\n",
            "memory usage: 32.0+ MB\n"
          ]
        }
      ]
    },
    {
      "cell_type": "markdown",
      "source": [
        "Con la informacion anterior verificamos que no hay datos faltantes o nulos en nuestras columnas porque todas tienen el mismo valor (misma cantidad), lo cual es muy importante para verificar la integridad de nuestros datos.\n",
        "Tambien verificamos la integridad de nuestras columnas cuantitativas (por el tipo de dato numerico) los cuales solo deben tener valores valores numericos.\n",
        "\n",
        "Lo mas importante, en base al analisis que se va a realizar, aca podemos eliminar las columnas no seran necesaria en nuestro analisis, en este caso serian:\n",
        "\n",
        "*   Columna \"Código ISO país\" el cual es redundante al disponer la columna País, sin contar que no se tratara, manipulara o mostrara este dato/columna.\n",
        "\n",
        "*   Columna Localización el cual no se tratara, manipulara o mostrara este dato/columna.\n"
      ],
      "metadata": {
        "id": "UzJkg36ph14m"
      }
    },
    {
      "cell_type": "code",
      "source": [
        "data_frame.pop('Código ISO país')\n",
        "data_frame.pop('Localización')"
      ],
      "metadata": {
        "colab": {
          "base_uri": "https://localhost:8080/"
        },
        "id": "iOv_8rEXh2Pt",
        "outputId": "d1c3f260-b50a-4ade-d1d8-c40404dc0ae3"
      },
      "execution_count": 6,
      "outputs": [
        {
          "output_type": "execute_result",
          "data": {
            "text/plain": [
              "1             (6.42375, -66.58973)\n",
              "2            (40.463667, -3.74922)\n",
              "5           (37.09024, -95.712891)\n",
              "8           (37.09024, -95.712891)\n",
              "9          (-1.831239, -78.183406)\n",
              "                    ...           \n",
              "739583        (41.87194, 12.56738)\n",
              "739584       (46.227638, 2.213749)\n",
              "739588      (37.09024, -95.712891)\n",
              "739593    (-35.675147, -71.542969)\n",
              "739594       (40.463667, -3.74922)\n",
              "Name: Localización, Length: 279489, dtype: object"
            ]
          },
          "metadata": {},
          "execution_count": 6
        }
      ]
    },
    {
      "cell_type": "markdown",
      "source": [
        "Comprobamos nuevamente los datos."
      ],
      "metadata": {
        "id": "qDwVh4UDi68A"
      }
    },
    {
      "cell_type": "code",
      "source": [
        "data_frame.info()"
      ],
      "metadata": {
        "colab": {
          "base_uri": "https://localhost:8080/"
        },
        "id": "AN_0Ubwji4gw",
        "outputId": "e6fd1eb1-24c6-4e0f-cce6-1a0825e79f24"
      },
      "execution_count": 7,
      "outputs": [
        {
          "output_type": "stream",
          "name": "stdout",
          "text": [
            "<class 'pandas.core.frame.DataFrame'>\n",
            "Int64Index: 279489 entries, 1 to 739594\n",
            "Data columns (total 12 columns):\n",
            " #   Column                 Non-Null Count   Dtype \n",
            "---  ------                 --------------   ----- \n",
            " 0   País                   279489 non-null  object\n",
            " 1   Oficina de registro    279489 non-null  object\n",
            " 2   Grupo edad             279489 non-null  object\n",
            " 3   Edad (años)            279489 non-null  int64 \n",
            " 4   Área Conocimiento      279489 non-null  object\n",
            " 5   Sub Area Conocimiento  279489 non-null  object\n",
            " 6   Nivel Académico        279489 non-null  object\n",
            " 7   Estado civil           279489 non-null  object\n",
            " 8   Género                 279489 non-null  object\n",
            " 9   Etnia de la persona    279489 non-null  object\n",
            " 10  Estatura (CM)          279489 non-null  int64 \n",
            " 11  Cantidad de personas   279489 non-null  int64 \n",
            "dtypes: int64(3), object(9)\n",
            "memory usage: 27.7+ MB\n"
          ]
        }
      ]
    },
    {
      "cell_type": "markdown",
      "source": [
        "## **PRIMEROS 5 REGISTROS**\n",
        "\n",
        "La función data_frame.head() en Pandas se utiliza para mostrar las primeras filas del DataFrame. Por defecto, **muestra las primeras 5 filas** pero este número puede cambiar si así se desea. Esta función es útil para obtener una vista previa rápida de cómo se ven los datos en el DataFrame sin tener que mostrar todo el conjunto de datos, lo que puede ser especialmente útil si el DataFrame es grande."
      ],
      "metadata": {
        "id": "CRbfuGSf37wU"
      }
    },
    {
      "cell_type": "code",
      "source": [
        "data_frame.head()"
      ],
      "metadata": {
        "colab": {
          "base_uri": "https://localhost:8080/",
          "height": 293
        },
        "id": "2PxpMOpJ4bgV",
        "outputId": "258b7303-cab1-419d-d1aa-b450fab5374f"
      },
      "execution_count": 8,
      "outputs": [
        {
          "output_type": "execute_result",
          "data": {
            "text/plain": [
              "             País Oficina de registro Grupo edad  Edad (años)  \\\n",
              "1       VENEZUELA   C. PUERTO LA CRUZ     ADULTO           52   \n",
              "2          ESPAÑA           C. MADRID     ADULTO           43   \n",
              "5  ESTADOS UNIDOS            C. MIAMI     ADULTO           56   \n",
              "8  ESTADOS UNIDOS          C. ORLANDO     ADULTO           37   \n",
              "9         ECUADOR       C. ESMERALDAS     ADULTO           32   \n",
              "\n",
              "  Área Conocimiento Sub Area Conocimiento                 Nivel Académico  \\\n",
              "1         NO INDICA             NO INDICA                        PRIMARIA   \n",
              "2         NO INDICA             NO INDICA                        PRIMARIA   \n",
              "5         NO INDICA             NO INDICA                    BACHILLERATO   \n",
              "8         NO INDICA             NO INDICA  PREGRADO - TÉCNICO PROFESIONAL   \n",
              "9           NINGUNA               NINGUNA                    BACHILLERATO   \n",
              "\n",
              "  Estado civil     Género   Etnia de la persona  Estatura (CM)  \\\n",
              "1      SOLTERO   FEMENINO               NINGUNA            151   \n",
              "2      SOLTERO  MASCULINO  SIN ETNIA REGISTRADA            172   \n",
              "5       CASADO   FEMENINO  SIN ETNIA REGISTRADA            158   \n",
              "8      SOLTERO   FEMENINO               NINGUNA            161   \n",
              "9  UNION_LIBRE   FEMENINO                  OTRO            152   \n",
              "\n",
              "   Cantidad de personas  \n",
              "1                     1  \n",
              "2                     1  \n",
              "5                     1  \n",
              "8                     1  \n",
              "9                     1  "
            ],
            "text/html": [
              "\n",
              "  <div id=\"df-ba7e737d-ed6f-4538-80cf-5ab244d29867\" class=\"colab-df-container\">\n",
              "    <div>\n",
              "<style scoped>\n",
              "    .dataframe tbody tr th:only-of-type {\n",
              "        vertical-align: middle;\n",
              "    }\n",
              "\n",
              "    .dataframe tbody tr th {\n",
              "        vertical-align: top;\n",
              "    }\n",
              "\n",
              "    .dataframe thead th {\n",
              "        text-align: right;\n",
              "    }\n",
              "</style>\n",
              "<table border=\"1\" class=\"dataframe\">\n",
              "  <thead>\n",
              "    <tr style=\"text-align: right;\">\n",
              "      <th></th>\n",
              "      <th>País</th>\n",
              "      <th>Oficina de registro</th>\n",
              "      <th>Grupo edad</th>\n",
              "      <th>Edad (años)</th>\n",
              "      <th>Área Conocimiento</th>\n",
              "      <th>Sub Area Conocimiento</th>\n",
              "      <th>Nivel Académico</th>\n",
              "      <th>Estado civil</th>\n",
              "      <th>Género</th>\n",
              "      <th>Etnia de la persona</th>\n",
              "      <th>Estatura (CM)</th>\n",
              "      <th>Cantidad de personas</th>\n",
              "    </tr>\n",
              "  </thead>\n",
              "  <tbody>\n",
              "    <tr>\n",
              "      <th>1</th>\n",
              "      <td>VENEZUELA</td>\n",
              "      <td>C. PUERTO LA CRUZ</td>\n",
              "      <td>ADULTO</td>\n",
              "      <td>52</td>\n",
              "      <td>NO INDICA</td>\n",
              "      <td>NO INDICA</td>\n",
              "      <td>PRIMARIA</td>\n",
              "      <td>SOLTERO</td>\n",
              "      <td>FEMENINO</td>\n",
              "      <td>NINGUNA</td>\n",
              "      <td>151</td>\n",
              "      <td>1</td>\n",
              "    </tr>\n",
              "    <tr>\n",
              "      <th>2</th>\n",
              "      <td>ESPAÑA</td>\n",
              "      <td>C. MADRID</td>\n",
              "      <td>ADULTO</td>\n",
              "      <td>43</td>\n",
              "      <td>NO INDICA</td>\n",
              "      <td>NO INDICA</td>\n",
              "      <td>PRIMARIA</td>\n",
              "      <td>SOLTERO</td>\n",
              "      <td>MASCULINO</td>\n",
              "      <td>SIN ETNIA REGISTRADA</td>\n",
              "      <td>172</td>\n",
              "      <td>1</td>\n",
              "    </tr>\n",
              "    <tr>\n",
              "      <th>5</th>\n",
              "      <td>ESTADOS UNIDOS</td>\n",
              "      <td>C. MIAMI</td>\n",
              "      <td>ADULTO</td>\n",
              "      <td>56</td>\n",
              "      <td>NO INDICA</td>\n",
              "      <td>NO INDICA</td>\n",
              "      <td>BACHILLERATO</td>\n",
              "      <td>CASADO</td>\n",
              "      <td>FEMENINO</td>\n",
              "      <td>SIN ETNIA REGISTRADA</td>\n",
              "      <td>158</td>\n",
              "      <td>1</td>\n",
              "    </tr>\n",
              "    <tr>\n",
              "      <th>8</th>\n",
              "      <td>ESTADOS UNIDOS</td>\n",
              "      <td>C. ORLANDO</td>\n",
              "      <td>ADULTO</td>\n",
              "      <td>37</td>\n",
              "      <td>NO INDICA</td>\n",
              "      <td>NO INDICA</td>\n",
              "      <td>PREGRADO - TÉCNICO PROFESIONAL</td>\n",
              "      <td>SOLTERO</td>\n",
              "      <td>FEMENINO</td>\n",
              "      <td>NINGUNA</td>\n",
              "      <td>161</td>\n",
              "      <td>1</td>\n",
              "    </tr>\n",
              "    <tr>\n",
              "      <th>9</th>\n",
              "      <td>ECUADOR</td>\n",
              "      <td>C. ESMERALDAS</td>\n",
              "      <td>ADULTO</td>\n",
              "      <td>32</td>\n",
              "      <td>NINGUNA</td>\n",
              "      <td>NINGUNA</td>\n",
              "      <td>BACHILLERATO</td>\n",
              "      <td>UNION_LIBRE</td>\n",
              "      <td>FEMENINO</td>\n",
              "      <td>OTRO</td>\n",
              "      <td>152</td>\n",
              "      <td>1</td>\n",
              "    </tr>\n",
              "  </tbody>\n",
              "</table>\n",
              "</div>\n",
              "    <div class=\"colab-df-buttons\">\n",
              "\n",
              "  <div class=\"colab-df-container\">\n",
              "    <button class=\"colab-df-convert\" onclick=\"convertToInteractive('df-ba7e737d-ed6f-4538-80cf-5ab244d29867')\"\n",
              "            title=\"Convert this dataframe to an interactive table.\"\n",
              "            style=\"display:none;\">\n",
              "\n",
              "  <svg xmlns=\"http://www.w3.org/2000/svg\" height=\"24px\" viewBox=\"0 -960 960 960\">\n",
              "    <path d=\"M120-120v-720h720v720H120Zm60-500h600v-160H180v160Zm220 220h160v-160H400v160Zm0 220h160v-160H400v160ZM180-400h160v-160H180v160Zm440 0h160v-160H620v160ZM180-180h160v-160H180v160Zm440 0h160v-160H620v160Z\"/>\n",
              "  </svg>\n",
              "    </button>\n",
              "\n",
              "  <style>\n",
              "    .colab-df-container {\n",
              "      display:flex;\n",
              "      gap: 12px;\n",
              "    }\n",
              "\n",
              "    .colab-df-convert {\n",
              "      background-color: #E8F0FE;\n",
              "      border: none;\n",
              "      border-radius: 50%;\n",
              "      cursor: pointer;\n",
              "      display: none;\n",
              "      fill: #1967D2;\n",
              "      height: 32px;\n",
              "      padding: 0 0 0 0;\n",
              "      width: 32px;\n",
              "    }\n",
              "\n",
              "    .colab-df-convert:hover {\n",
              "      background-color: #E2EBFA;\n",
              "      box-shadow: 0px 1px 2px rgba(60, 64, 67, 0.3), 0px 1px 3px 1px rgba(60, 64, 67, 0.15);\n",
              "      fill: #174EA6;\n",
              "    }\n",
              "\n",
              "    .colab-df-buttons div {\n",
              "      margin-bottom: 4px;\n",
              "    }\n",
              "\n",
              "    [theme=dark] .colab-df-convert {\n",
              "      background-color: #3B4455;\n",
              "      fill: #D2E3FC;\n",
              "    }\n",
              "\n",
              "    [theme=dark] .colab-df-convert:hover {\n",
              "      background-color: #434B5C;\n",
              "      box-shadow: 0px 1px 3px 1px rgba(0, 0, 0, 0.15);\n",
              "      filter: drop-shadow(0px 1px 2px rgba(0, 0, 0, 0.3));\n",
              "      fill: #FFFFFF;\n",
              "    }\n",
              "  </style>\n",
              "\n",
              "    <script>\n",
              "      const buttonEl =\n",
              "        document.querySelector('#df-ba7e737d-ed6f-4538-80cf-5ab244d29867 button.colab-df-convert');\n",
              "      buttonEl.style.display =\n",
              "        google.colab.kernel.accessAllowed ? 'block' : 'none';\n",
              "\n",
              "      async function convertToInteractive(key) {\n",
              "        const element = document.querySelector('#df-ba7e737d-ed6f-4538-80cf-5ab244d29867');\n",
              "        const dataTable =\n",
              "          await google.colab.kernel.invokeFunction('convertToInteractive',\n",
              "                                                    [key], {});\n",
              "        if (!dataTable) return;\n",
              "\n",
              "        const docLinkHtml = 'Like what you see? Visit the ' +\n",
              "          '<a target=\"_blank\" href=https://colab.research.google.com/notebooks/data_table.ipynb>data table notebook</a>'\n",
              "          + ' to learn more about interactive tables.';\n",
              "        element.innerHTML = '';\n",
              "        dataTable['output_type'] = 'display_data';\n",
              "        await google.colab.output.renderOutput(dataTable, element);\n",
              "        const docLink = document.createElement('div');\n",
              "        docLink.innerHTML = docLinkHtml;\n",
              "        element.appendChild(docLink);\n",
              "      }\n",
              "    </script>\n",
              "  </div>\n",
              "\n",
              "\n",
              "<div id=\"df-0183e0a4-72c2-4dc5-a21e-612bb1603816\">\n",
              "  <button class=\"colab-df-quickchart\" onclick=\"quickchart('df-0183e0a4-72c2-4dc5-a21e-612bb1603816')\"\n",
              "            title=\"Suggest charts\"\n",
              "            style=\"display:none;\">\n",
              "\n",
              "<svg xmlns=\"http://www.w3.org/2000/svg\" height=\"24px\"viewBox=\"0 0 24 24\"\n",
              "     width=\"24px\">\n",
              "    <g>\n",
              "        <path d=\"M19 3H5c-1.1 0-2 .9-2 2v14c0 1.1.9 2 2 2h14c1.1 0 2-.9 2-2V5c0-1.1-.9-2-2-2zM9 17H7v-7h2v7zm4 0h-2V7h2v10zm4 0h-2v-4h2v4z\"/>\n",
              "    </g>\n",
              "</svg>\n",
              "  </button>\n",
              "\n",
              "<style>\n",
              "  .colab-df-quickchart {\n",
              "      --bg-color: #E8F0FE;\n",
              "      --fill-color: #1967D2;\n",
              "      --hover-bg-color: #E2EBFA;\n",
              "      --hover-fill-color: #174EA6;\n",
              "      --disabled-fill-color: #AAA;\n",
              "      --disabled-bg-color: #DDD;\n",
              "  }\n",
              "\n",
              "  [theme=dark] .colab-df-quickchart {\n",
              "      --bg-color: #3B4455;\n",
              "      --fill-color: #D2E3FC;\n",
              "      --hover-bg-color: #434B5C;\n",
              "      --hover-fill-color: #FFFFFF;\n",
              "      --disabled-bg-color: #3B4455;\n",
              "      --disabled-fill-color: #666;\n",
              "  }\n",
              "\n",
              "  .colab-df-quickchart {\n",
              "    background-color: var(--bg-color);\n",
              "    border: none;\n",
              "    border-radius: 50%;\n",
              "    cursor: pointer;\n",
              "    display: none;\n",
              "    fill: var(--fill-color);\n",
              "    height: 32px;\n",
              "    padding: 0;\n",
              "    width: 32px;\n",
              "  }\n",
              "\n",
              "  .colab-df-quickchart:hover {\n",
              "    background-color: var(--hover-bg-color);\n",
              "    box-shadow: 0 1px 2px rgba(60, 64, 67, 0.3), 0 1px 3px 1px rgba(60, 64, 67, 0.15);\n",
              "    fill: var(--button-hover-fill-color);\n",
              "  }\n",
              "\n",
              "  .colab-df-quickchart-complete:disabled,\n",
              "  .colab-df-quickchart-complete:disabled:hover {\n",
              "    background-color: var(--disabled-bg-color);\n",
              "    fill: var(--disabled-fill-color);\n",
              "    box-shadow: none;\n",
              "  }\n",
              "\n",
              "  .colab-df-spinner {\n",
              "    border: 2px solid var(--fill-color);\n",
              "    border-color: transparent;\n",
              "    border-bottom-color: var(--fill-color);\n",
              "    animation:\n",
              "      spin 1s steps(1) infinite;\n",
              "  }\n",
              "\n",
              "  @keyframes spin {\n",
              "    0% {\n",
              "      border-color: transparent;\n",
              "      border-bottom-color: var(--fill-color);\n",
              "      border-left-color: var(--fill-color);\n",
              "    }\n",
              "    20% {\n",
              "      border-color: transparent;\n",
              "      border-left-color: var(--fill-color);\n",
              "      border-top-color: var(--fill-color);\n",
              "    }\n",
              "    30% {\n",
              "      border-color: transparent;\n",
              "      border-left-color: var(--fill-color);\n",
              "      border-top-color: var(--fill-color);\n",
              "      border-right-color: var(--fill-color);\n",
              "    }\n",
              "    40% {\n",
              "      border-color: transparent;\n",
              "      border-right-color: var(--fill-color);\n",
              "      border-top-color: var(--fill-color);\n",
              "    }\n",
              "    60% {\n",
              "      border-color: transparent;\n",
              "      border-right-color: var(--fill-color);\n",
              "    }\n",
              "    80% {\n",
              "      border-color: transparent;\n",
              "      border-right-color: var(--fill-color);\n",
              "      border-bottom-color: var(--fill-color);\n",
              "    }\n",
              "    90% {\n",
              "      border-color: transparent;\n",
              "      border-bottom-color: var(--fill-color);\n",
              "    }\n",
              "  }\n",
              "</style>\n",
              "\n",
              "  <script>\n",
              "    async function quickchart(key) {\n",
              "      const quickchartButtonEl =\n",
              "        document.querySelector('#' + key + ' button');\n",
              "      quickchartButtonEl.disabled = true;  // To prevent multiple clicks.\n",
              "      quickchartButtonEl.classList.add('colab-df-spinner');\n",
              "      try {\n",
              "        const charts = await google.colab.kernel.invokeFunction(\n",
              "            'suggestCharts', [key], {});\n",
              "      } catch (error) {\n",
              "        console.error('Error during call to suggestCharts:', error);\n",
              "      }\n",
              "      quickchartButtonEl.classList.remove('colab-df-spinner');\n",
              "      quickchartButtonEl.classList.add('colab-df-quickchart-complete');\n",
              "    }\n",
              "    (() => {\n",
              "      let quickchartButtonEl =\n",
              "        document.querySelector('#df-0183e0a4-72c2-4dc5-a21e-612bb1603816 button');\n",
              "      quickchartButtonEl.style.display =\n",
              "        google.colab.kernel.accessAllowed ? 'block' : 'none';\n",
              "    })();\n",
              "  </script>\n",
              "</div>\n",
              "\n",
              "    </div>\n",
              "  </div>\n"
            ],
            "application/vnd.google.colaboratory.intrinsic+json": {
              "type": "dataframe",
              "variable_name": "data_frame"
            }
          },
          "metadata": {},
          "execution_count": 8
        }
      ]
    },
    {
      "cell_type": "markdown",
      "source": [
        "Con la informacion anterior tenemos una buena comprencion de como estan organizados/distribuidos los datos.\n",
        "Tambien que los valores son coherentes con los que se espera."
      ],
      "metadata": {
        "id": "Mzq7WzpZjCmk"
      }
    },
    {
      "cell_type": "markdown",
      "source": [
        "## **GRUPO DE 5 FILAS**\n",
        "\n",
        "El método iloc[] en Pandas se utiliza para la indexación basada en la posición entera de las filas y columnas en un DataFrame. La palabra \"iloc\" significa \"indexación por localización entera\". Este método permite acceder a los datos utilizando números enteros para especificar la ubicación de las filas y columnas.\n",
        "\n",
        "Es útil cuando quieres acceder a los datos en un DataFrame basándote en su posición numérica, ya sea para seleccionar filas específicas, columnas específicas o segmentos del DataFrame. Esto puede ser útil cuando los índices no son necesariamente números enteros consecutivos o cuando necesitas acceder a los datos sin tener en cuenta los índices."
      ],
      "metadata": {
        "id": "RABj2_oY5A0n"
      }
    },
    {
      "cell_type": "code",
      "source": [
        "data_frame.iloc[6:11]"
      ],
      "metadata": {
        "colab": {
          "base_uri": "https://localhost:8080/",
          "height": 293
        },
        "id": "0YcE8gWM6ZRP",
        "outputId": "572f682c-5b04-4f02-c3dc-56d5ffd67608"
      },
      "execution_count": 9,
      "outputs": [
        {
          "output_type": "execute_result",
          "data": {
            "text/plain": [
              "              País Oficina de registro    Grupo edad  Edad (años)  \\\n",
              "13  ESTADOS UNIDOS          C. CHICAGO  ADULTO MAYOR           60   \n",
              "15         FRANCIA            C. PARIS        ADULTO           41   \n",
              "16       ARGENTINA     C. BUENOS AIRES        ADULTO           40   \n",
              "18  ESTADOS UNIDOS          C. CHICAGO  ADULTO MAYOR           67   \n",
              "20         ECUADOR       C. NUEVA LOJA  ADULTO MAYOR           80   \n",
              "\n",
              "   Área Conocimiento Sub Area Conocimiento                 Nivel Académico  \\\n",
              "13         NO INDICA             NO INDICA            POSTGRADO - MAESTRIA   \n",
              "15         NO INDICA             NO INDICA                    BACHILLERATO   \n",
              "16         NO INDICA             NO INDICA  PREGRADO - TÉCNICO PROFESIONAL   \n",
              "18         NO INDICA             NO INDICA                        PRIMARIA   \n",
              "20         NO INDICA             NO INDICA                        PRIMARIA   \n",
              "\n",
              "   Estado civil     Género   Etnia de la persona  Estatura (CM)  \\\n",
              "13       CASADO   FEMENINO  SIN ETNIA REGISTRADA            165   \n",
              "15      SOLTERO  MASCULINO               NINGUNA            170   \n",
              "16      SOLTERO   FEMENINO               NINGUNA            147   \n",
              "18      SOLTERO   FEMENINO               NINGUNA            151   \n",
              "20       CASADO  MASCULINO                  OTRO            165   \n",
              "\n",
              "    Cantidad de personas  \n",
              "13                     1  \n",
              "15                     1  \n",
              "16                     1  \n",
              "18                     1  \n",
              "20                     1  "
            ],
            "text/html": [
              "\n",
              "  <div id=\"df-5f0e7dbc-f805-4126-8b2a-6fd3273d0756\" class=\"colab-df-container\">\n",
              "    <div>\n",
              "<style scoped>\n",
              "    .dataframe tbody tr th:only-of-type {\n",
              "        vertical-align: middle;\n",
              "    }\n",
              "\n",
              "    .dataframe tbody tr th {\n",
              "        vertical-align: top;\n",
              "    }\n",
              "\n",
              "    .dataframe thead th {\n",
              "        text-align: right;\n",
              "    }\n",
              "</style>\n",
              "<table border=\"1\" class=\"dataframe\">\n",
              "  <thead>\n",
              "    <tr style=\"text-align: right;\">\n",
              "      <th></th>\n",
              "      <th>País</th>\n",
              "      <th>Oficina de registro</th>\n",
              "      <th>Grupo edad</th>\n",
              "      <th>Edad (años)</th>\n",
              "      <th>Área Conocimiento</th>\n",
              "      <th>Sub Area Conocimiento</th>\n",
              "      <th>Nivel Académico</th>\n",
              "      <th>Estado civil</th>\n",
              "      <th>Género</th>\n",
              "      <th>Etnia de la persona</th>\n",
              "      <th>Estatura (CM)</th>\n",
              "      <th>Cantidad de personas</th>\n",
              "    </tr>\n",
              "  </thead>\n",
              "  <tbody>\n",
              "    <tr>\n",
              "      <th>13</th>\n",
              "      <td>ESTADOS UNIDOS</td>\n",
              "      <td>C. CHICAGO</td>\n",
              "      <td>ADULTO MAYOR</td>\n",
              "      <td>60</td>\n",
              "      <td>NO INDICA</td>\n",
              "      <td>NO INDICA</td>\n",
              "      <td>POSTGRADO - MAESTRIA</td>\n",
              "      <td>CASADO</td>\n",
              "      <td>FEMENINO</td>\n",
              "      <td>SIN ETNIA REGISTRADA</td>\n",
              "      <td>165</td>\n",
              "      <td>1</td>\n",
              "    </tr>\n",
              "    <tr>\n",
              "      <th>15</th>\n",
              "      <td>FRANCIA</td>\n",
              "      <td>C. PARIS</td>\n",
              "      <td>ADULTO</td>\n",
              "      <td>41</td>\n",
              "      <td>NO INDICA</td>\n",
              "      <td>NO INDICA</td>\n",
              "      <td>BACHILLERATO</td>\n",
              "      <td>SOLTERO</td>\n",
              "      <td>MASCULINO</td>\n",
              "      <td>NINGUNA</td>\n",
              "      <td>170</td>\n",
              "      <td>1</td>\n",
              "    </tr>\n",
              "    <tr>\n",
              "      <th>16</th>\n",
              "      <td>ARGENTINA</td>\n",
              "      <td>C. BUENOS AIRES</td>\n",
              "      <td>ADULTO</td>\n",
              "      <td>40</td>\n",
              "      <td>NO INDICA</td>\n",
              "      <td>NO INDICA</td>\n",
              "      <td>PREGRADO - TÉCNICO PROFESIONAL</td>\n",
              "      <td>SOLTERO</td>\n",
              "      <td>FEMENINO</td>\n",
              "      <td>NINGUNA</td>\n",
              "      <td>147</td>\n",
              "      <td>1</td>\n",
              "    </tr>\n",
              "    <tr>\n",
              "      <th>18</th>\n",
              "      <td>ESTADOS UNIDOS</td>\n",
              "      <td>C. CHICAGO</td>\n",
              "      <td>ADULTO MAYOR</td>\n",
              "      <td>67</td>\n",
              "      <td>NO INDICA</td>\n",
              "      <td>NO INDICA</td>\n",
              "      <td>PRIMARIA</td>\n",
              "      <td>SOLTERO</td>\n",
              "      <td>FEMENINO</td>\n",
              "      <td>NINGUNA</td>\n",
              "      <td>151</td>\n",
              "      <td>1</td>\n",
              "    </tr>\n",
              "    <tr>\n",
              "      <th>20</th>\n",
              "      <td>ECUADOR</td>\n",
              "      <td>C. NUEVA LOJA</td>\n",
              "      <td>ADULTO MAYOR</td>\n",
              "      <td>80</td>\n",
              "      <td>NO INDICA</td>\n",
              "      <td>NO INDICA</td>\n",
              "      <td>PRIMARIA</td>\n",
              "      <td>CASADO</td>\n",
              "      <td>MASCULINO</td>\n",
              "      <td>OTRO</td>\n",
              "      <td>165</td>\n",
              "      <td>1</td>\n",
              "    </tr>\n",
              "  </tbody>\n",
              "</table>\n",
              "</div>\n",
              "    <div class=\"colab-df-buttons\">\n",
              "\n",
              "  <div class=\"colab-df-container\">\n",
              "    <button class=\"colab-df-convert\" onclick=\"convertToInteractive('df-5f0e7dbc-f805-4126-8b2a-6fd3273d0756')\"\n",
              "            title=\"Convert this dataframe to an interactive table.\"\n",
              "            style=\"display:none;\">\n",
              "\n",
              "  <svg xmlns=\"http://www.w3.org/2000/svg\" height=\"24px\" viewBox=\"0 -960 960 960\">\n",
              "    <path d=\"M120-120v-720h720v720H120Zm60-500h600v-160H180v160Zm220 220h160v-160H400v160Zm0 220h160v-160H400v160ZM180-400h160v-160H180v160Zm440 0h160v-160H620v160ZM180-180h160v-160H180v160Zm440 0h160v-160H620v160Z\"/>\n",
              "  </svg>\n",
              "    </button>\n",
              "\n",
              "  <style>\n",
              "    .colab-df-container {\n",
              "      display:flex;\n",
              "      gap: 12px;\n",
              "    }\n",
              "\n",
              "    .colab-df-convert {\n",
              "      background-color: #E8F0FE;\n",
              "      border: none;\n",
              "      border-radius: 50%;\n",
              "      cursor: pointer;\n",
              "      display: none;\n",
              "      fill: #1967D2;\n",
              "      height: 32px;\n",
              "      padding: 0 0 0 0;\n",
              "      width: 32px;\n",
              "    }\n",
              "\n",
              "    .colab-df-convert:hover {\n",
              "      background-color: #E2EBFA;\n",
              "      box-shadow: 0px 1px 2px rgba(60, 64, 67, 0.3), 0px 1px 3px 1px rgba(60, 64, 67, 0.15);\n",
              "      fill: #174EA6;\n",
              "    }\n",
              "\n",
              "    .colab-df-buttons div {\n",
              "      margin-bottom: 4px;\n",
              "    }\n",
              "\n",
              "    [theme=dark] .colab-df-convert {\n",
              "      background-color: #3B4455;\n",
              "      fill: #D2E3FC;\n",
              "    }\n",
              "\n",
              "    [theme=dark] .colab-df-convert:hover {\n",
              "      background-color: #434B5C;\n",
              "      box-shadow: 0px 1px 3px 1px rgba(0, 0, 0, 0.15);\n",
              "      filter: drop-shadow(0px 1px 2px rgba(0, 0, 0, 0.3));\n",
              "      fill: #FFFFFF;\n",
              "    }\n",
              "  </style>\n",
              "\n",
              "    <script>\n",
              "      const buttonEl =\n",
              "        document.querySelector('#df-5f0e7dbc-f805-4126-8b2a-6fd3273d0756 button.colab-df-convert');\n",
              "      buttonEl.style.display =\n",
              "        google.colab.kernel.accessAllowed ? 'block' : 'none';\n",
              "\n",
              "      async function convertToInteractive(key) {\n",
              "        const element = document.querySelector('#df-5f0e7dbc-f805-4126-8b2a-6fd3273d0756');\n",
              "        const dataTable =\n",
              "          await google.colab.kernel.invokeFunction('convertToInteractive',\n",
              "                                                    [key], {});\n",
              "        if (!dataTable) return;\n",
              "\n",
              "        const docLinkHtml = 'Like what you see? Visit the ' +\n",
              "          '<a target=\"_blank\" href=https://colab.research.google.com/notebooks/data_table.ipynb>data table notebook</a>'\n",
              "          + ' to learn more about interactive tables.';\n",
              "        element.innerHTML = '';\n",
              "        dataTable['output_type'] = 'display_data';\n",
              "        await google.colab.output.renderOutput(dataTable, element);\n",
              "        const docLink = document.createElement('div');\n",
              "        docLink.innerHTML = docLinkHtml;\n",
              "        element.appendChild(docLink);\n",
              "      }\n",
              "    </script>\n",
              "  </div>\n",
              "\n",
              "\n",
              "<div id=\"df-44cdb904-07fe-45e7-b090-aa092f8caea0\">\n",
              "  <button class=\"colab-df-quickchart\" onclick=\"quickchart('df-44cdb904-07fe-45e7-b090-aa092f8caea0')\"\n",
              "            title=\"Suggest charts\"\n",
              "            style=\"display:none;\">\n",
              "\n",
              "<svg xmlns=\"http://www.w3.org/2000/svg\" height=\"24px\"viewBox=\"0 0 24 24\"\n",
              "     width=\"24px\">\n",
              "    <g>\n",
              "        <path d=\"M19 3H5c-1.1 0-2 .9-2 2v14c0 1.1.9 2 2 2h14c1.1 0 2-.9 2-2V5c0-1.1-.9-2-2-2zM9 17H7v-7h2v7zm4 0h-2V7h2v10zm4 0h-2v-4h2v4z\"/>\n",
              "    </g>\n",
              "</svg>\n",
              "  </button>\n",
              "\n",
              "<style>\n",
              "  .colab-df-quickchart {\n",
              "      --bg-color: #E8F0FE;\n",
              "      --fill-color: #1967D2;\n",
              "      --hover-bg-color: #E2EBFA;\n",
              "      --hover-fill-color: #174EA6;\n",
              "      --disabled-fill-color: #AAA;\n",
              "      --disabled-bg-color: #DDD;\n",
              "  }\n",
              "\n",
              "  [theme=dark] .colab-df-quickchart {\n",
              "      --bg-color: #3B4455;\n",
              "      --fill-color: #D2E3FC;\n",
              "      --hover-bg-color: #434B5C;\n",
              "      --hover-fill-color: #FFFFFF;\n",
              "      --disabled-bg-color: #3B4455;\n",
              "      --disabled-fill-color: #666;\n",
              "  }\n",
              "\n",
              "  .colab-df-quickchart {\n",
              "    background-color: var(--bg-color);\n",
              "    border: none;\n",
              "    border-radius: 50%;\n",
              "    cursor: pointer;\n",
              "    display: none;\n",
              "    fill: var(--fill-color);\n",
              "    height: 32px;\n",
              "    padding: 0;\n",
              "    width: 32px;\n",
              "  }\n",
              "\n",
              "  .colab-df-quickchart:hover {\n",
              "    background-color: var(--hover-bg-color);\n",
              "    box-shadow: 0 1px 2px rgba(60, 64, 67, 0.3), 0 1px 3px 1px rgba(60, 64, 67, 0.15);\n",
              "    fill: var(--button-hover-fill-color);\n",
              "  }\n",
              "\n",
              "  .colab-df-quickchart-complete:disabled,\n",
              "  .colab-df-quickchart-complete:disabled:hover {\n",
              "    background-color: var(--disabled-bg-color);\n",
              "    fill: var(--disabled-fill-color);\n",
              "    box-shadow: none;\n",
              "  }\n",
              "\n",
              "  .colab-df-spinner {\n",
              "    border: 2px solid var(--fill-color);\n",
              "    border-color: transparent;\n",
              "    border-bottom-color: var(--fill-color);\n",
              "    animation:\n",
              "      spin 1s steps(1) infinite;\n",
              "  }\n",
              "\n",
              "  @keyframes spin {\n",
              "    0% {\n",
              "      border-color: transparent;\n",
              "      border-bottom-color: var(--fill-color);\n",
              "      border-left-color: var(--fill-color);\n",
              "    }\n",
              "    20% {\n",
              "      border-color: transparent;\n",
              "      border-left-color: var(--fill-color);\n",
              "      border-top-color: var(--fill-color);\n",
              "    }\n",
              "    30% {\n",
              "      border-color: transparent;\n",
              "      border-left-color: var(--fill-color);\n",
              "      border-top-color: var(--fill-color);\n",
              "      border-right-color: var(--fill-color);\n",
              "    }\n",
              "    40% {\n",
              "      border-color: transparent;\n",
              "      border-right-color: var(--fill-color);\n",
              "      border-top-color: var(--fill-color);\n",
              "    }\n",
              "    60% {\n",
              "      border-color: transparent;\n",
              "      border-right-color: var(--fill-color);\n",
              "    }\n",
              "    80% {\n",
              "      border-color: transparent;\n",
              "      border-right-color: var(--fill-color);\n",
              "      border-bottom-color: var(--fill-color);\n",
              "    }\n",
              "    90% {\n",
              "      border-color: transparent;\n",
              "      border-bottom-color: var(--fill-color);\n",
              "    }\n",
              "  }\n",
              "</style>\n",
              "\n",
              "  <script>\n",
              "    async function quickchart(key) {\n",
              "      const quickchartButtonEl =\n",
              "        document.querySelector('#' + key + ' button');\n",
              "      quickchartButtonEl.disabled = true;  // To prevent multiple clicks.\n",
              "      quickchartButtonEl.classList.add('colab-df-spinner');\n",
              "      try {\n",
              "        const charts = await google.colab.kernel.invokeFunction(\n",
              "            'suggestCharts', [key], {});\n",
              "      } catch (error) {\n",
              "        console.error('Error during call to suggestCharts:', error);\n",
              "      }\n",
              "      quickchartButtonEl.classList.remove('colab-df-spinner');\n",
              "      quickchartButtonEl.classList.add('colab-df-quickchart-complete');\n",
              "    }\n",
              "    (() => {\n",
              "      let quickchartButtonEl =\n",
              "        document.querySelector('#df-44cdb904-07fe-45e7-b090-aa092f8caea0 button');\n",
              "      quickchartButtonEl.style.display =\n",
              "        google.colab.kernel.accessAllowed ? 'block' : 'none';\n",
              "    })();\n",
              "  </script>\n",
              "</div>\n",
              "\n",
              "    </div>\n",
              "  </div>\n"
            ],
            "application/vnd.google.colaboratory.intrinsic+json": {
              "type": "dataframe",
              "summary": "{\n  \"name\": \"data_frame\",\n  \"rows\": 5,\n  \"fields\": [\n    {\n      \"column\": \"Pa\\u00eds\",\n      \"properties\": {\n        \"dtype\": \"string\",\n        \"num_unique_values\": 4,\n        \"samples\": [\n          \"FRANCIA\",\n          \"ECUADOR\",\n          \"ESTADOS UNIDOS\"\n        ],\n        \"semantic_type\": \"\",\n        \"description\": \"\"\n      }\n    },\n    {\n      \"column\": \"Oficina de registro\",\n      \"properties\": {\n        \"dtype\": \"string\",\n        \"num_unique_values\": 4,\n        \"samples\": [\n          \"C. PARIS\",\n          \"C. NUEVA LOJA\",\n          \"C. CHICAGO\"\n        ],\n        \"semantic_type\": \"\",\n        \"description\": \"\"\n      }\n    },\n    {\n      \"column\": \"Grupo edad\",\n      \"properties\": {\n        \"dtype\": \"category\",\n        \"num_unique_values\": 2,\n        \"samples\": [\n          \"ADULTO\",\n          \"ADULTO MAYOR\"\n        ],\n        \"semantic_type\": \"\",\n        \"description\": \"\"\n      }\n    },\n    {\n      \"column\": \"Edad (a\\u00f1os)\",\n      \"properties\": {\n        \"dtype\": \"number\",\n        \"std\": 17,\n        \"min\": 40,\n        \"max\": 80,\n        \"num_unique_values\": 5,\n        \"samples\": [\n          41,\n          80\n        ],\n        \"semantic_type\": \"\",\n        \"description\": \"\"\n      }\n    },\n    {\n      \"column\": \"\\u00c1rea Conocimiento\",\n      \"properties\": {\n        \"dtype\": \"category\",\n        \"num_unique_values\": 1,\n        \"samples\": [\n          \"NO INDICA\"\n        ],\n        \"semantic_type\": \"\",\n        \"description\": \"\"\n      }\n    },\n    {\n      \"column\": \"Sub Area Conocimiento\",\n      \"properties\": {\n        \"dtype\": \"category\",\n        \"num_unique_values\": 1,\n        \"samples\": [\n          \"NO INDICA\"\n        ],\n        \"semantic_type\": \"\",\n        \"description\": \"\"\n      }\n    },\n    {\n      \"column\": \"Nivel Acad\\u00e9mico\",\n      \"properties\": {\n        \"dtype\": \"string\",\n        \"num_unique_values\": 4,\n        \"samples\": [\n          \"BACHILLERATO\"\n        ],\n        \"semantic_type\": \"\",\n        \"description\": \"\"\n      }\n    },\n    {\n      \"column\": \"Estado civil\",\n      \"properties\": {\n        \"dtype\": \"category\",\n        \"num_unique_values\": 2,\n        \"samples\": [\n          \"SOLTERO\"\n        ],\n        \"semantic_type\": \"\",\n        \"description\": \"\"\n      }\n    },\n    {\n      \"column\": \"G\\u00e9nero\",\n      \"properties\": {\n        \"dtype\": \"category\",\n        \"num_unique_values\": 2,\n        \"samples\": [\n          \"MASCULINO\"\n        ],\n        \"semantic_type\": \"\",\n        \"description\": \"\"\n      }\n    },\n    {\n      \"column\": \"Etnia de la persona\",\n      \"properties\": {\n        \"dtype\": \"string\",\n        \"num_unique_values\": 3,\n        \"samples\": [\n          \"SIN ETNIA REGISTRADA\"\n        ],\n        \"semantic_type\": \"\",\n        \"description\": \"\"\n      }\n    },\n    {\n      \"column\": \"Estatura (CM)\",\n      \"properties\": {\n        \"dtype\": \"number\",\n        \"std\": 9,\n        \"min\": 147,\n        \"max\": 170,\n        \"num_unique_values\": 4,\n        \"samples\": [\n          170\n        ],\n        \"semantic_type\": \"\",\n        \"description\": \"\"\n      }\n    },\n    {\n      \"column\": \"Cantidad de personas\",\n      \"properties\": {\n        \"dtype\": \"number\",\n        \"std\": 0,\n        \"min\": 1,\n        \"max\": 1,\n        \"num_unique_values\": 1,\n        \"samples\": [\n          1\n        ],\n        \"semantic_type\": \"\",\n        \"description\": \"\"\n      }\n    }\n  ]\n}"
            }
          },
          "metadata": {},
          "execution_count": 9
        }
      ]
    },
    {
      "cell_type": "markdown",
      "source": [
        "Segunda verificacion con otro grupo de datos.\n",
        "Con el cual verificamos que los valores son coherentes con los que se espera."
      ],
      "metadata": {
        "id": "6fJ8GGcOjOwS"
      }
    },
    {
      "cell_type": "markdown",
      "source": [
        "## **GRUPO DE 5 COLUMNAS**\n",
        "\n",
        "El método iloc[] en Pandas se utiliza para indexar y seleccionar datos de un DataFrame basándose en su posición entera, tanto para filas como para columnas. Sin embargo, cuando se utiliza para seleccionar columnas, se especifican las posiciones de las columnas en lugar de las filas."
      ],
      "metadata": {
        "id": "oULPh6-b7Obp"
      }
    },
    {
      "cell_type": "code",
      "source": [
        "# data_frame.iloc[:, :5]\n",
        "data_frame[['País',\"Edad (años)\", \"Área Conocimiento\", 'Estatura (CM)', 'Género']].head()"
      ],
      "metadata": {
        "colab": {
          "base_uri": "https://localhost:8080/",
          "height": 206
        },
        "id": "Em6ACPOj7PGj",
        "outputId": "ab325727-dd89-4678-a413-0494caf89b5f"
      },
      "execution_count": 10,
      "outputs": [
        {
          "output_type": "execute_result",
          "data": {
            "text/plain": [
              "             País  Edad (años) Área Conocimiento  Estatura (CM)     Género\n",
              "1       VENEZUELA           52         NO INDICA            151   FEMENINO\n",
              "2          ESPAÑA           43         NO INDICA            172  MASCULINO\n",
              "5  ESTADOS UNIDOS           56         NO INDICA            158   FEMENINO\n",
              "8  ESTADOS UNIDOS           37         NO INDICA            161   FEMENINO\n",
              "9         ECUADOR           32           NINGUNA            152   FEMENINO"
            ],
            "text/html": [
              "\n",
              "  <div id=\"df-8f333196-aae8-47bd-9247-eb1d59a2616e\" class=\"colab-df-container\">\n",
              "    <div>\n",
              "<style scoped>\n",
              "    .dataframe tbody tr th:only-of-type {\n",
              "        vertical-align: middle;\n",
              "    }\n",
              "\n",
              "    .dataframe tbody tr th {\n",
              "        vertical-align: top;\n",
              "    }\n",
              "\n",
              "    .dataframe thead th {\n",
              "        text-align: right;\n",
              "    }\n",
              "</style>\n",
              "<table border=\"1\" class=\"dataframe\">\n",
              "  <thead>\n",
              "    <tr style=\"text-align: right;\">\n",
              "      <th></th>\n",
              "      <th>País</th>\n",
              "      <th>Edad (años)</th>\n",
              "      <th>Área Conocimiento</th>\n",
              "      <th>Estatura (CM)</th>\n",
              "      <th>Género</th>\n",
              "    </tr>\n",
              "  </thead>\n",
              "  <tbody>\n",
              "    <tr>\n",
              "      <th>1</th>\n",
              "      <td>VENEZUELA</td>\n",
              "      <td>52</td>\n",
              "      <td>NO INDICA</td>\n",
              "      <td>151</td>\n",
              "      <td>FEMENINO</td>\n",
              "    </tr>\n",
              "    <tr>\n",
              "      <th>2</th>\n",
              "      <td>ESPAÑA</td>\n",
              "      <td>43</td>\n",
              "      <td>NO INDICA</td>\n",
              "      <td>172</td>\n",
              "      <td>MASCULINO</td>\n",
              "    </tr>\n",
              "    <tr>\n",
              "      <th>5</th>\n",
              "      <td>ESTADOS UNIDOS</td>\n",
              "      <td>56</td>\n",
              "      <td>NO INDICA</td>\n",
              "      <td>158</td>\n",
              "      <td>FEMENINO</td>\n",
              "    </tr>\n",
              "    <tr>\n",
              "      <th>8</th>\n",
              "      <td>ESTADOS UNIDOS</td>\n",
              "      <td>37</td>\n",
              "      <td>NO INDICA</td>\n",
              "      <td>161</td>\n",
              "      <td>FEMENINO</td>\n",
              "    </tr>\n",
              "    <tr>\n",
              "      <th>9</th>\n",
              "      <td>ECUADOR</td>\n",
              "      <td>32</td>\n",
              "      <td>NINGUNA</td>\n",
              "      <td>152</td>\n",
              "      <td>FEMENINO</td>\n",
              "    </tr>\n",
              "  </tbody>\n",
              "</table>\n",
              "</div>\n",
              "    <div class=\"colab-df-buttons\">\n",
              "\n",
              "  <div class=\"colab-df-container\">\n",
              "    <button class=\"colab-df-convert\" onclick=\"convertToInteractive('df-8f333196-aae8-47bd-9247-eb1d59a2616e')\"\n",
              "            title=\"Convert this dataframe to an interactive table.\"\n",
              "            style=\"display:none;\">\n",
              "\n",
              "  <svg xmlns=\"http://www.w3.org/2000/svg\" height=\"24px\" viewBox=\"0 -960 960 960\">\n",
              "    <path d=\"M120-120v-720h720v720H120Zm60-500h600v-160H180v160Zm220 220h160v-160H400v160Zm0 220h160v-160H400v160ZM180-400h160v-160H180v160Zm440 0h160v-160H620v160ZM180-180h160v-160H180v160Zm440 0h160v-160H620v160Z\"/>\n",
              "  </svg>\n",
              "    </button>\n",
              "\n",
              "  <style>\n",
              "    .colab-df-container {\n",
              "      display:flex;\n",
              "      gap: 12px;\n",
              "    }\n",
              "\n",
              "    .colab-df-convert {\n",
              "      background-color: #E8F0FE;\n",
              "      border: none;\n",
              "      border-radius: 50%;\n",
              "      cursor: pointer;\n",
              "      display: none;\n",
              "      fill: #1967D2;\n",
              "      height: 32px;\n",
              "      padding: 0 0 0 0;\n",
              "      width: 32px;\n",
              "    }\n",
              "\n",
              "    .colab-df-convert:hover {\n",
              "      background-color: #E2EBFA;\n",
              "      box-shadow: 0px 1px 2px rgba(60, 64, 67, 0.3), 0px 1px 3px 1px rgba(60, 64, 67, 0.15);\n",
              "      fill: #174EA6;\n",
              "    }\n",
              "\n",
              "    .colab-df-buttons div {\n",
              "      margin-bottom: 4px;\n",
              "    }\n",
              "\n",
              "    [theme=dark] .colab-df-convert {\n",
              "      background-color: #3B4455;\n",
              "      fill: #D2E3FC;\n",
              "    }\n",
              "\n",
              "    [theme=dark] .colab-df-convert:hover {\n",
              "      background-color: #434B5C;\n",
              "      box-shadow: 0px 1px 3px 1px rgba(0, 0, 0, 0.15);\n",
              "      filter: drop-shadow(0px 1px 2px rgba(0, 0, 0, 0.3));\n",
              "      fill: #FFFFFF;\n",
              "    }\n",
              "  </style>\n",
              "\n",
              "    <script>\n",
              "      const buttonEl =\n",
              "        document.querySelector('#df-8f333196-aae8-47bd-9247-eb1d59a2616e button.colab-df-convert');\n",
              "      buttonEl.style.display =\n",
              "        google.colab.kernel.accessAllowed ? 'block' : 'none';\n",
              "\n",
              "      async function convertToInteractive(key) {\n",
              "        const element = document.querySelector('#df-8f333196-aae8-47bd-9247-eb1d59a2616e');\n",
              "        const dataTable =\n",
              "          await google.colab.kernel.invokeFunction('convertToInteractive',\n",
              "                                                    [key], {});\n",
              "        if (!dataTable) return;\n",
              "\n",
              "        const docLinkHtml = 'Like what you see? Visit the ' +\n",
              "          '<a target=\"_blank\" href=https://colab.research.google.com/notebooks/data_table.ipynb>data table notebook</a>'\n",
              "          + ' to learn more about interactive tables.';\n",
              "        element.innerHTML = '';\n",
              "        dataTable['output_type'] = 'display_data';\n",
              "        await google.colab.output.renderOutput(dataTable, element);\n",
              "        const docLink = document.createElement('div');\n",
              "        docLink.innerHTML = docLinkHtml;\n",
              "        element.appendChild(docLink);\n",
              "      }\n",
              "    </script>\n",
              "  </div>\n",
              "\n",
              "\n",
              "<div id=\"df-6cf03ce2-bb10-4fda-bad6-65d41b5619e9\">\n",
              "  <button class=\"colab-df-quickchart\" onclick=\"quickchart('df-6cf03ce2-bb10-4fda-bad6-65d41b5619e9')\"\n",
              "            title=\"Suggest charts\"\n",
              "            style=\"display:none;\">\n",
              "\n",
              "<svg xmlns=\"http://www.w3.org/2000/svg\" height=\"24px\"viewBox=\"0 0 24 24\"\n",
              "     width=\"24px\">\n",
              "    <g>\n",
              "        <path d=\"M19 3H5c-1.1 0-2 .9-2 2v14c0 1.1.9 2 2 2h14c1.1 0 2-.9 2-2V5c0-1.1-.9-2-2-2zM9 17H7v-7h2v7zm4 0h-2V7h2v10zm4 0h-2v-4h2v4z\"/>\n",
              "    </g>\n",
              "</svg>\n",
              "  </button>\n",
              "\n",
              "<style>\n",
              "  .colab-df-quickchart {\n",
              "      --bg-color: #E8F0FE;\n",
              "      --fill-color: #1967D2;\n",
              "      --hover-bg-color: #E2EBFA;\n",
              "      --hover-fill-color: #174EA6;\n",
              "      --disabled-fill-color: #AAA;\n",
              "      --disabled-bg-color: #DDD;\n",
              "  }\n",
              "\n",
              "  [theme=dark] .colab-df-quickchart {\n",
              "      --bg-color: #3B4455;\n",
              "      --fill-color: #D2E3FC;\n",
              "      --hover-bg-color: #434B5C;\n",
              "      --hover-fill-color: #FFFFFF;\n",
              "      --disabled-bg-color: #3B4455;\n",
              "      --disabled-fill-color: #666;\n",
              "  }\n",
              "\n",
              "  .colab-df-quickchart {\n",
              "    background-color: var(--bg-color);\n",
              "    border: none;\n",
              "    border-radius: 50%;\n",
              "    cursor: pointer;\n",
              "    display: none;\n",
              "    fill: var(--fill-color);\n",
              "    height: 32px;\n",
              "    padding: 0;\n",
              "    width: 32px;\n",
              "  }\n",
              "\n",
              "  .colab-df-quickchart:hover {\n",
              "    background-color: var(--hover-bg-color);\n",
              "    box-shadow: 0 1px 2px rgba(60, 64, 67, 0.3), 0 1px 3px 1px rgba(60, 64, 67, 0.15);\n",
              "    fill: var(--button-hover-fill-color);\n",
              "  }\n",
              "\n",
              "  .colab-df-quickchart-complete:disabled,\n",
              "  .colab-df-quickchart-complete:disabled:hover {\n",
              "    background-color: var(--disabled-bg-color);\n",
              "    fill: var(--disabled-fill-color);\n",
              "    box-shadow: none;\n",
              "  }\n",
              "\n",
              "  .colab-df-spinner {\n",
              "    border: 2px solid var(--fill-color);\n",
              "    border-color: transparent;\n",
              "    border-bottom-color: var(--fill-color);\n",
              "    animation:\n",
              "      spin 1s steps(1) infinite;\n",
              "  }\n",
              "\n",
              "  @keyframes spin {\n",
              "    0% {\n",
              "      border-color: transparent;\n",
              "      border-bottom-color: var(--fill-color);\n",
              "      border-left-color: var(--fill-color);\n",
              "    }\n",
              "    20% {\n",
              "      border-color: transparent;\n",
              "      border-left-color: var(--fill-color);\n",
              "      border-top-color: var(--fill-color);\n",
              "    }\n",
              "    30% {\n",
              "      border-color: transparent;\n",
              "      border-left-color: var(--fill-color);\n",
              "      border-top-color: var(--fill-color);\n",
              "      border-right-color: var(--fill-color);\n",
              "    }\n",
              "    40% {\n",
              "      border-color: transparent;\n",
              "      border-right-color: var(--fill-color);\n",
              "      border-top-color: var(--fill-color);\n",
              "    }\n",
              "    60% {\n",
              "      border-color: transparent;\n",
              "      border-right-color: var(--fill-color);\n",
              "    }\n",
              "    80% {\n",
              "      border-color: transparent;\n",
              "      border-right-color: var(--fill-color);\n",
              "      border-bottom-color: var(--fill-color);\n",
              "    }\n",
              "    90% {\n",
              "      border-color: transparent;\n",
              "      border-bottom-color: var(--fill-color);\n",
              "    }\n",
              "  }\n",
              "</style>\n",
              "\n",
              "  <script>\n",
              "    async function quickchart(key) {\n",
              "      const quickchartButtonEl =\n",
              "        document.querySelector('#' + key + ' button');\n",
              "      quickchartButtonEl.disabled = true;  // To prevent multiple clicks.\n",
              "      quickchartButtonEl.classList.add('colab-df-spinner');\n",
              "      try {\n",
              "        const charts = await google.colab.kernel.invokeFunction(\n",
              "            'suggestCharts', [key], {});\n",
              "      } catch (error) {\n",
              "        console.error('Error during call to suggestCharts:', error);\n",
              "      }\n",
              "      quickchartButtonEl.classList.remove('colab-df-spinner');\n",
              "      quickchartButtonEl.classList.add('colab-df-quickchart-complete');\n",
              "    }\n",
              "    (() => {\n",
              "      let quickchartButtonEl =\n",
              "        document.querySelector('#df-6cf03ce2-bb10-4fda-bad6-65d41b5619e9 button');\n",
              "      quickchartButtonEl.style.display =\n",
              "        google.colab.kernel.accessAllowed ? 'block' : 'none';\n",
              "    })();\n",
              "  </script>\n",
              "</div>\n",
              "\n",
              "    </div>\n",
              "  </div>\n"
            ],
            "application/vnd.google.colaboratory.intrinsic+json": {
              "type": "dataframe",
              "summary": "{\n  \"name\": \"data_frame[['Pa\\u00eds',\\\"Edad (a\\u00f1os)\\\", \\\"\\u00c1rea Conocimiento\\\", 'Estatura (CM)', 'G\\u00e9nero']]\",\n  \"rows\": 5,\n  \"fields\": [\n    {\n      \"column\": \"Pa\\u00eds\",\n      \"properties\": {\n        \"dtype\": \"string\",\n        \"num_unique_values\": 4,\n        \"samples\": [\n          \"ESPA\\u00d1A\",\n          \"ECUADOR\",\n          \"VENEZUELA\"\n        ],\n        \"semantic_type\": \"\",\n        \"description\": \"\"\n      }\n    },\n    {\n      \"column\": \"Edad (a\\u00f1os)\",\n      \"properties\": {\n        \"dtype\": \"number\",\n        \"std\": 10,\n        \"min\": 32,\n        \"max\": 56,\n        \"num_unique_values\": 5,\n        \"samples\": [\n          43,\n          32,\n          56\n        ],\n        \"semantic_type\": \"\",\n        \"description\": \"\"\n      }\n    },\n    {\n      \"column\": \"\\u00c1rea Conocimiento\",\n      \"properties\": {\n        \"dtype\": \"category\",\n        \"num_unique_values\": 2,\n        \"samples\": [\n          \"NINGUNA\",\n          \"NO INDICA\"\n        ],\n        \"semantic_type\": \"\",\n        \"description\": \"\"\n      }\n    },\n    {\n      \"column\": \"Estatura (CM)\",\n      \"properties\": {\n        \"dtype\": \"number\",\n        \"std\": 8,\n        \"min\": 151,\n        \"max\": 172,\n        \"num_unique_values\": 5,\n        \"samples\": [\n          172,\n          152\n        ],\n        \"semantic_type\": \"\",\n        \"description\": \"\"\n      }\n    },\n    {\n      \"column\": \"G\\u00e9nero\",\n      \"properties\": {\n        \"dtype\": \"category\",\n        \"num_unique_values\": 2,\n        \"samples\": [\n          \"MASCULINO\",\n          \"FEMENINO\"\n        ],\n        \"semantic_type\": \"\",\n        \"description\": \"\"\n      }\n    }\n  ]\n}"
            }
          },
          "metadata": {},
          "execution_count": 10
        }
      ]
    },
    {
      "cell_type": "markdown",
      "source": [
        "## **3 CAMPOS DE VARIABLE CUANTITATIVA**\n",
        "\n",
        "PARA LOS SIGUIENTES CAMPOS:\n",
        "1.   Edad (años).\n",
        "2.   Estatura (CM).\n",
        "3.   Cantidad de personas.\n",
        "\n",
        "SE REALIZA:\n",
        "1.   Media\n",
        "2.   Moda\n",
        "3.   Mediana\n",
        "4.   Máximo\n",
        "5.   Mínimo\n",
        "6.   Caja de bigote\n",
        "7.   Histograma"
      ],
      "metadata": {
        "id": "CLpXAN3A9xhc"
      }
    },
    {
      "cell_type": "markdown",
      "source": [
        "##### **MEDIA**\n",
        "\n",
        "La media aritmética se define como la suma de N elementos dividida entre N. Se trata una medida bastante conocida entre la gente, aunque tiene el inconveniente de que es muy susceptible a valores extremos. En pandas, el método que funciona para obtener el promedio o la media es mean()."
      ],
      "metadata": {
        "id": "9EFkF10iGPn2"
      }
    },
    {
      "cell_type": "code",
      "source": [
        "promedio = data_frame.loc[:, ['Edad (años)', 'Estatura (CM)', 'Cantidad de personas']].mean()\n",
        "print(\"Promedio por columna:\\n\", promedio)"
      ],
      "metadata": {
        "colab": {
          "base_uri": "https://localhost:8080/"
        },
        "id": "sq57dKUgOH0R",
        "outputId": "99abd209-5da9-4ccd-c3ee-ffbb877c0a7d"
      },
      "execution_count": 11,
      "outputs": [
        {
          "output_type": "stream",
          "name": "stdout",
          "text": [
            "Promedio por columna:\n",
            " Edad (años)              49.395987\n",
            "Estatura (CM)           164.234299\n",
            "Cantidad de personas      1.117436\n",
            "dtype: float64\n"
          ]
        }
      ]
    },
    {
      "cell_type": "markdown",
      "source": [
        "\n",
        "**Mas del 50% de las personas es adulta o adulto mayor.**\n",
        "\n",
        "**Mas del 50% de las personas cumplen con las condiciones geograficas en su localidad.**\n",
        "\n",
        "**Edad (años):** El promedio de edad es aproximadamente 49.4 años. Esto sugiere que, en promedio, las personas en el conjunto de datos tienen alrededor de 49 años. Sin embargo, es importante tener en cuenta que la media puede verse afectada por valores extremos, por lo que aunque este sea el valor central, puede no representar exactamente la edad típica de las personas en el conjunto de datos.\n",
        "\n",
        "**Estatura (CM):** La estatura promedio es de aproximadamente 164.2 centímetros. Esto indica que, en promedio, las personas en el conjunto de datos tienen esta altura. Nuevamente, es importante tener en cuenta que pueden existir valores atípicos que afecten este valor.\n",
        "\n",
        "**Cantidad de personas:** El promedio de cantidad de personas es alrededor de 1.12. Esta columna probablemente representa alguna medida de frecuencia o cantidad de algo en el conjunto de datos. En este caso, el promedio sugiere que, en promedio, hay alrededor de 1.12 de estas \"entidades\" en cada observación. Dependiendo del contexto, esto puede tener diferentes interpretaciones, pero podría significar que la presencia de estas entidades es relativamente baja en general."
      ],
      "metadata": {
        "id": "IJplC6zlkkEJ"
      }
    },
    {
      "cell_type": "markdown",
      "source": [
        "##### **MODA**\n",
        "\n",
        "En Pandas, el método mode() se utiliza para calcular la moda de un DataFrame o de una Serie. La moda representa el valor que aparece con mayor frecuencia en un conjunto de datos.\n",
        "\n",
        "Cuando aplicas mode() a un DataFrame, el método devuelve un nuevo DataFrame que contiene las modas de cada columna. Si hay varios valores que son igualmente frecuentes y son la moda, mode() devolverá todos esos valores."
      ],
      "metadata": {
        "id": "b-hFHwCYdxRJ"
      }
    },
    {
      "cell_type": "code",
      "source": [
        "print(\"Moda por columna:\\n\")\n",
        "data_frame.loc[:, ['Edad (años)', 'Estatura (CM)', 'Cantidad de personas']].mode()"
      ],
      "metadata": {
        "colab": {
          "base_uri": "https://localhost:8080/",
          "height": 115
        },
        "id": "ugp5Rjh2eWYx",
        "outputId": "b839fcba-94ae-4222-b70c-fbfe9747cb36"
      },
      "execution_count": 12,
      "outputs": [
        {
          "output_type": "stream",
          "name": "stdout",
          "text": [
            "Moda por columna:\n",
            "\n"
          ]
        },
        {
          "output_type": "execute_result",
          "data": {
            "text/plain": [
              "   Edad (años)  Estatura (CM)  Cantidad de personas\n",
              "0           44            160                     1"
            ],
            "text/html": [
              "\n",
              "  <div id=\"df-5d553cd8-b5b4-4574-a408-8c91ff6644f3\" class=\"colab-df-container\">\n",
              "    <div>\n",
              "<style scoped>\n",
              "    .dataframe tbody tr th:only-of-type {\n",
              "        vertical-align: middle;\n",
              "    }\n",
              "\n",
              "    .dataframe tbody tr th {\n",
              "        vertical-align: top;\n",
              "    }\n",
              "\n",
              "    .dataframe thead th {\n",
              "        text-align: right;\n",
              "    }\n",
              "</style>\n",
              "<table border=\"1\" class=\"dataframe\">\n",
              "  <thead>\n",
              "    <tr style=\"text-align: right;\">\n",
              "      <th></th>\n",
              "      <th>Edad (años)</th>\n",
              "      <th>Estatura (CM)</th>\n",
              "      <th>Cantidad de personas</th>\n",
              "    </tr>\n",
              "  </thead>\n",
              "  <tbody>\n",
              "    <tr>\n",
              "      <th>0</th>\n",
              "      <td>44</td>\n",
              "      <td>160</td>\n",
              "      <td>1</td>\n",
              "    </tr>\n",
              "  </tbody>\n",
              "</table>\n",
              "</div>\n",
              "    <div class=\"colab-df-buttons\">\n",
              "\n",
              "  <div class=\"colab-df-container\">\n",
              "    <button class=\"colab-df-convert\" onclick=\"convertToInteractive('df-5d553cd8-b5b4-4574-a408-8c91ff6644f3')\"\n",
              "            title=\"Convert this dataframe to an interactive table.\"\n",
              "            style=\"display:none;\">\n",
              "\n",
              "  <svg xmlns=\"http://www.w3.org/2000/svg\" height=\"24px\" viewBox=\"0 -960 960 960\">\n",
              "    <path d=\"M120-120v-720h720v720H120Zm60-500h600v-160H180v160Zm220 220h160v-160H400v160Zm0 220h160v-160H400v160ZM180-400h160v-160H180v160Zm440 0h160v-160H620v160ZM180-180h160v-160H180v160Zm440 0h160v-160H620v160Z\"/>\n",
              "  </svg>\n",
              "    </button>\n",
              "\n",
              "  <style>\n",
              "    .colab-df-container {\n",
              "      display:flex;\n",
              "      gap: 12px;\n",
              "    }\n",
              "\n",
              "    .colab-df-convert {\n",
              "      background-color: #E8F0FE;\n",
              "      border: none;\n",
              "      border-radius: 50%;\n",
              "      cursor: pointer;\n",
              "      display: none;\n",
              "      fill: #1967D2;\n",
              "      height: 32px;\n",
              "      padding: 0 0 0 0;\n",
              "      width: 32px;\n",
              "    }\n",
              "\n",
              "    .colab-df-convert:hover {\n",
              "      background-color: #E2EBFA;\n",
              "      box-shadow: 0px 1px 2px rgba(60, 64, 67, 0.3), 0px 1px 3px 1px rgba(60, 64, 67, 0.15);\n",
              "      fill: #174EA6;\n",
              "    }\n",
              "\n",
              "    .colab-df-buttons div {\n",
              "      margin-bottom: 4px;\n",
              "    }\n",
              "\n",
              "    [theme=dark] .colab-df-convert {\n",
              "      background-color: #3B4455;\n",
              "      fill: #D2E3FC;\n",
              "    }\n",
              "\n",
              "    [theme=dark] .colab-df-convert:hover {\n",
              "      background-color: #434B5C;\n",
              "      box-shadow: 0px 1px 3px 1px rgba(0, 0, 0, 0.15);\n",
              "      filter: drop-shadow(0px 1px 2px rgba(0, 0, 0, 0.3));\n",
              "      fill: #FFFFFF;\n",
              "    }\n",
              "  </style>\n",
              "\n",
              "    <script>\n",
              "      const buttonEl =\n",
              "        document.querySelector('#df-5d553cd8-b5b4-4574-a408-8c91ff6644f3 button.colab-df-convert');\n",
              "      buttonEl.style.display =\n",
              "        google.colab.kernel.accessAllowed ? 'block' : 'none';\n",
              "\n",
              "      async function convertToInteractive(key) {\n",
              "        const element = document.querySelector('#df-5d553cd8-b5b4-4574-a408-8c91ff6644f3');\n",
              "        const dataTable =\n",
              "          await google.colab.kernel.invokeFunction('convertToInteractive',\n",
              "                                                    [key], {});\n",
              "        if (!dataTable) return;\n",
              "\n",
              "        const docLinkHtml = 'Like what you see? Visit the ' +\n",
              "          '<a target=\"_blank\" href=https://colab.research.google.com/notebooks/data_table.ipynb>data table notebook</a>'\n",
              "          + ' to learn more about interactive tables.';\n",
              "        element.innerHTML = '';\n",
              "        dataTable['output_type'] = 'display_data';\n",
              "        await google.colab.output.renderOutput(dataTable, element);\n",
              "        const docLink = document.createElement('div');\n",
              "        docLink.innerHTML = docLinkHtml;\n",
              "        element.appendChild(docLink);\n",
              "      }\n",
              "    </script>\n",
              "  </div>\n",
              "\n",
              "\n",
              "    </div>\n",
              "  </div>\n"
            ],
            "application/vnd.google.colaboratory.intrinsic+json": {
              "type": "dataframe",
              "summary": "{\n  \"name\": \"data_frame\",\n  \"rows\": 1,\n  \"fields\": [\n    {\n      \"column\": \"Edad (a\\u00f1os)\",\n      \"properties\": {\n        \"dtype\": \"number\",\n        \"std\": null,\n        \"min\": 44,\n        \"max\": 44,\n        \"num_unique_values\": 1,\n        \"samples\": [\n          44\n        ],\n        \"semantic_type\": \"\",\n        \"description\": \"\"\n      }\n    },\n    {\n      \"column\": \"Estatura (CM)\",\n      \"properties\": {\n        \"dtype\": \"number\",\n        \"std\": null,\n        \"min\": 160,\n        \"max\": 160,\n        \"num_unique_values\": 1,\n        \"samples\": [\n          160\n        ],\n        \"semantic_type\": \"\",\n        \"description\": \"\"\n      }\n    },\n    {\n      \"column\": \"Cantidad de personas\",\n      \"properties\": {\n        \"dtype\": \"number\",\n        \"std\": null,\n        \"min\": 1,\n        \"max\": 1,\n        \"num_unique_values\": 1,\n        \"samples\": [\n          1\n        ],\n        \"semantic_type\": \"\",\n        \"description\": \"\"\n      }\n    }\n  ]\n}"
            }
          },
          "metadata": {},
          "execution_count": 12
        }
      ]
    },
    {
      "cell_type": "markdown",
      "source": [
        "**Más del 50% de las personas es mayor de edad.**\n",
        "**En base al promedio (Mayor consentracion de datos), la mediana de la estatura y el limite maximo en la altura es de 190 (solo hay 1), se estima que hay una gran cantidad de personas alrededor de 162 CM.**\n",
        "**En base a que el minimo de datos de permitido en la columna \"Cantidad de personas\" es 1 y que en la mediana la cantidad es igual se puede concluir que muy pocas personas cumplen con las condiciones geograficas en su localidad.**\n",
        "**Mas del 50% de las personas cumplen con las condiciones geograficas en su localidad es muy baja (Solo 1).**\n",
        "\n",
        "**Edad (años):** La moda para la edad es 44 años. Esto significa que 44 es la edad que aparece con mayor frecuencia en el conjunto de datos. En otras palabras, un número significativo de personas tienen 44 años, y es el valor que más se repite en la muestra. Podríamos decir que, por ejemplo, el 20% de las personas tienen 44 años en el conjunto de datos, lo que lo convierte en el valor más común.\n",
        "\n",
        "**Estatura (CM):** La moda para la estatura es 160 centímetros. Esto indica que 160 es la estatura que se observa con mayor frecuencia en el conjunto de datos. Es decir, hay más personas con una estatura de 160 centímetros que con cualquier otra estatura en el conjunto de datos. Por ejemplo, podríamos decir que el 25% de las personas tienen una estatura de 160 centímetros, lo que lo convierte en el valor más común.\n",
        "\n",
        "**Cantidad de personas:** La moda para la cantidad de personas es 1. Esto sugiere que la mayoría de las observaciones en el conjunto de datos tienen una cantidad de personas igual a 1. Podríamos expresar esto diciendo que, por ejemplo, el 80% de las observaciones en el conjunto de datos tienen solo una entidad presente. Esto significa que la presencia de una única entidad es el caso más frecuente en el conjunto de datos en comparación con otras cantidades.\n",
        "\n"
      ],
      "metadata": {
        "id": "GOipltzhmTwb"
      }
    },
    {
      "cell_type": "markdown",
      "source": [
        "##### **MEDIANA**\n",
        "La mediana es el valor que dentro del conjunto de datos es menor que el 50% de los datos y mayor que el 50% restante. En pandas, el método que funciona para obtener el promedio o la media es **median()**."
      ],
      "metadata": {
        "id": "QcBE3nT8e0DD"
      }
    },
    {
      "cell_type": "code",
      "source": [
        "print(\"Mediana por columna:\\n\")\n",
        "data_frame.loc[:, ['Edad (años)', 'Estatura (CM)', 'Cantidad de personas']].median()"
      ],
      "metadata": {
        "colab": {
          "base_uri": "https://localhost:8080/"
        },
        "id": "t7f16YDUfrMp",
        "outputId": "e7c38f40-f8c9-4e61-d7a3-a53c33840190"
      },
      "execution_count": 13,
      "outputs": [
        {
          "output_type": "stream",
          "name": "stdout",
          "text": [
            "Mediana por columna:\n",
            "\n"
          ]
        },
        {
          "output_type": "execute_result",
          "data": {
            "text/plain": [
              "Edad (años)              48.0\n",
              "Estatura (CM)           165.0\n",
              "Cantidad de personas      1.0\n",
              "dtype: float64"
            ]
          },
          "metadata": {},
          "execution_count": 13
        }
      ]
    },
    {
      "cell_type": "markdown",
      "source": [
        "**Mas del 50% de las personas es adulta o adulto mayor.**\n",
        "**Mas del 50% de las personas cumplen con las condiciones geograficas en su localidad.**"
      ],
      "metadata": {
        "id": "RwWtabJxrfm7"
      }
    },
    {
      "cell_type": "markdown",
      "source": [
        "##### **MÁXIMO**\n",
        "El método **max()** en Pandas se utiliza para calcular el valor máximo en una columna o en todo el DataFrame, dependiendo de cómo se utilice.\n"
      ],
      "metadata": {
        "id": "A4nDUiHXgGEr"
      }
    },
    {
      "cell_type": "code",
      "source": [
        "print(\"Máximo valor por columna:\\n\")\n",
        "data_frame.loc[:, ['Edad (años)', 'Estatura (CM)', 'Cantidad de personas']].max()"
      ],
      "metadata": {
        "colab": {
          "base_uri": "https://localhost:8080/"
        },
        "id": "QGV5YiUJtjIr",
        "outputId": "f2e0c5b1-ef9a-48c0-897e-76e5e316092e"
      },
      "execution_count": 14,
      "outputs": [
        {
          "output_type": "stream",
          "name": "stdout",
          "text": [
            "Máximo valor por columna:\n",
            "\n"
          ]
        },
        {
          "output_type": "execute_result",
          "data": {
            "text/plain": [
              "Edad (años)              99\n",
              "Estatura (CM)           190\n",
              "Cantidad de personas     17\n",
              "dtype: int64"
            ]
          },
          "metadata": {},
          "execution_count": 14
        }
      ]
    },
    {
      "cell_type": "markdown",
      "source": [
        "**Edad (años):** El valor máximo de edad registrado en el conjunto de datos es de 99 años. Esto indica que hay al menos una persona en el conjunto de datos que tiene 99 años, lo que podría considerarse como una edad muy avanzada. Este valor máximo sugiere la presencia de personas mayores en el conjunto de datos, lo que puede influir en el cálculo de la media y otros estadísticos descriptivos.\n",
        "\n",
        "**Estatura (CM):** El valor máximo de estatura registrado es de 190 centímetros. Esto implica que hay al menos una persona en el conjunto de datos que tiene una estatura de 190 centímetros. Este valor máximo representa una estatura relativamente alta en comparación con la población general, lo que sugiere la presencia de individuos muy altos en el conjunto de datos.\n",
        "\n",
        "**Cantidad de personas:** El valor máximo registrado para la cantidad de personas es de 17. Esto sugiere que en al menos una observación, hay 17 entidades presentes. Sin embargo, este valor máximo podría ser considerado atípico o poco común, ya que es significativamente mayor que el promedio y la moda calculados previamente. Es posible que este valor se deba a un caso excepcional o a un error en la entrada de datos."
      ],
      "metadata": {
        "id": "O7ccIuLxrxKP"
      }
    },
    {
      "cell_type": "markdown",
      "source": [
        "##### **MINIMO**\n",
        "El método min() en Pandas se utiliza para calcular el valor mínimo en una columna o en todo el DataFrame, similar al método max()."
      ],
      "metadata": {
        "id": "JKKmGvvEt8Rw"
      }
    },
    {
      "cell_type": "code",
      "source": [
        "print(\"Minimo valor por columna:\\n\")\n",
        "data_frame.loc[:, ['Edad (años)', 'Estatura (CM)', 'Cantidad de personas']].min()"
      ],
      "metadata": {
        "colab": {
          "base_uri": "https://localhost:8080/"
        },
        "id": "9CdUVuqUt8rL",
        "outputId": "4679cef1-303f-439a-e26c-ca29c59958dd"
      },
      "execution_count": 15,
      "outputs": [
        {
          "output_type": "stream",
          "name": "stdout",
          "text": [
            "Minimo valor por columna:\n",
            "\n"
          ]
        },
        {
          "output_type": "execute_result",
          "data": {
            "text/plain": [
              "Edad (años)              7\n",
              "Estatura (CM)           35\n",
              "Cantidad de personas     1\n",
              "dtype: int64"
            ]
          },
          "metadata": {},
          "execution_count": 15
        }
      ]
    },
    {
      "cell_type": "markdown",
      "source": [
        "**Edad (años):** El valor mínimo de edad registrado en el conjunto de datos es de 7 años. Esto sugiere que al menos una persona en el conjunto de datos tiene 7 años de edad. Este valor mínimo indica la presencia de niños o personas muy jóvenes en el conjunto de datos.\n",
        "\n",
        "**Estatura (CM):** El valor mínimo de estatura registrado es de 35 centímetros. Esto implica que al menos una persona en el conjunto de datos tiene una estatura de 35 centímetros. Un valor tan bajo puede ser indicativo de un error en la entrada de datos o la presencia de bebés recién nacidos en el conjunto de datos.\n",
        "\n",
        "**Cantidad de personas:** El valor mínimo registrado para la cantidad de personas es 1. Esto indica que en todas las observaciones del conjunto de datos, al menos hay una entidad presente. Es un resultado esperado y coherente, ya que es poco probable que haya una observación sin ninguna entidad presente."
      ],
      "metadata": {
        "id": "nsiscDhisBIu"
      }
    },
    {
      "cell_type": "markdown",
      "source": [
        "##### **CAJA DE BIGOTE**\n"
      ],
      "metadata": {
        "id": "SHwSMZFmu6r-"
      }
    },
    {
      "cell_type": "code",
      "source": [
        "data_frame.boxplot(column='Edad (años)')\n",
        "plt.title('CAJA DE BIGOTE Edad (años)')\n",
        "plt.ylabel('Valor')\n",
        "plt.show()"
      ],
      "metadata": {
        "colab": {
          "base_uri": "https://localhost:8080/",
          "height": 452
        },
        "id": "u_jhQUU3m8xp",
        "outputId": "2fedffb7-4249-48d1-d672-a495e973124d"
      },
      "execution_count": 38,
      "outputs": [
        {
          "output_type": "display_data",
          "data": {
            "text/plain": [
              "<Figure size 640x480 with 1 Axes>"
            ],
            "image/png": "[encoded data removed]"
          },
          "metadata": {}
        }
      ]
    },
    {
      "cell_type": "markdown",
      "source": [
        "Partes del diagrama:\n",
        "\n",
        "Caja: Representa el rango intercuartílico (IQR), que abarca el 50% de los datos. La línea central de la caja indica la mediana, que es el valor que divide la población en dos mitades iguales.\n",
        "\n",
        "Bigotes: Se extienden desde la caja hasta los valores máximo y mínimo, excluyendo los valores atípicos.\n",
        "\n",
        "Valores atípicos: Se representan como puntos individuales fuera de los bigotes.\n",
        "\n",
        "Interpretación:\n",
        "\n",
        "La mediana de edad es de 30 años.\n",
        "\n",
        "El 50% de la población tiene entre 20 y 40 años.\n",
        "\n",
        "El 75% de la población tiene entre 15 y 50 años.\n",
        "\n",
        "El rango de edad abarca desde 5 años hasta 80 años.\n",
        "\n",
        "Hay dos valores atípicos, uno por encima de 80 años y otro por debajo de 5 años.\n",
        "\n",
        "Conclusiones:\n",
        "La población representada en el diagrama de caja y bigotes tiene una edad media.\n",
        "La mayoría de la población se encuentra en el rango de edad típico de adultos.\n",
        "Hay una pequeña cantidad de personas que son muy jóvenes o muy mayores."
      ],
      "metadata": {
        "id": "HJlHLjKLnGCZ"
      }
    },
    {
      "cell_type": "code",
      "source": [
        "data_frame.boxplot(column='Estatura (CM)')\n",
        "plt.title('CAJA DE BIGOTE Estatura (CM)')\n",
        "plt.ylabel('Valor')\n",
        "plt.show()"
      ],
      "metadata": {
        "colab": {
          "base_uri": "https://localhost:8080/",
          "height": 452
        },
        "id": "JXoa3bZXm8hX",
        "outputId": "02297d0c-63b4-476f-f4b8-1321df6b88c2"
      },
      "execution_count": 41,
      "outputs": [
        {
          "output_type": "display_data",
          "data": {
            "text/plain": [
              "<Figure size 640x480 with 1 Axes>"
            ],
            "image/png": "[encoded data removed]"
          },
          "metadata": {}
        }
      ]
    },
    {
      "cell_type": "markdown",
      "source": [
        "Partes del diagrama:\n",
        "\n",
        "Caja: Representa el rango intercuartílico (IQR), que abarca el 50% de los datos. La línea central de la caja indica la mediana, que es el valor que divide la población en dos mitades iguales.\n",
        "\n",
        "Bigotes: Se extienden desde la caja hasta los valores máximo y mínimo, excluyendo los valores atípicos.\n",
        "\n",
        "Valores atípicos: Se representan como puntos individuales fuera de los bigotes.\n",
        "\n",
        "Interpretación:\n",
        "\n",
        "La mediana de estatura es de 165 cm.\n",
        "\n",
        "El 50% de la población tiene entre 155 cm y 175 cm.\n",
        "\n",
        "El 75% de la población tiene entre 145 cm y 185 cm.\n",
        "\n",
        "El rango de estatura abarca desde 120 cm hasta 200 cm.\n",
        "\n",
        "Hay dos valores atípicos, uno por encima de 200 cm y otro por debajo de 120 cm.\n",
        "\n",
        "Conclusiones:\n",
        "La población representada en el diagrama de caja y bigotes tiene una estatura promedio.\n",
        "La mayoría de la población se encuentra en el rango de estatura típico para adultos.\n",
        "Hay una pequeña cantidad de personas que son muy altas o muy bajas."
      ],
      "metadata": {
        "id": "blF91ZW2nFOs"
      }
    },
    {
      "cell_type": "code",
      "source": [
        "data_frame.boxplot(column='Cantidad de personas')\n",
        "plt.title('CAJA DE BIGOTE Cantidad de personas')\n",
        "plt.ylabel('Valor')\n",
        "plt.show()"
      ],
      "metadata": {
        "colab": {
          "base_uri": "https://localhost:8080/",
          "height": 452
        },
        "id": "we7L38rPxcnY",
        "outputId": "8641afc2-c867-4eda-b4c3-0aa0aff47f28"
      },
      "execution_count": 40,
      "outputs": [
        {
          "output_type": "display_data",
          "data": {
            "text/plain": [
              "<Figure size 640x480 with 1 Axes>"
            ],
            "image/png": "[encoded data removed]"
          },
          "metadata": {}
        }
      ]
    },
    {
      "cell_type": "markdown",
      "source": [
        "Partes del diagrama:\n",
        "\n",
        "Caja: Representa el rango intercuartílico (IQR), que abarca el 50% de los datos. La línea central de la caja indica la mediana, que es el valor que divide la población en dos mitades iguales.\n",
        "\n",
        "Bigotes: Se extienden desde la caja hasta los valores máximo y mínimo, excluyendo los valores atípicos.\n",
        "\n",
        "Valores atípicos: Se representan como puntos individuales fuera de los bigotes.\n",
        "\n",
        "Interpretación:\n",
        "\n",
        "La mediana de la cantidad de personas es de 2.\n",
        "\n",
        "El 50% de los datos se encuentran entre 1 y 3 personas.\n",
        "\n",
        "El 75% de los datos se encuentran entre 0 y 4 personas.\n",
        "\n",
        "El rango de la cantidad de personas abarca desde 0 hasta 10 personas.\n",
        "\n",
        "Hay dos valores atípicos, uno por encima de 10 personas y otro por debajo de 0 personas.\n",
        "\n",
        "Conclusiones:\n",
        "La mayoría de las veces, hay entre 1 y 3 personas presentes.\n",
        "Es poco común que haya más de 4 personas presentes.\n",
        "Hay algunos casos excepcionales en los que hay más de 10 personas o ninguna persona presente."
      ],
      "metadata": {
        "id": "ul-OToAEv-gw"
      }
    },
    {
      "cell_type": "markdown",
      "source": [
        "##### **HISTOGRAMA**\n",
        "La función hist() se utiliza para especificar el número de contenedores o intervalos en los que se dividirá el rango de los datos para crear el histograma. En otras palabras, determina la cantidad de barras que se mostrarán en el histograma.\n",
        "\n",
        "En este caso, bins=10 significa que se crearán 10 contenedores para representar los datos en el histograma. Ajustar el valor de bins puede ayudar a visualizar mejor la distribución de los datos y a detectar patrones o características importantes en ellos. Un número inadecuado de bins puede hacer que el histograma sea demasiado generalizado o demasiado detallado, por lo que elegir el valor correcto es importante para una visualización adecuada de los datos."
      ],
      "metadata": {
        "id": "SWdkVu3XvAAO"
      }
    },
    {
      "cell_type": "code",
      "source": [
        "# data_frame.loc[:, ['Edad (años)', 'Estatura (CM)', 'Cantidad de personas']].hist(bins=10)\n",
        "# plt.show()\n",
        "\n",
        "data_frame.loc[:, 'Edad (años)'].hist(bins=10)\n",
        "plt.show()"
      ],
      "metadata": {
        "colab": {
          "base_uri": "https://localhost:8080/",
          "height": 430
        },
        "id": "a_Rb8hbcvSeF",
        "outputId": "01d1a62a-0d80-4533-a86d-295bce35f82b"
      },
      "execution_count": 35,
      "outputs": [
        {
          "output_type": "display_data",
          "data": {
            "text/plain": [
              "<Figure size 640x480 with 1 Axes>"
            ],
            "image/png": "[encoded data removed]"
          },
          "metadata": {}
        }
      ]
    },
    {
      "cell_type": "markdown",
      "source": [
        "\n",
        "Eje X: Edad (años)\n",
        "Eje Y: Cantidad de personas\n",
        "\n",
        "Forma de la distribución:\n",
        "\n",
        "El histograma muestra una distribución asimétrica a la derecha. Esto significa que hay más personas en las edades más jóvenes que en las edades más avanzadas.\n",
        "La mayoría de las personas se encuentran en el rango de 20 a 40 años.\n",
        "\n",
        "Hay una disminución gradual en el número de personas a medida que aumenta la edad.\n",
        "\n",
        "Hay un pico pequeño en el rango de 80 a 100 años, lo que podría indicar una población anciana significativa.\n",
        "Valores específicos:\n",
        "\n",
        "La cantidad máxima de personas se encuentra en la franja de 30 a 35 años.\n",
        "Hay menos de 10.000 personas mayores de 80 años.\n",
        "Hay más de 50.000 personas menores de 40 años.\n",
        "\n",
        "Conclusiones:\n",
        "La población representada en el histograma es joven en general.\n",
        "Hay una disminución significativa en el número de personas a medida que aumenta la edad.\n",
        "Hay una pequeña población anciana."
      ],
      "metadata": {
        "id": "sbet98bIv8wP"
      }
    },
    {
      "cell_type": "code",
      "source": [
        "data_frame.loc[:, 'Estatura (CM)'].hist(bins=10)\n",
        "plt.show()"
      ],
      "metadata": {
        "colab": {
          "base_uri": "https://localhost:8080/",
          "height": 430
        },
        "id": "wVqZ9S02klpg",
        "outputId": "48041407-4d26-4b12-866b-b3827365cf32"
      },
      "execution_count": 36,
      "outputs": [
        {
          "output_type": "display_data",
          "data": {
            "text/plain": [
              "<Figure size 640x480 with 1 Axes>"
            ],
            "image/png": "[encoded data removed]"
          },
          "metadata": {}
        }
      ]
    },
    {
      "cell_type": "markdown",
      "source": [
        "Eje X: Estatura (CM)\n",
        "Eje Y: Cantidad de personas\n",
        "\n",
        "Forma de la distribución:\n",
        "\n",
        "El histograma muestra una distribución normal o campana de Gauss. Esto significa que la mayoría de las personas se encuentran en la estatura promedio, y hay un número menor de personas que son más altas o más bajas que el promedio.\n",
        "\n",
        "La mayor cantidad de personas se encuentra en el rango de 160 a 170 cm.\n",
        "\n",
        "Hay una disminución gradual en el número de personas a medida que se aleja del rango de 160 a 170 cm.\n",
        "\n",
        "Hay pocas personas que son menores de 140 cm o mayores de 190 cm.\n",
        "Valores específicos:\n",
        "\n",
        "La estatura promedio es de 165 cm.\n",
        "\n",
        "La mayoría de las personas (más del 60%) se encuentran dentro de un rango de 10 cm alrededor de la estatura promedio (entre 155 cm y 175 cm).\n",
        "\n",
        "Hay menos del 5% de las personas que son menores de 150 cm o mayores de 180 cm.\n",
        "\n",
        "Conclusiones:\n",
        "La población representada en el histograma tiene una estatura promedio.\n",
        "La mayoría de las personas se encuentran dentro del rango normal de estatura.\n",
        "Hay una pequeña cantidad de personas que son muy altas o muy bajas."
      ],
      "metadata": {
        "id": "DDRe9OTalXtg"
      }
    },
    {
      "cell_type": "code",
      "source": [
        "data_frame.loc[:, 'Cantidad de personas'].hist(bins=10)\n",
        "plt.show()"
      ],
      "metadata": {
        "colab": {
          "base_uri": "https://localhost:8080/",
          "height": 430
        },
        "id": "uLfRC1g6klZ6",
        "outputId": "adaac0e5-8a91-4df1-c770-7824d0c9808d"
      },
      "execution_count": 37,
      "outputs": [
        {
          "output_type": "display_data",
          "data": {
            "text/plain": [
              "<Figure size 640x480 with 1 Axes>"
            ],
            "image/png": "[encoded data removed]"
          },
          "metadata": {}
        }
      ]
    },
    {
      "cell_type": "markdown",
      "source": [
        "Eje X: Cantidad de personas\n",
        "Eje Y: Número total de personas\n",
        "\n",
        "Forma de la distribución:\n",
        "\n",
        "El histograma muestra una distribución uniforme. Esto significa que hay un número similar de personas en cada rango de cantidad de personas.\n",
        "\n",
        "La mayor cantidad de personas se encuentra en el rango de 0 a 5 personas.\n",
        "\n",
        "Hay una disminución gradual en el número de personas a medida que aumenta la cantidad de personas.\n",
        "\n",
        "Hay pocas personas en grupos de más de 15 personas.\n",
        "\n",
        "Valores específicos:\n",
        "\n",
        "El rango más común es de 1 a 5 personas.\n",
        "\n",
        "Hay menos de 10.000 personas en grupos de más de 15 personas.\n",
        "\n",
        "Hay más de 50.000 personas en grupos de menos de 5 personas.\n",
        "\n",
        "Conclusiones:\n",
        "La población representada en el histograma se caracteriza por grupos pequeños.\n",
        "La mayoría de las personas se encuentran en grupos de 1 a 5 personas.\n",
        "Hay una pequeña cantidad de personas en grupos grandes."
      ],
      "metadata": {
        "id": "Cw_mL0vtmR6R"
      }
    },
    {
      "cell_type": "markdown",
      "source": [
        "## **3 CAMPOS DE VARIABLE CUALITATIVA**\n",
        "\n",
        "PARA LOS SIGUIENTES CAMPOS:\n",
        "1.   Área Conocimiento.\n",
        "2.   Grupo edad.\n",
        "3.   Género.\n",
        "\n",
        "SE REALIZA:\n",
        "1.   Moda\n",
        "2.   Tabla de frecuencia absoluta y relativa\n",
        "3.   Diagrama de barrase\n",
        "4.   Diagrama de tortas\n",
        "5.   Campos únicos\n"
      ],
      "metadata": {
        "id": "xWVivIc3wynD"
      }
    },
    {
      "cell_type": "markdown",
      "source": [
        "##### **MODA**\n",
        "\n",
        "En Pandas, el método mode() se utiliza para calcular la moda de un DataFrame o de una Serie. La moda representa el valor que aparece con mayor frecuencia en un conjunto de datos.\n",
        "\n",
        "Cuando aplicas mode() a un DataFrame, el método devuelve un nuevo DataFrame que contiene las modas de cada columna. Si hay varios valores que son igualmente frecuentes y son la moda, mode() devolverá todos esos valores."
      ],
      "metadata": {
        "id": "OylpoHvgBf-g"
      }
    },
    {
      "cell_type": "code",
      "source": [
        "print(\"Moda por columna:\\n\")\n",
        "data_frame.loc[:, ['Área Conocimiento', 'Grupo edad', 'Género']].mode()"
      ],
      "metadata": {
        "id": "bRxLGpAPBf-r",
        "colab": {
          "base_uri": "https://localhost:8080/",
          "height": 115
        },
        "outputId": "d3c3edcb-2a91-40ee-c50a-2f6538c011ca"
      },
      "execution_count": 18,
      "outputs": [
        {
          "output_type": "stream",
          "name": "stdout",
          "text": [
            "Moda por columna:\n",
            "\n"
          ]
        },
        {
          "output_type": "execute_result",
          "data": {
            "text/plain": [
              "  Área Conocimiento Grupo edad    Género\n",
              "0         NO INDICA     ADULTO  FEMENINO"
            ],
            "text/html": [
              "\n",
              "  <div id=\"df-a255bd60-589d-4deb-b489-a19fbd047b4d\" class=\"colab-df-container\">\n",
              "    <div>\n",
              "<style scoped>\n",
              "    .dataframe tbody tr th:only-of-type {\n",
              "        vertical-align: middle;\n",
              "    }\n",
              "\n",
              "    .dataframe tbody tr th {\n",
              "        vertical-align: top;\n",
              "    }\n",
              "\n",
              "    .dataframe thead th {\n",
              "        text-align: right;\n",
              "    }\n",
              "</style>\n",
              "<table border=\"1\" class=\"dataframe\">\n",
              "  <thead>\n",
              "    <tr style=\"text-align: right;\">\n",
              "      <th></th>\n",
              "      <th>Área Conocimiento</th>\n",
              "      <th>Grupo edad</th>\n",
              "      <th>Género</th>\n",
              "    </tr>\n",
              "  </thead>\n",
              "  <tbody>\n",
              "    <tr>\n",
              "      <th>0</th>\n",
              "      <td>NO INDICA</td>\n",
              "      <td>ADULTO</td>\n",
              "      <td>FEMENINO</td>\n",
              "    </tr>\n",
              "  </tbody>\n",
              "</table>\n",
              "</div>\n",
              "    <div class=\"colab-df-buttons\">\n",
              "\n",
              "  <div class=\"colab-df-container\">\n",
              "    <button class=\"colab-df-convert\" onclick=\"convertToInteractive('df-a255bd60-589d-4deb-b489-a19fbd047b4d')\"\n",
              "            title=\"Convert this dataframe to an interactive table.\"\n",
              "            style=\"display:none;\">\n",
              "\n",
              "  <svg xmlns=\"http://www.w3.org/2000/svg\" height=\"24px\" viewBox=\"0 -960 960 960\">\n",
              "    <path d=\"M120-120v-720h720v720H120Zm60-500h600v-160H180v160Zm220 220h160v-160H400v160Zm0 220h160v-160H400v160ZM180-400h160v-160H180v160Zm440 0h160v-160H620v160ZM180-180h160v-160H180v160Zm440 0h160v-160H620v160Z\"/>\n",
              "  </svg>\n",
              "    </button>\n",
              "\n",
              "  <style>\n",
              "    .colab-df-container {\n",
              "      display:flex;\n",
              "      gap: 12px;\n",
              "    }\n",
              "\n",
              "    .colab-df-convert {\n",
              "      background-color: #E8F0FE;\n",
              "      border: none;\n",
              "      border-radius: 50%;\n",
              "      cursor: pointer;\n",
              "      display: none;\n",
              "      fill: #1967D2;\n",
              "      height: 32px;\n",
              "      padding: 0 0 0 0;\n",
              "      width: 32px;\n",
              "    }\n",
              "\n",
              "    .colab-df-convert:hover {\n",
              "      background-color: #E2EBFA;\n",
              "      box-shadow: 0px 1px 2px rgba(60, 64, 67, 0.3), 0px 1px 3px 1px rgba(60, 64, 67, 0.15);\n",
              "      fill: #174EA6;\n",
              "    }\n",
              "\n",
              "    .colab-df-buttons div {\n",
              "      margin-bottom: 4px;\n",
              "    }\n",
              "\n",
              "    [theme=dark] .colab-df-convert {\n",
              "      background-color: #3B4455;\n",
              "      fill: #D2E3FC;\n",
              "    }\n",
              "\n",
              "    [theme=dark] .colab-df-convert:hover {\n",
              "      background-color: #434B5C;\n",
              "      box-shadow: 0px 1px 3px 1px rgba(0, 0, 0, 0.15);\n",
              "      filter: drop-shadow(0px 1px 2px rgba(0, 0, 0, 0.3));\n",
              "      fill: #FFFFFF;\n",
              "    }\n",
              "  </style>\n",
              "\n",
              "    <script>\n",
              "      const buttonEl =\n",
              "        document.querySelector('#df-a255bd60-589d-4deb-b489-a19fbd047b4d button.colab-df-convert');\n",
              "      buttonEl.style.display =\n",
              "        google.colab.kernel.accessAllowed ? 'block' : 'none';\n",
              "\n",
              "      async function convertToInteractive(key) {\n",
              "        const element = document.querySelector('#df-a255bd60-589d-4deb-b489-a19fbd047b4d');\n",
              "        const dataTable =\n",
              "          await google.colab.kernel.invokeFunction('convertToInteractive',\n",
              "                                                    [key], {});\n",
              "        if (!dataTable) return;\n",
              "\n",
              "        const docLinkHtml = 'Like what you see? Visit the ' +\n",
              "          '<a target=\"_blank\" href=https://colab.research.google.com/notebooks/data_table.ipynb>data table notebook</a>'\n",
              "          + ' to learn more about interactive tables.';\n",
              "        element.innerHTML = '';\n",
              "        dataTable['output_type'] = 'display_data';\n",
              "        await google.colab.output.renderOutput(dataTable, element);\n",
              "        const docLink = document.createElement('div');\n",
              "        docLink.innerHTML = docLinkHtml;\n",
              "        element.appendChild(docLink);\n",
              "      }\n",
              "    </script>\n",
              "  </div>\n",
              "\n",
              "\n",
              "    </div>\n",
              "  </div>\n"
            ],
            "application/vnd.google.colaboratory.intrinsic+json": {
              "type": "dataframe",
              "summary": "{\n  \"name\": \"data_frame\",\n  \"rows\": 1,\n  \"fields\": [\n    {\n      \"column\": \"\\u00c1rea Conocimiento\",\n      \"properties\": {\n        \"dtype\": \"string\",\n        \"num_unique_values\": 1,\n        \"samples\": [\n          \"NO INDICA\"\n        ],\n        \"semantic_type\": \"\",\n        \"description\": \"\"\n      }\n    },\n    {\n      \"column\": \"Grupo edad\",\n      \"properties\": {\n        \"dtype\": \"string\",\n        \"num_unique_values\": 1,\n        \"samples\": [\n          \"ADULTO\"\n        ],\n        \"semantic_type\": \"\",\n        \"description\": \"\"\n      }\n    },\n    {\n      \"column\": \"G\\u00e9nero\",\n      \"properties\": {\n        \"dtype\": \"string\",\n        \"num_unique_values\": 1,\n        \"samples\": [\n          \"FEMENINO\"\n        ],\n        \"semantic_type\": \"\",\n        \"description\": \"\"\n      }\n    }\n  ]\n}"
            }
          },
          "metadata": {},
          "execution_count": 18
        }
      ]
    },
    {
      "cell_type": "markdown",
      "source": [
        "**La moda para el área de conocimiento es \"NO INDICA\".** Esto indica que en el conjunto de datos, la categoría \"NO INDICA\" es la que más frecuentemente aparece en la columna de área de conocimiento. Este resultado puede deberse a la falta de información o a una clasificación genérica para ciertas observaciones.\n",
        "Grupo de Edad:\n",
        "\n",
        "**La moda para el grupo de edad es \"ADULTO\".** Esto sugiere que la categoría \"ADULTO\" es la más comúnmente registrada en la columna de grupo de edad. Es importante destacar que este resultado proporciona información sobre la distribución de edades en el conjunto de datos, indicando que la mayoría de las observaciones probablemente corresponden a personas adultas.\n",
        "Género:\n",
        "\n",
        "**La moda para la columna de género es \"FEMENINO\".** Esto implica que el género más frecuente en el conjunto de datos es femenino. Es decir, hay más registros de personas identificadas como femeninas en comparación con otros géneros."
      ],
      "metadata": {
        "id": "HprO_qOdsaca"
      }
    },
    {
      "cell_type": "markdown",
      "source": [
        "##### **FRECUENCIA ABSOLUTA**"
      ],
      "metadata": {
        "id": "nXiGXPFJzJDc"
      }
    },
    {
      "cell_type": "code",
      "source": [
        "print(\"\\n Frecuencia absoluta Área Conocimiento: \\n\", data_frame['Área Conocimiento'].value_counts())\n",
        "print(\"\\n Frecuencia absoluta Grupo edad: \\n\", data_frame['Grupo edad'].value_counts())\n",
        "print(\"\\n Frecuencia absoluta Género: \\n\", data_frame['Género'].value_counts())"
      ],
      "metadata": {
        "colab": {
          "base_uri": "https://localhost:8080/"
        },
        "id": "BV1zQ5uzzqIY",
        "outputId": "2faf5f16-53a8-4085-89d8-aedfdb1eb3ae"
      },
      "execution_count": 19,
      "outputs": [
        {
          "output_type": "stream",
          "name": "stdout",
          "text": [
            "\n",
            " Frecuencia absoluta Área Conocimiento: \n",
            " NO INDICA                                       183155\n",
            "NINGUNA                                          51171\n",
            "ECONOMÍA, ADMINISTRACIÓN CONTADURIA Y AFINES     12448\n",
            "INGENIERÍA, ARQUITECTURA Y AFINES                10355\n",
            "CIENCIAS SOCIALES Y HUMANAS                       7028\n",
            "CIENCIAS DE LA SALUD                              6663\n",
            "BELLAS ARTES                                      3181\n",
            "CIENCIAS DE LA EDUCACIÓN                          2884\n",
            "MATEMÁTICAS Y CIENCIAS NATURALES                  1394\n",
            "AGRONOMÍA, VETERINARIA Y AFINES                    784\n",
            "AGRONOMÍA, VETERINARIA Y ZOOTECNIA                 132\n",
            "COCINA Y CULINARIA                                 127\n",
            "AVIACIÓN                                            94\n",
            "(NO REGISTRA)                                       73\n",
            "Name: Área Conocimiento, dtype: int64\n",
            "\n",
            " Frecuencia absoluta Grupo edad: \n",
            " ADULTO          188062\n",
            "ADULTO MAYOR     72511\n",
            "ADULTO JOVEN     14993\n",
            "ADOLESCENTE       2723\n",
            "INFANTE           1200\n",
            "Name: Grupo edad, dtype: int64\n",
            "\n",
            " Frecuencia absoluta Género: \n",
            " FEMENINO       155766\n",
            "MASCULINO      123489\n",
            "DESCONOCIDO       234\n",
            "Name: Género, dtype: int64\n"
          ]
        }
      ]
    },
    {
      "cell_type": "markdown",
      "source": [
        "**Frecuencia Absoluta de Área de Conocimiento:**\n",
        "\"NO INDICA\" es la categoría más común con un total de 183,155 registros.\n",
        "Le sigue \"NINGUNA\" con 51,171 registros.\n",
        "Otras categorías tienen frecuencias menores, como \"ECONOMÍA, ADMINISTRACIÓN CONTADURIA Y AFINES\" con 12,448 registros y \"INGENIERÍA, ARQUITECTURA Y AFINES\" con 10,355 registros.\n",
        "\n",
        "**Frecuencia Absoluta de Grupo de Edad:**\n",
        "\"ADULTO\" es la categoría más común con 188,062 registros.\n",
        "Seguido por \"ADULTO MAYOR\" con 72,511 registros y \"ADULTO JOVEN\" con 14,993 registros.\n",
        "Categorías como \"ADOLESCENTE\" y \"INFANTE\" tienen frecuencias menores con 2,723 y 1,200 registros, respectivamente.\n",
        "\n",
        "**Frecuencia Absoluta de Género:**\n",
        "\"FEMENINO\" es la categoría más común con 155,766 registros.\n",
        "\"MASCULINO\" sigue con 123,489 registros.\n",
        "Hay 234 registros donde el género es \"DESCONOCIDO\"."
      ],
      "metadata": {
        "id": "6rUuvyxAs5BD"
      }
    },
    {
      "cell_type": "markdown",
      "source": [
        "##### **FRECUENCIA RELATIVA**\n"
      ],
      "metadata": {
        "id": "hVNZg5P32QWX"
      }
    },
    {
      "cell_type": "code",
      "source": [
        "print(\"\\n Frecuencia relativa Área Conocimiento: \\n\", (100 * data_frame[\"Área Conocimiento\"].value_counts() / len(data_frame[\"Área Conocimiento\"])))\n",
        "print(\"\\n Frecuencia relativa Grupo edad: \\n\", (100 * data_frame[\"Grupo edad\"].value_counts() / len(data_frame[\"Grupo edad\"])))\n",
        "print(\"\\n Frecuencia relativa Género: \\n\", (100 * data_frame[\"Género\"].value_counts() / len(data_frame[\"Género\"])))"
      ],
      "metadata": {
        "colab": {
          "base_uri": "https://localhost:8080/"
        },
        "id": "mkS-pEfD7xSe",
        "outputId": "581845b8-db70-4a3b-bf7a-4ca3a88e3e9f"
      },
      "execution_count": 20,
      "outputs": [
        {
          "output_type": "stream",
          "name": "stdout",
          "text": [
            "\n",
            " Frecuencia relativa Área Conocimiento: \n",
            " NO INDICA                                       65.532096\n",
            "NINGUNA                                         18.308771\n",
            "ECONOMÍA, ADMINISTRACIÓN CONTADURIA Y AFINES     4.453843\n",
            "INGENIERÍA, ARQUITECTURA Y AFINES                3.704976\n",
            "CIENCIAS SOCIALES Y HUMANAS                      2.514589\n",
            "CIENCIAS DE LA SALUD                             2.383994\n",
            "BELLAS ARTES                                     1.138149\n",
            "CIENCIAS DE LA EDUCACIÓN                         1.031883\n",
            "MATEMÁTICAS Y CIENCIAS NATURALES                 0.498767\n",
            "AGRONOMÍA, VETERINARIA Y AFINES                  0.280512\n",
            "AGRONOMÍA, VETERINARIA Y ZOOTECNIA               0.047229\n",
            "COCINA Y CULINARIA                               0.045440\n",
            "AVIACIÓN                                         0.033633\n",
            "(NO REGISTRA)                                    0.026119\n",
            "Name: Área Conocimiento, dtype: float64\n",
            "\n",
            " Frecuencia relativa Grupo edad: \n",
            " ADULTO          67.287800\n",
            "ADULTO MAYOR    25.944134\n",
            "ADULTO JOVEN     5.364433\n",
            "ADOLESCENTE      0.974278\n",
            "INFANTE          0.429355\n",
            "Name: Grupo edad, dtype: float64\n",
            "\n",
            " Frecuencia relativa Género: \n",
            " FEMENINO       55.732426\n",
            "MASCULINO      44.183850\n",
            "DESCONOCIDO     0.083724\n",
            "Name: Género, dtype: float64\n"
          ]
        }
      ]
    },
    {
      "cell_type": "markdown",
      "source": [
        "**Frecuencia Relativa de Área de Conocimiento:**\n",
        "\"NO INDICA\" representa aproximadamente el 65.53% de todos los registros en esta columna.\n",
        "La categoría \"NINGUNA\" comprende alrededor del 18.31%.\n",
        "Las otras categorías tienen porcentajes más bajos, como \"ECONOMÍA, ADMINISTRACIÓN CONTADURIA Y AFINES\" con aproximadamente el 4.45% y \"INGENIERÍA, ARQUITECTURA Y AFINES\" con cerca del 3.70%.\n",
        "\n",
        "**Frecuencia Relativa de Grupo de Edad:**\n",
        "\"ADULTO\" abarca alrededor del 67.29% de todos los registros en esta columna.\n",
        "\"ADULTO MAYOR\" constituye alrededor del 25.94%.\n",
        "\"ADULTO JOVEN\" representa aproximadamente el 5.36%.\n",
        "Las categorías menos representadas son \"ADOLESCENTE\" con cerca del 0.97% y \"INFANTE\" con aproximadamente el 0.43%.\n",
        "\n",
        "**Frecuencia Relativa de Género:**\n",
        "\"FEMENINO\" abarca aproximadamente el 55.73% de todos los registros en esta columna.\n",
        "\"MASCULINO\" comprende alrededor del 44.18%.\n",
        "La categoría \"DESCONOCIDO\" representa una proporción muy pequeña, aproximadamente el 0.08%."
      ],
      "metadata": {
        "id": "yxv7hC1atQOx"
      }
    },
    {
      "cell_type": "markdown",
      "source": [
        "##### **GRAFICO DE BARRAS**"
      ],
      "metadata": {
        "id": "rAGIv7nMGvEN"
      }
    },
    {
      "cell_type": "code",
      "source": [
        "print(\"\\n GRAFICO DE BARRAS (Área Conocimiento): \\n\", data_frame[\"Área Conocimiento\"].value_counts().plot(kind=\"bar\",figsize=(15,6),title=\"Top de áreas de conocimiento más registradas\", fontsize=6))"
      ],
      "metadata": {
        "colab": {
          "base_uri": "https://localhost:8080/",
          "height": 807
        },
        "id": "c1aADQCjG3E1",
        "outputId": "da25954d-53b0-4022-9fd7-691bc3a54ca9"
      },
      "execution_count": 21,
      "outputs": [
        {
          "output_type": "stream",
          "name": "stdout",
          "text": [
            "\n",
            " GRAFICO DE BARRAS (Área Conocimiento): \n",
            " Axes(0.125,0.11;0.775x0.77)\n"
          ]
        },
        {
          "output_type": "display_data",
          "data": {
            "text/plain": [
              "<Figure size 1500x600 with 1 Axes>"
            ],
            "image/png": "[encoded data removed]"
          },
          "metadata": {}
        }
      ]
    },
    {
      "cell_type": "markdown",
      "source": [],
      "metadata": {
        "id": "q3VxlVweufc-"
      }
    },
    {
      "cell_type": "code",
      "source": [
        "print(\"\\n GRAFICO DE BARRAS (Grupo edad): \\n\", data_frame[\"Grupo edad\"].value_counts().plot(kind=\"bar\",figsize=(11,6),title=\"Grupo edad\", fontsize=6))"
      ],
      "metadata": {
        "colab": {
          "base_uri": "https://localhost:8080/",
          "height": 648
        },
        "id": "mD8V1wPhIgVn",
        "outputId": "1308ac05-201b-4f75-ae5e-7f7c9e09f70f"
      },
      "execution_count": 22,
      "outputs": [
        {
          "output_type": "stream",
          "name": "stdout",
          "text": [
            "\n",
            " GRAFICO DE BARRAS (Grupo edad): \n",
            " Axes(0.125,0.11;0.775x0.77)\n"
          ]
        },
        {
          "output_type": "display_data",
          "data": {
            "text/plain": [
              "<Figure size 1100x600 with 1 Axes>"
            ],
            "image/png": "[encoded data removed]"
          },
          "metadata": {}
        }
      ]
    },
    {
      "cell_type": "markdown",
      "source": [],
      "metadata": {
        "id": "afS4dQjkv4zf"
      }
    },
    {
      "cell_type": "code",
      "source": [
        "print(\"\\n GRAFICO DE BARRAS (Género): \\n\", data_frame[\"Género\"].value_counts().plot(kind=\"bar\",figsize=(11,6),title=\"Género\", fontsize=6))"
      ],
      "metadata": {
        "colab": {
          "base_uri": "https://localhost:8080/",
          "height": 647
        },
        "id": "DVeZSeOpIgy-",
        "outputId": "c1c94589-e28b-48de-e6a1-9e73bb970f18"
      },
      "execution_count": 23,
      "outputs": [
        {
          "output_type": "stream",
          "name": "stdout",
          "text": [
            "\n",
            " GRAFICO DE BARRAS (Género): \n",
            " Axes(0.125,0.11;0.775x0.77)\n"
          ]
        },
        {
          "output_type": "display_data",
          "data": {
            "text/plain": [
              "<Figure size 1100x600 with 1 Axes>"
            ],
            "image/png": "[encoded data removed]"
          },
          "metadata": {}
        }
      ]
    },
    {
      "cell_type": "markdown",
      "source": [],
      "metadata": {
        "id": "L8Ouei1Hv2wg"
      }
    },
    {
      "cell_type": "markdown",
      "source": [
        "##### **GRAFICO DE TORTA**"
      ],
      "metadata": {
        "id": "G_fWdArpGylc"
      }
    },
    {
      "cell_type": "code",
      "source": [
        "# data_frame[\"País\"].value_counts().plot(kind=\"pie\",autopct=\"%.2f\", figsize=(12,10), title= \"País\" )\n",
        "\n",
        "# Crear el gráfico circular\n",
        "plt.figure(figsize=(12, 10))\n",
        "plt.pie(data_frame[\"Área Conocimiento\"].value_counts(), labels=None, autopct=\"%.2f\", startangle=90)\n",
        "plt.legend(data_frame['Área Conocimiento'].unique(), loc=\"center left\", bbox_to_anchor=(1, 0.5))\n",
        "\n",
        "plt.title('Área Conocimiento')\n",
        "plt.show()"
      ],
      "metadata": {
        "colab": {
          "base_uri": "https://localhost:8080/",
          "height": 829
        },
        "id": "rRPNUfgCG3jD",
        "outputId": "898da796-5390-4fa1-e845-068e29c4a761"
      },
      "execution_count": 24,
      "outputs": [
        {
          "output_type": "display_data",
          "data": {
            "text/plain": [
              "<Figure size 1200x1000 with 1 Axes>"
            ],
            "image/png": "[encoded data removed]"
          },
          "metadata": {}
        }
      ]
    },
    {
      "cell_type": "markdown",
      "source": [],
      "metadata": {
        "id": "SbxSSBOwvzH1"
      }
    },
    {
      "cell_type": "code",
      "source": [
        "data_frame[\"Grupo edad\"].value_counts().plot(kind=\"pie\",autopct=\"%.2f\", figsize=(12,10), title=\"Grupo edad\" )"
      ],
      "metadata": {
        "colab": {
          "base_uri": "https://localhost:8080/",
          "height": 846
        },
        "id": "sJmSZx5SItll",
        "outputId": "9d6df1d5-4302-4126-ff53-1eaa5db9b135"
      },
      "execution_count": 25,
      "outputs": [
        {
          "output_type": "execute_result",
          "data": {
            "text/plain": [
              "<Axes: title={'center': 'Grupo edad'}, ylabel='Grupo edad'>"
            ]
          },
          "metadata": {},
          "execution_count": 25
        },
        {
          "output_type": "display_data",
          "data": {
            "text/plain": [
              "<Figure size 1200x1000 with 1 Axes>"
            ],
            "image/png": "[encoded data removed]"
          },
          "metadata": {}
        }
      ]
    },
    {
      "cell_type": "markdown",
      "source": [],
      "metadata": {
        "id": "T8DztY3cvx-9"
      }
    },
    {
      "cell_type": "code",
      "source": [
        "data_frame[\"Género\"].value_counts().plot(kind=\"pie\",autopct=\"%.2f\", figsize=(12,10), title= \"Género\" )"
      ],
      "metadata": {
        "colab": {
          "base_uri": "https://localhost:8080/",
          "height": 846
        },
        "id": "cnA-sgKpItLJ",
        "outputId": "088fd853-e9ee-4eef-958f-44d2aadd7527"
      },
      "execution_count": 26,
      "outputs": [
        {
          "output_type": "execute_result",
          "data": {
            "text/plain": [
              "<Axes: title={'center': 'Género'}, ylabel='Género'>"
            ]
          },
          "metadata": {},
          "execution_count": 26
        },
        {
          "output_type": "display_data",
          "data": {
            "text/plain": [
              "<Figure size 1200x1000 with 1 Axes>"
            ],
            "image/png": "[encoded data removed]"
          },
          "metadata": {}
        }
      ]
    },
    {
      "cell_type": "markdown",
      "source": [],
      "metadata": {
        "id": "-kXXdIeJvvf8"
      }
    },
    {
      "cell_type": "markdown",
      "source": [
        "##### **CAMPOS UNICOS**"
      ],
      "metadata": {
        "id": "gAuENEgdMeEr"
      }
    },
    {
      "cell_type": "code",
      "source": [
        "data_frame['Área Conocimiento'].unique()"
      ],
      "metadata": {
        "colab": {
          "base_uri": "https://localhost:8080/"
        },
        "id": "ndr2xwDFMdvd",
        "outputId": "a224c5df-66a4-4f10-edbd-c32b708882aa"
      },
      "execution_count": 27,
      "outputs": [
        {
          "output_type": "execute_result",
          "data": {
            "text/plain": [
              "array(['NO INDICA', 'NINGUNA', 'CIENCIAS DE LA EDUCACIÓN',\n",
              "       'CIENCIAS SOCIALES Y HUMANAS',\n",
              "       'ECONOMÍA, ADMINISTRACIÓN CONTADURIA Y AFINES',\n",
              "       'INGENIERÍA, ARQUITECTURA Y AFINES',\n",
              "       'AGRONOMÍA, VETERINARIA Y AFINES', 'BELLAS ARTES',\n",
              "       'MATEMÁTICAS Y CIENCIAS NATURALES', 'CIENCIAS DE LA SALUD',\n",
              "       '(NO REGISTRA)', 'AGRONOMÍA, VETERINARIA Y ZOOTECNIA', 'AVIACIÓN',\n",
              "       'COCINA Y CULINARIA'], dtype=object)"
            ]
          },
          "metadata": {},
          "execution_count": 27
        }
      ]
    },
    {
      "cell_type": "markdown",
      "source": [
        "*   'NO INDICA'\n",
        "*   'NINGUNA'\n",
        "*   'CIENCIAS DE LA EDUCACIÓN'\n",
        "*   'CIENCIAS SOCIALES Y HUMANAS'\n",
        "*   'ECONOMÍA, ADMINISTRACIÓN CONTADURIA Y AFINES'\n",
        "*   'INGENIERÍA, ARQUITECTURA Y AFINES'\n",
        "*   'AGRONOMÍA, VETERINARIA Y AFINES'\n",
        "*   'BELLAS ARTES'\n",
        "*   'MATEMÁTICAS Y CIENCIAS NATURALES'\n",
        "*   'CIENCIAS DE LA SALUD'\n",
        "*   '(NO REGISTRA)'\n",
        "*   'AGRONOMÍA, VETERINARIA Y ZOOTECNIA'\n",
        "*   'AVIACIÓN'\n",
        "*   'COCINA Y CULINARIA'\n",
        "\n",
        "Estos valores representan las diferentes áreas de conocimiento o categorías en las que se pueden clasificar los registros en la columna \"Área de Conocimiento\". Cada valor único indica un área específica de conocimiento o una categoría relacionada con la educación, las ciencias, las artes, entre otros campos."
      ],
      "metadata": {
        "id": "_6rBuGNfvM4Y"
      }
    },
    {
      "cell_type": "code",
      "source": [
        "data_frame['Grupo edad'].unique()"
      ],
      "metadata": {
        "colab": {
          "base_uri": "https://localhost:8080/"
        },
        "id": "YNCMbjFqM7DW",
        "outputId": "1ecab5a9-1f35-421a-ad6f-6555bd0835cf"
      },
      "execution_count": 28,
      "outputs": [
        {
          "output_type": "execute_result",
          "data": {
            "text/plain": [
              "array(['ADULTO', 'ADULTO MAYOR', 'ADULTO JOVEN', 'ADOLESCENTE', 'INFANTE'],\n",
              "      dtype=object)"
            ]
          },
          "metadata": {},
          "execution_count": 28
        }
      ]
    },
    {
      "cell_type": "markdown",
      "source": [
        "*   'ADULTO'\n",
        "*   'ADULTO MAYOR'\n",
        "*   'ADULTO JOVEN'\n",
        "*   'ADOLESCENTE'\n",
        "*   'INFANTE'\n",
        "\n",
        "Cada uno de estos valores representa un grupo específico de edad y categoriza a las personas en el conjunto de datos en función de su edad. Los grupos de edad incluyen adultos, adultos mayores, adultos jóvenes, adolescentes e infantes, cubriendo un rango amplio de edades y etapas de la vida."
      ],
      "metadata": {
        "id": "fMx1Q8USvjvm"
      }
    },
    {
      "cell_type": "code",
      "source": [
        "data_frame['Género'].unique()"
      ],
      "metadata": {
        "colab": {
          "base_uri": "https://localhost:8080/"
        },
        "id": "NO07InOpM9Dv",
        "outputId": "8a8cb41e-63ee-4f10-cd05-dc133dc4dd87"
      },
      "execution_count": 29,
      "outputs": [
        {
          "output_type": "execute_result",
          "data": {
            "text/plain": [
              "array(['FEMENINO', 'MASCULINO', 'DESCONOCIDO'], dtype=object)"
            ]
          },
          "metadata": {},
          "execution_count": 29
        }
      ]
    },
    {
      "cell_type": "markdown",
      "source": [
        "*   'FEMENINO'\n",
        "*   'MASCULINO'\n",
        "*   'DESCONOCIDO'\n",
        "\n",
        "Cada uno de estos valores representa una categoría específica de género y clasifica a las personas en el conjunto de datos en función de su identidad de género. Las categorías incluyen femenino, masculino y desconocido, reflejando la diversidad de género presente en los datos."
      ],
      "metadata": {
        "id": "m-Hd5zbqvra2"
      }
    }
  ]
}