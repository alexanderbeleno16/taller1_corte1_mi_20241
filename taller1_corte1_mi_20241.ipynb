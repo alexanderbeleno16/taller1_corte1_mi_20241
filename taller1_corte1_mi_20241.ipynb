{
  "nbformat": 4,
  "nbformat_minor": 0,
  "metadata": {
    "colab": {
      "provenance": [],
      "authorship_tag": "ABX9TyPiHb2bD4pgulk9YIvaDgEs",
      "include_colab_link": true
    },
    "kernelspec": {
      "name": "python3",
      "display_name": "Python 3"
    },
    "language_info": {
      "name": "python"
    }
  },
  "cells": [
    {
      "cell_type": "markdown",
      "metadata": {
        "id": "view-in-github",
        "colab_type": "text"
      },
      "source": [
        "<a href=\"https://colab.research.google.com/github/alexanderbeleno16/taller1_corte1_mi_20241/blob/main/taller1_corte1_mi_20241.ipynb\" target=\"_parent\"><img src=\"https://colab.research.google.com/assets/colab-badge.svg\" alt=\"Open In Colab\"/></a>"
      ]
    },
    {
      "cell_type": "markdown",
      "source": [
        "# **TALLER #1 CORTE 1 MI 2024-1 NOCTURNO**\n",
        "\n",
        "## CORPORACIÓN UNIVERSITARIA LATINOAMERICANA\n",
        "\n",
        "### PRESENTADO POR:\n",
        "\n",
        "##### ALEXANDER BELEÑO MACKENZIE, VANESSA, JHON\n"
      ],
      "metadata": {
        "id": "aote-4ApClK1"
      }
    },
    {
      "cell_type": "markdown",
      "source": [
        "## **IMPORTACIÓN DE LIBRERIAS**\n",
        "En esta sección del código se realizan las importaciones correspondientes a cada librería que permitiran la realización exitosa de la lectura y el tratamiento de los datos del archivo \".csv\"."
      ],
      "metadata": {
        "id": "TE9bjXMUEzbV"
      }
    },
    {
      "cell_type": "code",
      "execution_count": 1,
      "metadata": {
        "id": "Y09becwgCjnm"
      },
      "outputs": [],
      "source": [
        "import pandas as pd\n",
        "import numpy as np\n",
        "import matplotlib.pyplot as plt"
      ]
    },
    {
      "cell_type": "markdown",
      "source": [
        "## **CARGUE Y LECTURA DEL ARCHIVO CSV**\n",
        "En esta sección del código se carga los datos del archivo CSV en un objeto llamado data_frame"
      ],
      "metadata": {
        "id": "FA2I_H5FHYnI"
      }
    },
    {
      "cell_type": "code",
      "source": [
        "data_frame = pd.read_csv('/content/Colombianos_registrados_en_el_exterior.csv')"
      ],
      "metadata": {
        "id": "d3HD2lI3HqsX"
      },
      "execution_count": null,
      "outputs": []
    }
  ]
}