{
  "nbformat": 4,
  "nbformat_minor": 0,
  "metadata": {
    "colab": {
      "provenance": [],
      "toc_visible": true,
      "mount_file_id": "1PETWeF3zmWYsaSMUDTXC0wk70aNeY5fu",
      "authorship_tag": "ABX9TyNypr/3JvPi+wpUCq5qZExg",
      "include_colab_link": true
    },
    "kernelspec": {
      "name": "python3",
      "display_name": "Python 3"
    },
    "language_info": {
      "name": "python"
    }
  },
  "cells": [
    {
      "cell_type": "markdown",
      "metadata": {
        "id": "view-in-github",
        "colab_type": "text"
      },
      "source": [
        "<a href=\"https://colab.research.google.com/github/alexanderbeleno16/taller1_corte1_mi_20241/blob/main/taller1_corte1_mi_20241.ipynb\" target=\"_parent\"><img src=\"https://colab.research.google.com/assets/colab-badge.svg\" alt=\"Open In Colab\"/></a>"
      ]
    },
    {
      "cell_type": "markdown",
      "source": [
        "# **TALLER #1 CORTE 1 MI 2024-1 NOCTURNO**\n",
        "\n",
        "## CORPORACIÓN UNIVERSITARIA LATINOAMERICANA\n",
        "\n",
        "### PRESENTADO POR:\n",
        "\n",
        "### ALEXANDER BELEÑO, VANESSA BAENA, JHON DIAZ\n"
      ],
      "metadata": {
        "id": "aote-4ApClK1"
      }
    },
    {
      "cell_type": "markdown",
      "source": [
        "## **INFORMACIÓN RELACIONADA AL DATASET**\n",
        "\n",
        "La información sobre la población colombiana residente y registrada en las diversas misiones consulares en el exterior proporciona un panorama detallado y crucial para comprender la diáspora colombiana y sus características demográficas. Esta data abarca una variedad de aspectos, desde el género y la edad hasta el nivel educativo, la ocupación y el lugar de residencia de los ciudadanos colombianos en el extranjero. Tal información no solo permite a las autoridades consulares entender las necesidades específicas de sus ciudadanos en el exterior, sino que también facilita la implementación de políticas y programas destinados a brindarles apoyo y protección. Además, el conocimiento del consulado de la circunscripción que atiende a cada individuo contribuye a una gestión más efectiva de los servicios consulares y a una mejor atención personalizada a los colombianos en el extranjero.\n",
        "\n",
        "Esta recopilación exhaustiva de datos no solo ayuda a trazar perfiles demográficos precisos de la población colombiana en el exterior, sino que también ofrece una visión más amplia de la diáspora y sus contribuciones a nivel global. El conocimiento detallado sobre la distribución por género, edad, nivel educativo y ocupación permite identificar tendencias migratorias y patrones socioeconómicos, lo que a su vez puede informar políticas públicas tanto en Colombia como en los países de acogida. Además, esta información puede ser valiosa para el diseño de programas de integración y desarrollo que beneficien tanto a los colombianos en el exterior como a sus comunidades de origen. En resumen, la compilación y análisis de datos sobre la población colombiana en el exterior desempeña un papel fundamental en la formulación de estrategias para fortalecer los lazos entre la diáspora y su país de origen, promoviendo así un mayor desarrollo y bienestar para todos los involucrados."
      ],
      "metadata": {
        "id": "0ajMSwcKSKP5"
      }
    },
    {
      "cell_type": "markdown",
      "source": [
        "## **REFERENCIA DEL DATASET**\n",
        "https://www.datos.gov.co/Estad-sticas-Nacionales/Colombianos-registrados-en-el-exterior/y399-rzwf/about_data"
      ],
      "metadata": {
        "id": "Sh9yck3oN60Y"
      }
    },
    {
      "cell_type": "markdown",
      "source": [
        "## **IMPORTACIÓN DE LIBRERIAS**\n",
        "En esta sección del código se realizan las importaciones correspondientes a cada librería que permitiran la realización exitosa de la lectura y el tratamiento de los datos del archivo \".csv\"."
      ],
      "metadata": {
        "id": "TE9bjXMUEzbV"
      }
    },
    {
      "cell_type": "code",
      "execution_count": 2,
      "metadata": {
        "id": "Y09becwgCjnm"
      },
      "outputs": [],
      "source": [
        "import pandas as pd\n",
        "import numpy as np\n",
        "import matplotlib.pyplot as plt"
      ]
    },
    {
      "cell_type": "markdown",
      "source": [
        "## **CARGUE Y LECTURA DEL ARCHIVO CSV**\n",
        "En esta sección del código se carga los datos del archivo CSV en un objeto llamado data_frame"
      ],
      "metadata": {
        "id": "FA2I_H5FHYnI"
      }
    },
    {
      "cell_type": "code",
      "source": [
        "data_frame = pd.read_csv('drive/MyDrive/files/Colombianos_registrados_en_el_exterior_20240221.csv')"
      ],
      "metadata": {
        "id": "d3HD2lI3HqsX"
      },
      "execution_count": 3,
      "outputs": []
    },
    {
      "cell_type": "markdown",
      "source": [
        "## **LIMPIEZA DE LA DATA**\n",
        "\n",
        "ANTES DE TRABAJAR LOS DATOS ES MUY IMPORTANTE CONOCERLOS Y LIMPIARLO PARA EVITAR DISTORCIONES.\n",
        "\n",
        "Para este caso proceseremos con la limpieza de los datos de las columnas con las que vamos a trabajar,\n",
        "en este caso las columnas \"Edad\", \"Altura\" y \"Cantidad de personas\".\n",
        "\n",
        "La cantidad de datos en las columnas es uniformo, lo cual nos indica que no hay datos faltantes a tratar.\n",
        "Actualmente la columna \"Localidad\" no es inecesaria en nuestro conjunto de datos pero, de mantendra temporalmente.\n",
        "En base a los datos tratados, es normal que dispongamos de determinadas filas con la misma informacion, por\n",
        "lo que no es bueno eliminar las columnas repetidas.\n",
        "\n",
        "**COLUMNA EDAD:**\n",
        "Eliminamos los datos no validos de las columnas como los -1 lo cual no tiene sentido en nuestros datos\n",
        "(aunque indique que no se identifica la edad).\n",
        "Tambien eliminamos los valores extremos, lo cuales son personas mayores a 100 años.\n",
        "\n",
        "**COLUMNA ESTATURA:**\n",
        "En el caso de la estatura los valores extremos son menores de 35CM pero tambien hay que tener en cuenta que\n",
        "los inferiores a 10CM no tienen sentido e el ajuste es necesario.\n",
        "\n",
        "**COLUMNA CANTIDAD DE PERSONAS:**\n",
        "Con respecto a la cantidad de personas, solo requiere un ajuste preventivo en el cual se eliminara los\n",
        "valores negativos al no tener sentido y los mayores a 500 para evitar grandes desvios en la graficacion."
      ],
      "metadata": {
        "id": "T2XAPG6o3Z-r"
      }
    },
    {
      "cell_type": "code",
      "source": [
        "data_frame.drop(data_frame[(data_frame['Edad (años)'] <= 0)].index, inplace=True)\n",
        "data_frame.drop(data_frame[(data_frame['Edad (años)'] >= 100)].index, inplace=True)\n",
        "data_frame.drop(data_frame[(data_frame['Estatura (CM)'] < 35)].index, inplace=True)\n",
        "data_frame.drop(data_frame[(data_frame['Estatura (CM)'] > 190)].index, inplace=True)\n",
        "data_frame.drop(data_frame[(data_frame['Cantidad de personas'] < 0)].index, inplace=True)\n",
        "data_frame.drop(data_frame[(data_frame['Cantidad de personas'] > 500)].index, inplace=True)"
      ],
      "metadata": {
        "id": "YyCnXVii3dgE"
      },
      "execution_count": 13,
      "outputs": []
    },
    {
      "cell_type": "markdown",
      "source": [
        "## **NOMBRE Y TIPO DE DATOS DE LAS COLUMNAS**\n",
        "\n",
        "La función **data_frame.info()** en Pandas proporciona un resumen conciso de la estructura y la información básica sobre el DataFrame cargado. RangeIndex: 739595 entries, 0 to 739594: Indica que el DataFrame tiene un índice que va desde 0 hasta 739594, y contiene un total de 739595 filas (entradas).\n",
        "\n",
        "**Data columns (total 14 columns):** Indica que hay un total de 14 columnas en el DataFrame.\n",
        "\n",
        "**Column:** Lista los nombres de las columnas.\n",
        "\n",
        "**Non-Null Count:** Muestra el número de valores no nulos en cada columna, lo que indica cuántos valores válidos hay en cada columna. En este caso, todas las columnas tienen 739595 valores no nulos, lo que significa que no hay valores faltantes en ninguna columna."
      ],
      "metadata": {
        "id": "lxDcxILhMCRp"
      }
    },
    {
      "cell_type": "code",
      "source": [
        "data_frame.info()"
      ],
      "metadata": {
        "colab": {
          "base_uri": "https://localhost:8080/"
        },
        "id": "HqMifW3uM8GK",
        "outputId": "78071f25-dfce-4786-d75e-aa0adad24684"
      },
      "execution_count": 15,
      "outputs": [
        {
          "output_type": "stream",
          "name": "stdout",
          "text": [
            "<class 'pandas.core.frame.DataFrame'>\n",
            "Int64Index: 279489 entries, 1 to 739594\n",
            "Data columns (total 14 columns):\n",
            " #   Column                 Non-Null Count   Dtype \n",
            "---  ------                 --------------   ----- \n",
            " 0   País                   279489 non-null  object\n",
            " 1   Código ISO país        279489 non-null  object\n",
            " 2   Oficina de registro    279489 non-null  object\n",
            " 3   Grupo edad             279489 non-null  object\n",
            " 4   Edad (años)            279489 non-null  int64 \n",
            " 5   Área Conocimiento      279489 non-null  object\n",
            " 6   Sub Area Conocimiento  279489 non-null  object\n",
            " 7   Nivel Académico        279489 non-null  object\n",
            " 8   Estado civil           279489 non-null  object\n",
            " 9   Género                 279489 non-null  object\n",
            " 10  Etnia de la persona    279489 non-null  object\n",
            " 11  Estatura (CM)          279489 non-null  int64 \n",
            " 12  Localización           279489 non-null  object\n",
            " 13  Cantidad de personas   279489 non-null  int64 \n",
            "dtypes: int64(3), object(11)\n",
            "memory usage: 32.0+ MB\n"
          ]
        }
      ]
    },
    {
      "cell_type": "markdown",
      "source": [
        "## **PRIMEROS 5 REGISTROS**\n",
        "\n",
        "La función data_frame.head() en Pandas se utiliza para mostrar las primeras filas del DataFrame. Por defecto, **muestra las primeras 5 filas** pero este número puede cambiar si así se desea. Esta función es útil para obtener una vista previa rápida de cómo se ven los datos en el DataFrame sin tener que mostrar todo el conjunto de datos, lo que puede ser especialmente útil si el DataFrame es grande."
      ],
      "metadata": {
        "id": "CRbfuGSf37wU"
      }
    },
    {
      "cell_type": "code",
      "source": [
        "data_frame.head()"
      ],
      "metadata": {
        "colab": {
          "base_uri": "https://localhost:8080/",
          "height": 345
        },
        "id": "2PxpMOpJ4bgV",
        "outputId": "feae36da-b882-477a-b192-e70707f96d7b"
      },
      "execution_count": 16,
      "outputs": [
        {
          "output_type": "execute_result",
          "data": {
            "text/plain": [
              "             País Código ISO país Oficina de registro Grupo edad  Edad (años)  \\\n",
              "1       VENEZUELA             VEN   C. PUERTO LA CRUZ     ADULTO           52   \n",
              "2          ESPAÑA             ESP           C. MADRID     ADULTO           43   \n",
              "5  ESTADOS UNIDOS             USA            C. MIAMI     ADULTO           56   \n",
              "8  ESTADOS UNIDOS             USA          C. ORLANDO     ADULTO           37   \n",
              "9         ECUADOR             ECU       C. ESMERALDAS     ADULTO           32   \n",
              "\n",
              "  Área Conocimiento Sub Area Conocimiento                 Nivel Académico  \\\n",
              "1         NO INDICA             NO INDICA                        PRIMARIA   \n",
              "2         NO INDICA             NO INDICA                        PRIMARIA   \n",
              "5         NO INDICA             NO INDICA                    BACHILLERATO   \n",
              "8         NO INDICA             NO INDICA  PREGRADO - TÉCNICO PROFESIONAL   \n",
              "9           NINGUNA               NINGUNA                    BACHILLERATO   \n",
              "\n",
              "  Estado civil     Género   Etnia de la persona  Estatura (CM)  \\\n",
              "1      SOLTERO   FEMENINO               NINGUNA            151   \n",
              "2      SOLTERO  MASCULINO  SIN ETNIA REGISTRADA            172   \n",
              "5       CASADO   FEMENINO  SIN ETNIA REGISTRADA            158   \n",
              "8      SOLTERO   FEMENINO               NINGUNA            161   \n",
              "9  UNION_LIBRE   FEMENINO                  OTRO            152   \n",
              "\n",
              "              Localización  Cantidad de personas  \n",
              "1     (6.42375, -66.58973)                     1  \n",
              "2    (40.463667, -3.74922)                     1  \n",
              "5   (37.09024, -95.712891)                     1  \n",
              "8   (37.09024, -95.712891)                     1  \n",
              "9  (-1.831239, -78.183406)                     1  "
            ],
            "text/html": [
              "\n",
              "  <div id=\"df-f6527a1f-8bc9-44ef-ab3c-46bfdbdb2802\" class=\"colab-df-container\">\n",
              "    <div>\n",
              "<style scoped>\n",
              "    .dataframe tbody tr th:only-of-type {\n",
              "        vertical-align: middle;\n",
              "    }\n",
              "\n",
              "    .dataframe tbody tr th {\n",
              "        vertical-align: top;\n",
              "    }\n",
              "\n",
              "    .dataframe thead th {\n",
              "        text-align: right;\n",
              "    }\n",
              "</style>\n",
              "<table border=\"1\" class=\"dataframe\">\n",
              "  <thead>\n",
              "    <tr style=\"text-align: right;\">\n",
              "      <th></th>\n",
              "      <th>País</th>\n",
              "      <th>Código ISO país</th>\n",
              "      <th>Oficina de registro</th>\n",
              "      <th>Grupo edad</th>\n",
              "      <th>Edad (años)</th>\n",
              "      <th>Área Conocimiento</th>\n",
              "      <th>Sub Area Conocimiento</th>\n",
              "      <th>Nivel Académico</th>\n",
              "      <th>Estado civil</th>\n",
              "      <th>Género</th>\n",
              "      <th>Etnia de la persona</th>\n",
              "      <th>Estatura (CM)</th>\n",
              "      <th>Localización</th>\n",
              "      <th>Cantidad de personas</th>\n",
              "    </tr>\n",
              "  </thead>\n",
              "  <tbody>\n",
              "    <tr>\n",
              "      <th>1</th>\n",
              "      <td>VENEZUELA</td>\n",
              "      <td>VEN</td>\n",
              "      <td>C. PUERTO LA CRUZ</td>\n",
              "      <td>ADULTO</td>\n",
              "      <td>52</td>\n",
              "      <td>NO INDICA</td>\n",
              "      <td>NO INDICA</td>\n",
              "      <td>PRIMARIA</td>\n",
              "      <td>SOLTERO</td>\n",
              "      <td>FEMENINO</td>\n",
              "      <td>NINGUNA</td>\n",
              "      <td>151</td>\n",
              "      <td>(6.42375, -66.58973)</td>\n",
              "      <td>1</td>\n",
              "    </tr>\n",
              "    <tr>\n",
              "      <th>2</th>\n",
              "      <td>ESPAÑA</td>\n",
              "      <td>ESP</td>\n",
              "      <td>C. MADRID</td>\n",
              "      <td>ADULTO</td>\n",
              "      <td>43</td>\n",
              "      <td>NO INDICA</td>\n",
              "      <td>NO INDICA</td>\n",
              "      <td>PRIMARIA</td>\n",
              "      <td>SOLTERO</td>\n",
              "      <td>MASCULINO</td>\n",
              "      <td>SIN ETNIA REGISTRADA</td>\n",
              "      <td>172</td>\n",
              "      <td>(40.463667, -3.74922)</td>\n",
              "      <td>1</td>\n",
              "    </tr>\n",
              "    <tr>\n",
              "      <th>5</th>\n",
              "      <td>ESTADOS UNIDOS</td>\n",
              "      <td>USA</td>\n",
              "      <td>C. MIAMI</td>\n",
              "      <td>ADULTO</td>\n",
              "      <td>56</td>\n",
              "      <td>NO INDICA</td>\n",
              "      <td>NO INDICA</td>\n",
              "      <td>BACHILLERATO</td>\n",
              "      <td>CASADO</td>\n",
              "      <td>FEMENINO</td>\n",
              "      <td>SIN ETNIA REGISTRADA</td>\n",
              "      <td>158</td>\n",
              "      <td>(37.09024, -95.712891)</td>\n",
              "      <td>1</td>\n",
              "    </tr>\n",
              "    <tr>\n",
              "      <th>8</th>\n",
              "      <td>ESTADOS UNIDOS</td>\n",
              "      <td>USA</td>\n",
              "      <td>C. ORLANDO</td>\n",
              "      <td>ADULTO</td>\n",
              "      <td>37</td>\n",
              "      <td>NO INDICA</td>\n",
              "      <td>NO INDICA</td>\n",
              "      <td>PREGRADO - TÉCNICO PROFESIONAL</td>\n",
              "      <td>SOLTERO</td>\n",
              "      <td>FEMENINO</td>\n",
              "      <td>NINGUNA</td>\n",
              "      <td>161</td>\n",
              "      <td>(37.09024, -95.712891)</td>\n",
              "      <td>1</td>\n",
              "    </tr>\n",
              "    <tr>\n",
              "      <th>9</th>\n",
              "      <td>ECUADOR</td>\n",
              "      <td>ECU</td>\n",
              "      <td>C. ESMERALDAS</td>\n",
              "      <td>ADULTO</td>\n",
              "      <td>32</td>\n",
              "      <td>NINGUNA</td>\n",
              "      <td>NINGUNA</td>\n",
              "      <td>BACHILLERATO</td>\n",
              "      <td>UNION_LIBRE</td>\n",
              "      <td>FEMENINO</td>\n",
              "      <td>OTRO</td>\n",
              "      <td>152</td>\n",
              "      <td>(-1.831239, -78.183406)</td>\n",
              "      <td>1</td>\n",
              "    </tr>\n",
              "  </tbody>\n",
              "</table>\n",
              "</div>\n",
              "    <div class=\"colab-df-buttons\">\n",
              "\n",
              "  <div class=\"colab-df-container\">\n",
              "    <button class=\"colab-df-convert\" onclick=\"convertToInteractive('df-f6527a1f-8bc9-44ef-ab3c-46bfdbdb2802')\"\n",
              "            title=\"Convert this dataframe to an interactive table.\"\n",
              "            style=\"display:none;\">\n",
              "\n",
              "  <svg xmlns=\"http://www.w3.org/2000/svg\" height=\"24px\" viewBox=\"0 -960 960 960\">\n",
              "    <path d=\"M120-120v-720h720v720H120Zm60-500h600v-160H180v160Zm220 220h160v-160H400v160Zm0 220h160v-160H400v160ZM180-400h160v-160H180v160Zm440 0h160v-160H620v160ZM180-180h160v-160H180v160Zm440 0h160v-160H620v160Z\"/>\n",
              "  </svg>\n",
              "    </button>\n",
              "\n",
              "  <style>\n",
              "    .colab-df-container {\n",
              "      display:flex;\n",
              "      gap: 12px;\n",
              "    }\n",
              "\n",
              "    .colab-df-convert {\n",
              "      background-color: #E8F0FE;\n",
              "      border: none;\n",
              "      border-radius: 50%;\n",
              "      cursor: pointer;\n",
              "      display: none;\n",
              "      fill: #1967D2;\n",
              "      height: 32px;\n",
              "      padding: 0 0 0 0;\n",
              "      width: 32px;\n",
              "    }\n",
              "\n",
              "    .colab-df-convert:hover {\n",
              "      background-color: #E2EBFA;\n",
              "      box-shadow: 0px 1px 2px rgba(60, 64, 67, 0.3), 0px 1px 3px 1px rgba(60, 64, 67, 0.15);\n",
              "      fill: #174EA6;\n",
              "    }\n",
              "\n",
              "    .colab-df-buttons div {\n",
              "      margin-bottom: 4px;\n",
              "    }\n",
              "\n",
              "    [theme=dark] .colab-df-convert {\n",
              "      background-color: #3B4455;\n",
              "      fill: #D2E3FC;\n",
              "    }\n",
              "\n",
              "    [theme=dark] .colab-df-convert:hover {\n",
              "      background-color: #434B5C;\n",
              "      box-shadow: 0px 1px 3px 1px rgba(0, 0, 0, 0.15);\n",
              "      filter: drop-shadow(0px 1px 2px rgba(0, 0, 0, 0.3));\n",
              "      fill: #FFFFFF;\n",
              "    }\n",
              "  </style>\n",
              "\n",
              "    <script>\n",
              "      const buttonEl =\n",
              "        document.querySelector('#df-f6527a1f-8bc9-44ef-ab3c-46bfdbdb2802 button.colab-df-convert');\n",
              "      buttonEl.style.display =\n",
              "        google.colab.kernel.accessAllowed ? 'block' : 'none';\n",
              "\n",
              "      async function convertToInteractive(key) {\n",
              "        const element = document.querySelector('#df-f6527a1f-8bc9-44ef-ab3c-46bfdbdb2802');\n",
              "        const dataTable =\n",
              "          await google.colab.kernel.invokeFunction('convertToInteractive',\n",
              "                                                    [key], {});\n",
              "        if (!dataTable) return;\n",
              "\n",
              "        const docLinkHtml = 'Like what you see? Visit the ' +\n",
              "          '<a target=\"_blank\" href=https://colab.research.google.com/notebooks/data_table.ipynb>data table notebook</a>'\n",
              "          + ' to learn more about interactive tables.';\n",
              "        element.innerHTML = '';\n",
              "        dataTable['output_type'] = 'display_data';\n",
              "        await google.colab.output.renderOutput(dataTable, element);\n",
              "        const docLink = document.createElement('div');\n",
              "        docLink.innerHTML = docLinkHtml;\n",
              "        element.appendChild(docLink);\n",
              "      }\n",
              "    </script>\n",
              "  </div>\n",
              "\n",
              "\n",
              "<div id=\"df-34265759-f387-43d6-aebf-0e6532988ad9\">\n",
              "  <button class=\"colab-df-quickchart\" onclick=\"quickchart('df-34265759-f387-43d6-aebf-0e6532988ad9')\"\n",
              "            title=\"Suggest charts\"\n",
              "            style=\"display:none;\">\n",
              "\n",
              "<svg xmlns=\"http://www.w3.org/2000/svg\" height=\"24px\"viewBox=\"0 0 24 24\"\n",
              "     width=\"24px\">\n",
              "    <g>\n",
              "        <path d=\"M19 3H5c-1.1 0-2 .9-2 2v14c0 1.1.9 2 2 2h14c1.1 0 2-.9 2-2V5c0-1.1-.9-2-2-2zM9 17H7v-7h2v7zm4 0h-2V7h2v10zm4 0h-2v-4h2v4z\"/>\n",
              "    </g>\n",
              "</svg>\n",
              "  </button>\n",
              "\n",
              "<style>\n",
              "  .colab-df-quickchart {\n",
              "      --bg-color: #E8F0FE;\n",
              "      --fill-color: #1967D2;\n",
              "      --hover-bg-color: #E2EBFA;\n",
              "      --hover-fill-color: #174EA6;\n",
              "      --disabled-fill-color: #AAA;\n",
              "      --disabled-bg-color: #DDD;\n",
              "  }\n",
              "\n",
              "  [theme=dark] .colab-df-quickchart {\n",
              "      --bg-color: #3B4455;\n",
              "      --fill-color: #D2E3FC;\n",
              "      --hover-bg-color: #434B5C;\n",
              "      --hover-fill-color: #FFFFFF;\n",
              "      --disabled-bg-color: #3B4455;\n",
              "      --disabled-fill-color: #666;\n",
              "  }\n",
              "\n",
              "  .colab-df-quickchart {\n",
              "    background-color: var(--bg-color);\n",
              "    border: none;\n",
              "    border-radius: 50%;\n",
              "    cursor: pointer;\n",
              "    display: none;\n",
              "    fill: var(--fill-color);\n",
              "    height: 32px;\n",
              "    padding: 0;\n",
              "    width: 32px;\n",
              "  }\n",
              "\n",
              "  .colab-df-quickchart:hover {\n",
              "    background-color: var(--hover-bg-color);\n",
              "    box-shadow: 0 1px 2px rgba(60, 64, 67, 0.3), 0 1px 3px 1px rgba(60, 64, 67, 0.15);\n",
              "    fill: var(--button-hover-fill-color);\n",
              "  }\n",
              "\n",
              "  .colab-df-quickchart-complete:disabled,\n",
              "  .colab-df-quickchart-complete:disabled:hover {\n",
              "    background-color: var(--disabled-bg-color);\n",
              "    fill: var(--disabled-fill-color);\n",
              "    box-shadow: none;\n",
              "  }\n",
              "\n",
              "  .colab-df-spinner {\n",
              "    border: 2px solid var(--fill-color);\n",
              "    border-color: transparent;\n",
              "    border-bottom-color: var(--fill-color);\n",
              "    animation:\n",
              "      spin 1s steps(1) infinite;\n",
              "  }\n",
              "\n",
              "  @keyframes spin {\n",
              "    0% {\n",
              "      border-color: transparent;\n",
              "      border-bottom-color: var(--fill-color);\n",
              "      border-left-color: var(--fill-color);\n",
              "    }\n",
              "    20% {\n",
              "      border-color: transparent;\n",
              "      border-left-color: var(--fill-color);\n",
              "      border-top-color: var(--fill-color);\n",
              "    }\n",
              "    30% {\n",
              "      border-color: transparent;\n",
              "      border-left-color: var(--fill-color);\n",
              "      border-top-color: var(--fill-color);\n",
              "      border-right-color: var(--fill-color);\n",
              "    }\n",
              "    40% {\n",
              "      border-color: transparent;\n",
              "      border-right-color: var(--fill-color);\n",
              "      border-top-color: var(--fill-color);\n",
              "    }\n",
              "    60% {\n",
              "      border-color: transparent;\n",
              "      border-right-color: var(--fill-color);\n",
              "    }\n",
              "    80% {\n",
              "      border-color: transparent;\n",
              "      border-right-color: var(--fill-color);\n",
              "      border-bottom-color: var(--fill-color);\n",
              "    }\n",
              "    90% {\n",
              "      border-color: transparent;\n",
              "      border-bottom-color: var(--fill-color);\n",
              "    }\n",
              "  }\n",
              "</style>\n",
              "\n",
              "  <script>\n",
              "    async function quickchart(key) {\n",
              "      const quickchartButtonEl =\n",
              "        document.querySelector('#' + key + ' button');\n",
              "      quickchartButtonEl.disabled = true;  // To prevent multiple clicks.\n",
              "      quickchartButtonEl.classList.add('colab-df-spinner');\n",
              "      try {\n",
              "        const charts = await google.colab.kernel.invokeFunction(\n",
              "            'suggestCharts', [key], {});\n",
              "      } catch (error) {\n",
              "        console.error('Error during call to suggestCharts:', error);\n",
              "      }\n",
              "      quickchartButtonEl.classList.remove('colab-df-spinner');\n",
              "      quickchartButtonEl.classList.add('colab-df-quickchart-complete');\n",
              "    }\n",
              "    (() => {\n",
              "      let quickchartButtonEl =\n",
              "        document.querySelector('#df-34265759-f387-43d6-aebf-0e6532988ad9 button');\n",
              "      quickchartButtonEl.style.display =\n",
              "        google.colab.kernel.accessAllowed ? 'block' : 'none';\n",
              "    })();\n",
              "  </script>\n",
              "</div>\n",
              "\n",
              "    </div>\n",
              "  </div>\n"
            ],
            "application/vnd.google.colaboratory.intrinsic+json": {
              "type": "dataframe",
              "variable_name": "data_frame"
            }
          },
          "metadata": {},
          "execution_count": 16
        }
      ]
    },
    {
      "cell_type": "markdown",
      "source": [
        "## **GRUPO DE 5 FILAS**\n",
        "\n",
        "El método iloc[] en Pandas se utiliza para la indexación basada en la posición entera de las filas y columnas en un DataFrame. La palabra \"iloc\" significa \"indexación por localización entera\". Este método permite acceder a los datos utilizando números enteros para especificar la ubicación de las filas y columnas.\n",
        "\n",
        "Es útil cuando quieres acceder a los datos en un DataFrame basándote en su posición numérica, ya sea para seleccionar filas específicas, columnas específicas o segmentos del DataFrame. Esto puede ser útil cuando los índices no son necesariamente números enteros consecutivos o cuando necesitas acceder a los datos sin tener en cuenta los índices."
      ],
      "metadata": {
        "id": "RABj2_oY5A0n"
      }
    },
    {
      "cell_type": "code",
      "source": [
        "data_frame.iloc[6:11]"
      ],
      "metadata": {
        "colab": {
          "base_uri": "https://localhost:8080/",
          "height": 345
        },
        "id": "0YcE8gWM6ZRP",
        "outputId": "5aacbac8-977f-4536-d005-c9cf9ded3a38"
      },
      "execution_count": 17,
      "outputs": [
        {
          "output_type": "execute_result",
          "data": {
            "text/plain": [
              "              País Código ISO país Oficina de registro    Grupo edad  \\\n",
              "13  ESTADOS UNIDOS             USA          C. CHICAGO  ADULTO MAYOR   \n",
              "15         FRANCIA             FRA            C. PARIS        ADULTO   \n",
              "16       ARGENTINA             ARG     C. BUENOS AIRES        ADULTO   \n",
              "18  ESTADOS UNIDOS             USA          C. CHICAGO  ADULTO MAYOR   \n",
              "20         ECUADOR             ECU       C. NUEVA LOJA  ADULTO MAYOR   \n",
              "\n",
              "    Edad (años) Área Conocimiento Sub Area Conocimiento  \\\n",
              "13           60         NO INDICA             NO INDICA   \n",
              "15           41         NO INDICA             NO INDICA   \n",
              "16           40         NO INDICA             NO INDICA   \n",
              "18           67         NO INDICA             NO INDICA   \n",
              "20           80         NO INDICA             NO INDICA   \n",
              "\n",
              "                   Nivel Académico Estado civil     Género  \\\n",
              "13            POSTGRADO - MAESTRIA       CASADO   FEMENINO   \n",
              "15                    BACHILLERATO      SOLTERO  MASCULINO   \n",
              "16  PREGRADO - TÉCNICO PROFESIONAL      SOLTERO   FEMENINO   \n",
              "18                        PRIMARIA      SOLTERO   FEMENINO   \n",
              "20                        PRIMARIA       CASADO  MASCULINO   \n",
              "\n",
              "     Etnia de la persona  Estatura (CM)              Localización  \\\n",
              "13  SIN ETNIA REGISTRADA            165    (37.09024, -95.712891)   \n",
              "15               NINGUNA            170     (46.227638, 2.213749)   \n",
              "16               NINGUNA            147  (-38.416097, -63.616672)   \n",
              "18               NINGUNA            151    (37.09024, -95.712891)   \n",
              "20                  OTRO            165   (-1.831239, -78.183406)   \n",
              "\n",
              "    Cantidad de personas  \n",
              "13                     1  \n",
              "15                     1  \n",
              "16                     1  \n",
              "18                     1  \n",
              "20                     1  "
            ],
            "text/html": [
              "\n",
              "  <div id=\"df-0ce853c8-3741-46e1-969d-e043a45c6ad0\" class=\"colab-df-container\">\n",
              "    <div>\n",
              "<style scoped>\n",
              "    .dataframe tbody tr th:only-of-type {\n",
              "        vertical-align: middle;\n",
              "    }\n",
              "\n",
              "    .dataframe tbody tr th {\n",
              "        vertical-align: top;\n",
              "    }\n",
              "\n",
              "    .dataframe thead th {\n",
              "        text-align: right;\n",
              "    }\n",
              "</style>\n",
              "<table border=\"1\" class=\"dataframe\">\n",
              "  <thead>\n",
              "    <tr style=\"text-align: right;\">\n",
              "      <th></th>\n",
              "      <th>País</th>\n",
              "      <th>Código ISO país</th>\n",
              "      <th>Oficina de registro</th>\n",
              "      <th>Grupo edad</th>\n",
              "      <th>Edad (años)</th>\n",
              "      <th>Área Conocimiento</th>\n",
              "      <th>Sub Area Conocimiento</th>\n",
              "      <th>Nivel Académico</th>\n",
              "      <th>Estado civil</th>\n",
              "      <th>Género</th>\n",
              "      <th>Etnia de la persona</th>\n",
              "      <th>Estatura (CM)</th>\n",
              "      <th>Localización</th>\n",
              "      <th>Cantidad de personas</th>\n",
              "    </tr>\n",
              "  </thead>\n",
              "  <tbody>\n",
              "    <tr>\n",
              "      <th>13</th>\n",
              "      <td>ESTADOS UNIDOS</td>\n",
              "      <td>USA</td>\n",
              "      <td>C. CHICAGO</td>\n",
              "      <td>ADULTO MAYOR</td>\n",
              "      <td>60</td>\n",
              "      <td>NO INDICA</td>\n",
              "      <td>NO INDICA</td>\n",
              "      <td>POSTGRADO - MAESTRIA</td>\n",
              "      <td>CASADO</td>\n",
              "      <td>FEMENINO</td>\n",
              "      <td>SIN ETNIA REGISTRADA</td>\n",
              "      <td>165</td>\n",
              "      <td>(37.09024, -95.712891)</td>\n",
              "      <td>1</td>\n",
              "    </tr>\n",
              "    <tr>\n",
              "      <th>15</th>\n",
              "      <td>FRANCIA</td>\n",
              "      <td>FRA</td>\n",
              "      <td>C. PARIS</td>\n",
              "      <td>ADULTO</td>\n",
              "      <td>41</td>\n",
              "      <td>NO INDICA</td>\n",
              "      <td>NO INDICA</td>\n",
              "      <td>BACHILLERATO</td>\n",
              "      <td>SOLTERO</td>\n",
              "      <td>MASCULINO</td>\n",
              "      <td>NINGUNA</td>\n",
              "      <td>170</td>\n",
              "      <td>(46.227638, 2.213749)</td>\n",
              "      <td>1</td>\n",
              "    </tr>\n",
              "    <tr>\n",
              "      <th>16</th>\n",
              "      <td>ARGENTINA</td>\n",
              "      <td>ARG</td>\n",
              "      <td>C. BUENOS AIRES</td>\n",
              "      <td>ADULTO</td>\n",
              "      <td>40</td>\n",
              "      <td>NO INDICA</td>\n",
              "      <td>NO INDICA</td>\n",
              "      <td>PREGRADO - TÉCNICO PROFESIONAL</td>\n",
              "      <td>SOLTERO</td>\n",
              "      <td>FEMENINO</td>\n",
              "      <td>NINGUNA</td>\n",
              "      <td>147</td>\n",
              "      <td>(-38.416097, -63.616672)</td>\n",
              "      <td>1</td>\n",
              "    </tr>\n",
              "    <tr>\n",
              "      <th>18</th>\n",
              "      <td>ESTADOS UNIDOS</td>\n",
              "      <td>USA</td>\n",
              "      <td>C. CHICAGO</td>\n",
              "      <td>ADULTO MAYOR</td>\n",
              "      <td>67</td>\n",
              "      <td>NO INDICA</td>\n",
              "      <td>NO INDICA</td>\n",
              "      <td>PRIMARIA</td>\n",
              "      <td>SOLTERO</td>\n",
              "      <td>FEMENINO</td>\n",
              "      <td>NINGUNA</td>\n",
              "      <td>151</td>\n",
              "      <td>(37.09024, -95.712891)</td>\n",
              "      <td>1</td>\n",
              "    </tr>\n",
              "    <tr>\n",
              "      <th>20</th>\n",
              "      <td>ECUADOR</td>\n",
              "      <td>ECU</td>\n",
              "      <td>C. NUEVA LOJA</td>\n",
              "      <td>ADULTO MAYOR</td>\n",
              "      <td>80</td>\n",
              "      <td>NO INDICA</td>\n",
              "      <td>NO INDICA</td>\n",
              "      <td>PRIMARIA</td>\n",
              "      <td>CASADO</td>\n",
              "      <td>MASCULINO</td>\n",
              "      <td>OTRO</td>\n",
              "      <td>165</td>\n",
              "      <td>(-1.831239, -78.183406)</td>\n",
              "      <td>1</td>\n",
              "    </tr>\n",
              "  </tbody>\n",
              "</table>\n",
              "</div>\n",
              "    <div class=\"colab-df-buttons\">\n",
              "\n",
              "  <div class=\"colab-df-container\">\n",
              "    <button class=\"colab-df-convert\" onclick=\"convertToInteractive('df-0ce853c8-3741-46e1-969d-e043a45c6ad0')\"\n",
              "            title=\"Convert this dataframe to an interactive table.\"\n",
              "            style=\"display:none;\">\n",
              "\n",
              "  <svg xmlns=\"http://www.w3.org/2000/svg\" height=\"24px\" viewBox=\"0 -960 960 960\">\n",
              "    <path d=\"M120-120v-720h720v720H120Zm60-500h600v-160H180v160Zm220 220h160v-160H400v160Zm0 220h160v-160H400v160ZM180-400h160v-160H180v160Zm440 0h160v-160H620v160ZM180-180h160v-160H180v160Zm440 0h160v-160H620v160Z\"/>\n",
              "  </svg>\n",
              "    </button>\n",
              "\n",
              "  <style>\n",
              "    .colab-df-container {\n",
              "      display:flex;\n",
              "      gap: 12px;\n",
              "    }\n",
              "\n",
              "    .colab-df-convert {\n",
              "      background-color: #E8F0FE;\n",
              "      border: none;\n",
              "      border-radius: 50%;\n",
              "      cursor: pointer;\n",
              "      display: none;\n",
              "      fill: #1967D2;\n",
              "      height: 32px;\n",
              "      padding: 0 0 0 0;\n",
              "      width: 32px;\n",
              "    }\n",
              "\n",
              "    .colab-df-convert:hover {\n",
              "      background-color: #E2EBFA;\n",
              "      box-shadow: 0px 1px 2px rgba(60, 64, 67, 0.3), 0px 1px 3px 1px rgba(60, 64, 67, 0.15);\n",
              "      fill: #174EA6;\n",
              "    }\n",
              "\n",
              "    .colab-df-buttons div {\n",
              "      margin-bottom: 4px;\n",
              "    }\n",
              "\n",
              "    [theme=dark] .colab-df-convert {\n",
              "      background-color: #3B4455;\n",
              "      fill: #D2E3FC;\n",
              "    }\n",
              "\n",
              "    [theme=dark] .colab-df-convert:hover {\n",
              "      background-color: #434B5C;\n",
              "      box-shadow: 0px 1px 3px 1px rgba(0, 0, 0, 0.15);\n",
              "      filter: drop-shadow(0px 1px 2px rgba(0, 0, 0, 0.3));\n",
              "      fill: #FFFFFF;\n",
              "    }\n",
              "  </style>\n",
              "\n",
              "    <script>\n",
              "      const buttonEl =\n",
              "        document.querySelector('#df-0ce853c8-3741-46e1-969d-e043a45c6ad0 button.colab-df-convert');\n",
              "      buttonEl.style.display =\n",
              "        google.colab.kernel.accessAllowed ? 'block' : 'none';\n",
              "\n",
              "      async function convertToInteractive(key) {\n",
              "        const element = document.querySelector('#df-0ce853c8-3741-46e1-969d-e043a45c6ad0');\n",
              "        const dataTable =\n",
              "          await google.colab.kernel.invokeFunction('convertToInteractive',\n",
              "                                                    [key], {});\n",
              "        if (!dataTable) return;\n",
              "\n",
              "        const docLinkHtml = 'Like what you see? Visit the ' +\n",
              "          '<a target=\"_blank\" href=https://colab.research.google.com/notebooks/data_table.ipynb>data table notebook</a>'\n",
              "          + ' to learn more about interactive tables.';\n",
              "        element.innerHTML = '';\n",
              "        dataTable['output_type'] = 'display_data';\n",
              "        await google.colab.output.renderOutput(dataTable, element);\n",
              "        const docLink = document.createElement('div');\n",
              "        docLink.innerHTML = docLinkHtml;\n",
              "        element.appendChild(docLink);\n",
              "      }\n",
              "    </script>\n",
              "  </div>\n",
              "\n",
              "\n",
              "<div id=\"df-1d670312-c6a2-4159-9d33-31887130ef1f\">\n",
              "  <button class=\"colab-df-quickchart\" onclick=\"quickchart('df-1d670312-c6a2-4159-9d33-31887130ef1f')\"\n",
              "            title=\"Suggest charts\"\n",
              "            style=\"display:none;\">\n",
              "\n",
              "<svg xmlns=\"http://www.w3.org/2000/svg\" height=\"24px\"viewBox=\"0 0 24 24\"\n",
              "     width=\"24px\">\n",
              "    <g>\n",
              "        <path d=\"M19 3H5c-1.1 0-2 .9-2 2v14c0 1.1.9 2 2 2h14c1.1 0 2-.9 2-2V5c0-1.1-.9-2-2-2zM9 17H7v-7h2v7zm4 0h-2V7h2v10zm4 0h-2v-4h2v4z\"/>\n",
              "    </g>\n",
              "</svg>\n",
              "  </button>\n",
              "\n",
              "<style>\n",
              "  .colab-df-quickchart {\n",
              "      --bg-color: #E8F0FE;\n",
              "      --fill-color: #1967D2;\n",
              "      --hover-bg-color: #E2EBFA;\n",
              "      --hover-fill-color: #174EA6;\n",
              "      --disabled-fill-color: #AAA;\n",
              "      --disabled-bg-color: #DDD;\n",
              "  }\n",
              "\n",
              "  [theme=dark] .colab-df-quickchart {\n",
              "      --bg-color: #3B4455;\n",
              "      --fill-color: #D2E3FC;\n",
              "      --hover-bg-color: #434B5C;\n",
              "      --hover-fill-color: #FFFFFF;\n",
              "      --disabled-bg-color: #3B4455;\n",
              "      --disabled-fill-color: #666;\n",
              "  }\n",
              "\n",
              "  .colab-df-quickchart {\n",
              "    background-color: var(--bg-color);\n",
              "    border: none;\n",
              "    border-radius: 50%;\n",
              "    cursor: pointer;\n",
              "    display: none;\n",
              "    fill: var(--fill-color);\n",
              "    height: 32px;\n",
              "    padding: 0;\n",
              "    width: 32px;\n",
              "  }\n",
              "\n",
              "  .colab-df-quickchart:hover {\n",
              "    background-color: var(--hover-bg-color);\n",
              "    box-shadow: 0 1px 2px rgba(60, 64, 67, 0.3), 0 1px 3px 1px rgba(60, 64, 67, 0.15);\n",
              "    fill: var(--button-hover-fill-color);\n",
              "  }\n",
              "\n",
              "  .colab-df-quickchart-complete:disabled,\n",
              "  .colab-df-quickchart-complete:disabled:hover {\n",
              "    background-color: var(--disabled-bg-color);\n",
              "    fill: var(--disabled-fill-color);\n",
              "    box-shadow: none;\n",
              "  }\n",
              "\n",
              "  .colab-df-spinner {\n",
              "    border: 2px solid var(--fill-color);\n",
              "    border-color: transparent;\n",
              "    border-bottom-color: var(--fill-color);\n",
              "    animation:\n",
              "      spin 1s steps(1) infinite;\n",
              "  }\n",
              "\n",
              "  @keyframes spin {\n",
              "    0% {\n",
              "      border-color: transparent;\n",
              "      border-bottom-color: var(--fill-color);\n",
              "      border-left-color: var(--fill-color);\n",
              "    }\n",
              "    20% {\n",
              "      border-color: transparent;\n",
              "      border-left-color: var(--fill-color);\n",
              "      border-top-color: var(--fill-color);\n",
              "    }\n",
              "    30% {\n",
              "      border-color: transparent;\n",
              "      border-left-color: var(--fill-color);\n",
              "      border-top-color: var(--fill-color);\n",
              "      border-right-color: var(--fill-color);\n",
              "    }\n",
              "    40% {\n",
              "      border-color: transparent;\n",
              "      border-right-color: var(--fill-color);\n",
              "      border-top-color: var(--fill-color);\n",
              "    }\n",
              "    60% {\n",
              "      border-color: transparent;\n",
              "      border-right-color: var(--fill-color);\n",
              "    }\n",
              "    80% {\n",
              "      border-color: transparent;\n",
              "      border-right-color: var(--fill-color);\n",
              "      border-bottom-color: var(--fill-color);\n",
              "    }\n",
              "    90% {\n",
              "      border-color: transparent;\n",
              "      border-bottom-color: var(--fill-color);\n",
              "    }\n",
              "  }\n",
              "</style>\n",
              "\n",
              "  <script>\n",
              "    async function quickchart(key) {\n",
              "      const quickchartButtonEl =\n",
              "        document.querySelector('#' + key + ' button');\n",
              "      quickchartButtonEl.disabled = true;  // To prevent multiple clicks.\n",
              "      quickchartButtonEl.classList.add('colab-df-spinner');\n",
              "      try {\n",
              "        const charts = await google.colab.kernel.invokeFunction(\n",
              "            'suggestCharts', [key], {});\n",
              "      } catch (error) {\n",
              "        console.error('Error during call to suggestCharts:', error);\n",
              "      }\n",
              "      quickchartButtonEl.classList.remove('colab-df-spinner');\n",
              "      quickchartButtonEl.classList.add('colab-df-quickchart-complete');\n",
              "    }\n",
              "    (() => {\n",
              "      let quickchartButtonEl =\n",
              "        document.querySelector('#df-1d670312-c6a2-4159-9d33-31887130ef1f button');\n",
              "      quickchartButtonEl.style.display =\n",
              "        google.colab.kernel.accessAllowed ? 'block' : 'none';\n",
              "    })();\n",
              "  </script>\n",
              "</div>\n",
              "\n",
              "    </div>\n",
              "  </div>\n"
            ],
            "application/vnd.google.colaboratory.intrinsic+json": {
              "type": "dataframe",
              "summary": "{\n  \"name\": \"data_frame\",\n  \"rows\": 5,\n  \"fields\": [\n    {\n      \"column\": \"Pa\\u00eds\",\n      \"properties\": {\n        \"dtype\": \"string\",\n        \"num_unique_values\": 4,\n        \"samples\": [\n          \"FRANCIA\",\n          \"ECUADOR\",\n          \"ESTADOS UNIDOS\"\n        ],\n        \"semantic_type\": \"\",\n        \"description\": \"\"\n      }\n    },\n    {\n      \"column\": \"C\\u00f3digo ISO pa\\u00eds\",\n      \"properties\": {\n        \"dtype\": \"string\",\n        \"num_unique_values\": 4,\n        \"samples\": [\n          \"FRA\",\n          \"ECU\",\n          \"USA\"\n        ],\n        \"semantic_type\": \"\",\n        \"description\": \"\"\n      }\n    },\n    {\n      \"column\": \"Oficina de registro\",\n      \"properties\": {\n        \"dtype\": \"string\",\n        \"num_unique_values\": 4,\n        \"samples\": [\n          \"C. PARIS\",\n          \"C. NUEVA LOJA\",\n          \"C. CHICAGO\"\n        ],\n        \"semantic_type\": \"\",\n        \"description\": \"\"\n      }\n    },\n    {\n      \"column\": \"Grupo edad\",\n      \"properties\": {\n        \"dtype\": \"category\",\n        \"num_unique_values\": 2,\n        \"samples\": [\n          \"ADULTO\",\n          \"ADULTO MAYOR\"\n        ],\n        \"semantic_type\": \"\",\n        \"description\": \"\"\n      }\n    },\n    {\n      \"column\": \"Edad (a\\u00f1os)\",\n      \"properties\": {\n        \"dtype\": \"number\",\n        \"std\": 17,\n        \"min\": 40,\n        \"max\": 80,\n        \"num_unique_values\": 5,\n        \"samples\": [\n          41,\n          80\n        ],\n        \"semantic_type\": \"\",\n        \"description\": \"\"\n      }\n    },\n    {\n      \"column\": \"\\u00c1rea Conocimiento\",\n      \"properties\": {\n        \"dtype\": \"category\",\n        \"num_unique_values\": 1,\n        \"samples\": [\n          \"NO INDICA\"\n        ],\n        \"semantic_type\": \"\",\n        \"description\": \"\"\n      }\n    },\n    {\n      \"column\": \"Sub Area Conocimiento\",\n      \"properties\": {\n        \"dtype\": \"category\",\n        \"num_unique_values\": 1,\n        \"samples\": [\n          \"NO INDICA\"\n        ],\n        \"semantic_type\": \"\",\n        \"description\": \"\"\n      }\n    },\n    {\n      \"column\": \"Nivel Acad\\u00e9mico\",\n      \"properties\": {\n        \"dtype\": \"string\",\n        \"num_unique_values\": 4,\n        \"samples\": [\n          \"BACHILLERATO\"\n        ],\n        \"semantic_type\": \"\",\n        \"description\": \"\"\n      }\n    },\n    {\n      \"column\": \"Estado civil\",\n      \"properties\": {\n        \"dtype\": \"category\",\n        \"num_unique_values\": 2,\n        \"samples\": [\n          \"SOLTERO\"\n        ],\n        \"semantic_type\": \"\",\n        \"description\": \"\"\n      }\n    },\n    {\n      \"column\": \"G\\u00e9nero\",\n      \"properties\": {\n        \"dtype\": \"category\",\n        \"num_unique_values\": 2,\n        \"samples\": [\n          \"MASCULINO\"\n        ],\n        \"semantic_type\": \"\",\n        \"description\": \"\"\n      }\n    },\n    {\n      \"column\": \"Etnia de la persona\",\n      \"properties\": {\n        \"dtype\": \"string\",\n        \"num_unique_values\": 3,\n        \"samples\": [\n          \"SIN ETNIA REGISTRADA\"\n        ],\n        \"semantic_type\": \"\",\n        \"description\": \"\"\n      }\n    },\n    {\n      \"column\": \"Estatura (CM)\",\n      \"properties\": {\n        \"dtype\": \"number\",\n        \"std\": 9,\n        \"min\": 147,\n        \"max\": 170,\n        \"num_unique_values\": 4,\n        \"samples\": [\n          170\n        ],\n        \"semantic_type\": \"\",\n        \"description\": \"\"\n      }\n    },\n    {\n      \"column\": \"Localizaci\\u00f3n\",\n      \"properties\": {\n        \"dtype\": \"string\",\n        \"num_unique_values\": 4,\n        \"samples\": [\n          \"(46.227638, 2.213749)\"\n        ],\n        \"semantic_type\": \"\",\n        \"description\": \"\"\n      }\n    },\n    {\n      \"column\": \"Cantidad de personas\",\n      \"properties\": {\n        \"dtype\": \"number\",\n        \"std\": 0,\n        \"min\": 1,\n        \"max\": 1,\n        \"num_unique_values\": 1,\n        \"samples\": [\n          1\n        ],\n        \"semantic_type\": \"\",\n        \"description\": \"\"\n      }\n    }\n  ]\n}"
            }
          },
          "metadata": {},
          "execution_count": 17
        }
      ]
    },
    {
      "cell_type": "markdown",
      "source": [
        "## **GRUPO DE 5 COLUMNAS**\n",
        "\n",
        "El método iloc[] en Pandas se utiliza para indexar y seleccionar datos de un DataFrame basándose en su posición entera, tanto para filas como para columnas. Sin embargo, cuando se utiliza para seleccionar columnas, se especifican las posiciones de las columnas en lugar de las filas."
      ],
      "metadata": {
        "id": "oULPh6-b7Obp"
      }
    },
    {
      "cell_type": "code",
      "source": [
        "data_frame.iloc[:, :5]"
      ],
      "metadata": {
        "colab": {
          "base_uri": "https://localhost:8080/",
          "height": 424
        },
        "id": "Em6ACPOj7PGj",
        "outputId": "4ca354c3-7c5e-4cf9-fb15-11ae95a2e91c"
      },
      "execution_count": 18,
      "outputs": [
        {
          "output_type": "execute_result",
          "data": {
            "text/plain": [
              "                  País Código ISO país Oficina de registro    Grupo edad  \\\n",
              "1            VENEZUELA             VEN   C. PUERTO LA CRUZ        ADULTO   \n",
              "2               ESPAÑA             ESP           C. MADRID        ADULTO   \n",
              "5       ESTADOS UNIDOS             USA            C. MIAMI        ADULTO   \n",
              "8       ESTADOS UNIDOS             USA          C. ORLANDO        ADULTO   \n",
              "9              ECUADOR             ECU       C. ESMERALDAS        ADULTO   \n",
              "...                ...             ...                 ...           ...   \n",
              "739583          ITALIA             ITA             C. ROMA        ADULTO   \n",
              "739584         FRANCIA             FRA            C. PARIS  ADULTO JOVEN   \n",
              "739588  ESTADOS UNIDOS             USA            C. MIAMI  ADULTO JOVEN   \n",
              "739593           CHILE             CHL         C. SANTIAGO  ADULTO MAYOR   \n",
              "739594          ESPAÑA             ESP           C. MADRID  ADULTO MAYOR   \n",
              "\n",
              "        Edad (años)  \n",
              "1                52  \n",
              "2                43  \n",
              "5                56  \n",
              "8                37  \n",
              "9                32  \n",
              "...             ...  \n",
              "739583           57  \n",
              "739584           28  \n",
              "739588           23  \n",
              "739593           62  \n",
              "739594           64  \n",
              "\n",
              "[279489 rows x 5 columns]"
            ],
            "text/html": [
              "\n",
              "  <div id=\"df-a8e3595e-f3c3-4e73-bfbf-29235abb8390\" class=\"colab-df-container\">\n",
              "    <div>\n",
              "<style scoped>\n",
              "    .dataframe tbody tr th:only-of-type {\n",
              "        vertical-align: middle;\n",
              "    }\n",
              "\n",
              "    .dataframe tbody tr th {\n",
              "        vertical-align: top;\n",
              "    }\n",
              "\n",
              "    .dataframe thead th {\n",
              "        text-align: right;\n",
              "    }\n",
              "</style>\n",
              "<table border=\"1\" class=\"dataframe\">\n",
              "  <thead>\n",
              "    <tr style=\"text-align: right;\">\n",
              "      <th></th>\n",
              "      <th>País</th>\n",
              "      <th>Código ISO país</th>\n",
              "      <th>Oficina de registro</th>\n",
              "      <th>Grupo edad</th>\n",
              "      <th>Edad (años)</th>\n",
              "    </tr>\n",
              "  </thead>\n",
              "  <tbody>\n",
              "    <tr>\n",
              "      <th>1</th>\n",
              "      <td>VENEZUELA</td>\n",
              "      <td>VEN</td>\n",
              "      <td>C. PUERTO LA CRUZ</td>\n",
              "      <td>ADULTO</td>\n",
              "      <td>52</td>\n",
              "    </tr>\n",
              "    <tr>\n",
              "      <th>2</th>\n",
              "      <td>ESPAÑA</td>\n",
              "      <td>ESP</td>\n",
              "      <td>C. MADRID</td>\n",
              "      <td>ADULTO</td>\n",
              "      <td>43</td>\n",
              "    </tr>\n",
              "    <tr>\n",
              "      <th>5</th>\n",
              "      <td>ESTADOS UNIDOS</td>\n",
              "      <td>USA</td>\n",
              "      <td>C. MIAMI</td>\n",
              "      <td>ADULTO</td>\n",
              "      <td>56</td>\n",
              "    </tr>\n",
              "    <tr>\n",
              "      <th>8</th>\n",
              "      <td>ESTADOS UNIDOS</td>\n",
              "      <td>USA</td>\n",
              "      <td>C. ORLANDO</td>\n",
              "      <td>ADULTO</td>\n",
              "      <td>37</td>\n",
              "    </tr>\n",
              "    <tr>\n",
              "      <th>9</th>\n",
              "      <td>ECUADOR</td>\n",
              "      <td>ECU</td>\n",
              "      <td>C. ESMERALDAS</td>\n",
              "      <td>ADULTO</td>\n",
              "      <td>32</td>\n",
              "    </tr>\n",
              "    <tr>\n",
              "      <th>...</th>\n",
              "      <td>...</td>\n",
              "      <td>...</td>\n",
              "      <td>...</td>\n",
              "      <td>...</td>\n",
              "      <td>...</td>\n",
              "    </tr>\n",
              "    <tr>\n",
              "      <th>739583</th>\n",
              "      <td>ITALIA</td>\n",
              "      <td>ITA</td>\n",
              "      <td>C. ROMA</td>\n",
              "      <td>ADULTO</td>\n",
              "      <td>57</td>\n",
              "    </tr>\n",
              "    <tr>\n",
              "      <th>739584</th>\n",
              "      <td>FRANCIA</td>\n",
              "      <td>FRA</td>\n",
              "      <td>C. PARIS</td>\n",
              "      <td>ADULTO JOVEN</td>\n",
              "      <td>28</td>\n",
              "    </tr>\n",
              "    <tr>\n",
              "      <th>739588</th>\n",
              "      <td>ESTADOS UNIDOS</td>\n",
              "      <td>USA</td>\n",
              "      <td>C. MIAMI</td>\n",
              "      <td>ADULTO JOVEN</td>\n",
              "      <td>23</td>\n",
              "    </tr>\n",
              "    <tr>\n",
              "      <th>739593</th>\n",
              "      <td>CHILE</td>\n",
              "      <td>CHL</td>\n",
              "      <td>C. SANTIAGO</td>\n",
              "      <td>ADULTO MAYOR</td>\n",
              "      <td>62</td>\n",
              "    </tr>\n",
              "    <tr>\n",
              "      <th>739594</th>\n",
              "      <td>ESPAÑA</td>\n",
              "      <td>ESP</td>\n",
              "      <td>C. MADRID</td>\n",
              "      <td>ADULTO MAYOR</td>\n",
              "      <td>64</td>\n",
              "    </tr>\n",
              "  </tbody>\n",
              "</table>\n",
              "<p>279489 rows × 5 columns</p>\n",
              "</div>\n",
              "    <div class=\"colab-df-buttons\">\n",
              "\n",
              "  <div class=\"colab-df-container\">\n",
              "    <button class=\"colab-df-convert\" onclick=\"convertToInteractive('df-a8e3595e-f3c3-4e73-bfbf-29235abb8390')\"\n",
              "            title=\"Convert this dataframe to an interactive table.\"\n",
              "            style=\"display:none;\">\n",
              "\n",
              "  <svg xmlns=\"http://www.w3.org/2000/svg\" height=\"24px\" viewBox=\"0 -960 960 960\">\n",
              "    <path d=\"M120-120v-720h720v720H120Zm60-500h600v-160H180v160Zm220 220h160v-160H400v160Zm0 220h160v-160H400v160ZM180-400h160v-160H180v160Zm440 0h160v-160H620v160ZM180-180h160v-160H180v160Zm440 0h160v-160H620v160Z\"/>\n",
              "  </svg>\n",
              "    </button>\n",
              "\n",
              "  <style>\n",
              "    .colab-df-container {\n",
              "      display:flex;\n",
              "      gap: 12px;\n",
              "    }\n",
              "\n",
              "    .colab-df-convert {\n",
              "      background-color: #E8F0FE;\n",
              "      border: none;\n",
              "      border-radius: 50%;\n",
              "      cursor: pointer;\n",
              "      display: none;\n",
              "      fill: #1967D2;\n",
              "      height: 32px;\n",
              "      padding: 0 0 0 0;\n",
              "      width: 32px;\n",
              "    }\n",
              "\n",
              "    .colab-df-convert:hover {\n",
              "      background-color: #E2EBFA;\n",
              "      box-shadow: 0px 1px 2px rgba(60, 64, 67, 0.3), 0px 1px 3px 1px rgba(60, 64, 67, 0.15);\n",
              "      fill: #174EA6;\n",
              "    }\n",
              "\n",
              "    .colab-df-buttons div {\n",
              "      margin-bottom: 4px;\n",
              "    }\n",
              "\n",
              "    [theme=dark] .colab-df-convert {\n",
              "      background-color: #3B4455;\n",
              "      fill: #D2E3FC;\n",
              "    }\n",
              "\n",
              "    [theme=dark] .colab-df-convert:hover {\n",
              "      background-color: #434B5C;\n",
              "      box-shadow: 0px 1px 3px 1px rgba(0, 0, 0, 0.15);\n",
              "      filter: drop-shadow(0px 1px 2px rgba(0, 0, 0, 0.3));\n",
              "      fill: #FFFFFF;\n",
              "    }\n",
              "  </style>\n",
              "\n",
              "    <script>\n",
              "      const buttonEl =\n",
              "        document.querySelector('#df-a8e3595e-f3c3-4e73-bfbf-29235abb8390 button.colab-df-convert');\n",
              "      buttonEl.style.display =\n",
              "        google.colab.kernel.accessAllowed ? 'block' : 'none';\n",
              "\n",
              "      async function convertToInteractive(key) {\n",
              "        const element = document.querySelector('#df-a8e3595e-f3c3-4e73-bfbf-29235abb8390');\n",
              "        const dataTable =\n",
              "          await google.colab.kernel.invokeFunction('convertToInteractive',\n",
              "                                                    [key], {});\n",
              "        if (!dataTable) return;\n",
              "\n",
              "        const docLinkHtml = 'Like what you see? Visit the ' +\n",
              "          '<a target=\"_blank\" href=https://colab.research.google.com/notebooks/data_table.ipynb>data table notebook</a>'\n",
              "          + ' to learn more about interactive tables.';\n",
              "        element.innerHTML = '';\n",
              "        dataTable['output_type'] = 'display_data';\n",
              "        await google.colab.output.renderOutput(dataTable, element);\n",
              "        const docLink = document.createElement('div');\n",
              "        docLink.innerHTML = docLinkHtml;\n",
              "        element.appendChild(docLink);\n",
              "      }\n",
              "    </script>\n",
              "  </div>\n",
              "\n",
              "\n",
              "<div id=\"df-e94eb3c4-74b6-4b04-b739-8e86088f6de2\">\n",
              "  <button class=\"colab-df-quickchart\" onclick=\"quickchart('df-e94eb3c4-74b6-4b04-b739-8e86088f6de2')\"\n",
              "            title=\"Suggest charts\"\n",
              "            style=\"display:none;\">\n",
              "\n",
              "<svg xmlns=\"http://www.w3.org/2000/svg\" height=\"24px\"viewBox=\"0 0 24 24\"\n",
              "     width=\"24px\">\n",
              "    <g>\n",
              "        <path d=\"M19 3H5c-1.1 0-2 .9-2 2v14c0 1.1.9 2 2 2h14c1.1 0 2-.9 2-2V5c0-1.1-.9-2-2-2zM9 17H7v-7h2v7zm4 0h-2V7h2v10zm4 0h-2v-4h2v4z\"/>\n",
              "    </g>\n",
              "</svg>\n",
              "  </button>\n",
              "\n",
              "<style>\n",
              "  .colab-df-quickchart {\n",
              "      --bg-color: #E8F0FE;\n",
              "      --fill-color: #1967D2;\n",
              "      --hover-bg-color: #E2EBFA;\n",
              "      --hover-fill-color: #174EA6;\n",
              "      --disabled-fill-color: #AAA;\n",
              "      --disabled-bg-color: #DDD;\n",
              "  }\n",
              "\n",
              "  [theme=dark] .colab-df-quickchart {\n",
              "      --bg-color: #3B4455;\n",
              "      --fill-color: #D2E3FC;\n",
              "      --hover-bg-color: #434B5C;\n",
              "      --hover-fill-color: #FFFFFF;\n",
              "      --disabled-bg-color: #3B4455;\n",
              "      --disabled-fill-color: #666;\n",
              "  }\n",
              "\n",
              "  .colab-df-quickchart {\n",
              "    background-color: var(--bg-color);\n",
              "    border: none;\n",
              "    border-radius: 50%;\n",
              "    cursor: pointer;\n",
              "    display: none;\n",
              "    fill: var(--fill-color);\n",
              "    height: 32px;\n",
              "    padding: 0;\n",
              "    width: 32px;\n",
              "  }\n",
              "\n",
              "  .colab-df-quickchart:hover {\n",
              "    background-color: var(--hover-bg-color);\n",
              "    box-shadow: 0 1px 2px rgba(60, 64, 67, 0.3), 0 1px 3px 1px rgba(60, 64, 67, 0.15);\n",
              "    fill: var(--button-hover-fill-color);\n",
              "  }\n",
              "\n",
              "  .colab-df-quickchart-complete:disabled,\n",
              "  .colab-df-quickchart-complete:disabled:hover {\n",
              "    background-color: var(--disabled-bg-color);\n",
              "    fill: var(--disabled-fill-color);\n",
              "    box-shadow: none;\n",
              "  }\n",
              "\n",
              "  .colab-df-spinner {\n",
              "    border: 2px solid var(--fill-color);\n",
              "    border-color: transparent;\n",
              "    border-bottom-color: var(--fill-color);\n",
              "    animation:\n",
              "      spin 1s steps(1) infinite;\n",
              "  }\n",
              "\n",
              "  @keyframes spin {\n",
              "    0% {\n",
              "      border-color: transparent;\n",
              "      border-bottom-color: var(--fill-color);\n",
              "      border-left-color: var(--fill-color);\n",
              "    }\n",
              "    20% {\n",
              "      border-color: transparent;\n",
              "      border-left-color: var(--fill-color);\n",
              "      border-top-color: var(--fill-color);\n",
              "    }\n",
              "    30% {\n",
              "      border-color: transparent;\n",
              "      border-left-color: var(--fill-color);\n",
              "      border-top-color: var(--fill-color);\n",
              "      border-right-color: var(--fill-color);\n",
              "    }\n",
              "    40% {\n",
              "      border-color: transparent;\n",
              "      border-right-color: var(--fill-color);\n",
              "      border-top-color: var(--fill-color);\n",
              "    }\n",
              "    60% {\n",
              "      border-color: transparent;\n",
              "      border-right-color: var(--fill-color);\n",
              "    }\n",
              "    80% {\n",
              "      border-color: transparent;\n",
              "      border-right-color: var(--fill-color);\n",
              "      border-bottom-color: var(--fill-color);\n",
              "    }\n",
              "    90% {\n",
              "      border-color: transparent;\n",
              "      border-bottom-color: var(--fill-color);\n",
              "    }\n",
              "  }\n",
              "</style>\n",
              "\n",
              "  <script>\n",
              "    async function quickchart(key) {\n",
              "      const quickchartButtonEl =\n",
              "        document.querySelector('#' + key + ' button');\n",
              "      quickchartButtonEl.disabled = true;  // To prevent multiple clicks.\n",
              "      quickchartButtonEl.classList.add('colab-df-spinner');\n",
              "      try {\n",
              "        const charts = await google.colab.kernel.invokeFunction(\n",
              "            'suggestCharts', [key], {});\n",
              "      } catch (error) {\n",
              "        console.error('Error during call to suggestCharts:', error);\n",
              "      }\n",
              "      quickchartButtonEl.classList.remove('colab-df-spinner');\n",
              "      quickchartButtonEl.classList.add('colab-df-quickchart-complete');\n",
              "    }\n",
              "    (() => {\n",
              "      let quickchartButtonEl =\n",
              "        document.querySelector('#df-e94eb3c4-74b6-4b04-b739-8e86088f6de2 button');\n",
              "      quickchartButtonEl.style.display =\n",
              "        google.colab.kernel.accessAllowed ? 'block' : 'none';\n",
              "    })();\n",
              "  </script>\n",
              "</div>\n",
              "\n",
              "    </div>\n",
              "  </div>\n"
            ],
            "application/vnd.google.colaboratory.intrinsic+json": {
              "type": "dataframe"
            }
          },
          "metadata": {},
          "execution_count": 18
        }
      ]
    },
    {
      "cell_type": "markdown",
      "source": [
        "## **3 CAMPOS DE VARIABLE CUANTITATIVA**\n",
        "\n",
        "PARA LOS SIGUIENTES CAMPOS:\n",
        "1.   Edad (años).\n",
        "2.   Estatura (CM).\n",
        "3.   Cantidad de personas.\n",
        "\n",
        "SE REALIZA:\n",
        "1.   Media\n",
        "2.   Moda\n",
        "3.   Mediana\n",
        "4.   Máximo\n",
        "5.   Mínimo\n",
        "6.   Caja de bigote\n",
        "7.   Histograma"
      ],
      "metadata": {
        "id": "CLpXAN3A9xhc"
      }
    },
    {
      "cell_type": "markdown",
      "source": [
        "##### **MEDIA**\n",
        "\n",
        "La media aritmética se define como la suma de N elementos dividida entre N. Se trata una medida bastante conocida entre la gente, aunque tiene el inconveniente de que es muy susceptible a valores extremos. En pandas, el método que funciona para obtener el promedio o la media es mean()."
      ],
      "metadata": {
        "id": "9EFkF10iGPn2"
      }
    },
    {
      "cell_type": "code",
      "source": [
        "promedio = data_frame.loc[:, ['Edad (años)', 'Estatura (CM)', 'Cantidad de personas']].mean()\n",
        "print(\"Promedio por columna:\\n\", promedio)"
      ],
      "metadata": {
        "colab": {
          "base_uri": "https://localhost:8080/"
        },
        "id": "sq57dKUgOH0R",
        "outputId": "dcdc0e6b-12e2-44d1-a45b-53e0d9a11941"
      },
      "execution_count": 19,
      "outputs": [
        {
          "output_type": "stream",
          "name": "stdout",
          "text": [
            "Promedio por columna:\n",
            " Edad (años)              49.395987\n",
            "Estatura (CM)           164.234299\n",
            "Cantidad de personas      1.117436\n",
            "dtype: float64\n"
          ]
        }
      ]
    },
    {
      "cell_type": "markdown",
      "source": [
        "##### **MODA**\n",
        "\n",
        "En Pandas, el método mode() se utiliza para calcular la moda de un DataFrame o de una Serie. La moda representa el valor que aparece con mayor frecuencia en un conjunto de datos.\n",
        "\n",
        "Cuando aplicas mode() a un DataFrame, el método devuelve un nuevo DataFrame que contiene las modas de cada columna. Si hay varios valores que son igualmente frecuentes y son la moda, mode() devolverá todos esos valores."
      ],
      "metadata": {
        "id": "b-hFHwCYdxRJ"
      }
    },
    {
      "cell_type": "code",
      "source": [
        "print(\"Moda por columna:\\n\")\n",
        "data_frame.loc[:, ['Edad (años)', 'Estatura (CM)', 'Cantidad de personas']].mode()"
      ],
      "metadata": {
        "colab": {
          "base_uri": "https://localhost:8080/",
          "height": 115
        },
        "id": "ugp5Rjh2eWYx",
        "outputId": "2df633cb-5125-4554-a645-9893447d335f"
      },
      "execution_count": 42,
      "outputs": [
        {
          "output_type": "stream",
          "name": "stdout",
          "text": [
            "Moda por columna:\n",
            "\n"
          ]
        },
        {
          "output_type": "execute_result",
          "data": {
            "text/plain": [
              "   Edad (años)  Estatura (CM)  Cantidad de personas\n",
              "0           44            160                     1"
            ],
            "text/html": [
              "\n",
              "  <div id=\"df-968ba3a8-16f3-471c-9b90-b9b4b9d97847\" class=\"colab-df-container\">\n",
              "    <div>\n",
              "<style scoped>\n",
              "    .dataframe tbody tr th:only-of-type {\n",
              "        vertical-align: middle;\n",
              "    }\n",
              "\n",
              "    .dataframe tbody tr th {\n",
              "        vertical-align: top;\n",
              "    }\n",
              "\n",
              "    .dataframe thead th {\n",
              "        text-align: right;\n",
              "    }\n",
              "</style>\n",
              "<table border=\"1\" class=\"dataframe\">\n",
              "  <thead>\n",
              "    <tr style=\"text-align: right;\">\n",
              "      <th></th>\n",
              "      <th>Edad (años)</th>\n",
              "      <th>Estatura (CM)</th>\n",
              "      <th>Cantidad de personas</th>\n",
              "    </tr>\n",
              "  </thead>\n",
              "  <tbody>\n",
              "    <tr>\n",
              "      <th>0</th>\n",
              "      <td>44</td>\n",
              "      <td>160</td>\n",
              "      <td>1</td>\n",
              "    </tr>\n",
              "  </tbody>\n",
              "</table>\n",
              "</div>\n",
              "    <div class=\"colab-df-buttons\">\n",
              "\n",
              "  <div class=\"colab-df-container\">\n",
              "    <button class=\"colab-df-convert\" onclick=\"convertToInteractive('df-968ba3a8-16f3-471c-9b90-b9b4b9d97847')\"\n",
              "            title=\"Convert this dataframe to an interactive table.\"\n",
              "            style=\"display:none;\">\n",
              "\n",
              "  <svg xmlns=\"http://www.w3.org/2000/svg\" height=\"24px\" viewBox=\"0 -960 960 960\">\n",
              "    <path d=\"M120-120v-720h720v720H120Zm60-500h600v-160H180v160Zm220 220h160v-160H400v160Zm0 220h160v-160H400v160ZM180-400h160v-160H180v160Zm440 0h160v-160H620v160ZM180-180h160v-160H180v160Zm440 0h160v-160H620v160Z\"/>\n",
              "  </svg>\n",
              "    </button>\n",
              "\n",
              "  <style>\n",
              "    .colab-df-container {\n",
              "      display:flex;\n",
              "      gap: 12px;\n",
              "    }\n",
              "\n",
              "    .colab-df-convert {\n",
              "      background-color: #E8F0FE;\n",
              "      border: none;\n",
              "      border-radius: 50%;\n",
              "      cursor: pointer;\n",
              "      display: none;\n",
              "      fill: #1967D2;\n",
              "      height: 32px;\n",
              "      padding: 0 0 0 0;\n",
              "      width: 32px;\n",
              "    }\n",
              "\n",
              "    .colab-df-convert:hover {\n",
              "      background-color: #E2EBFA;\n",
              "      box-shadow: 0px 1px 2px rgba(60, 64, 67, 0.3), 0px 1px 3px 1px rgba(60, 64, 67, 0.15);\n",
              "      fill: #174EA6;\n",
              "    }\n",
              "\n",
              "    .colab-df-buttons div {\n",
              "      margin-bottom: 4px;\n",
              "    }\n",
              "\n",
              "    [theme=dark] .colab-df-convert {\n",
              "      background-color: #3B4455;\n",
              "      fill: #D2E3FC;\n",
              "    }\n",
              "\n",
              "    [theme=dark] .colab-df-convert:hover {\n",
              "      background-color: #434B5C;\n",
              "      box-shadow: 0px 1px 3px 1px rgba(0, 0, 0, 0.15);\n",
              "      filter: drop-shadow(0px 1px 2px rgba(0, 0, 0, 0.3));\n",
              "      fill: #FFFFFF;\n",
              "    }\n",
              "  </style>\n",
              "\n",
              "    <script>\n",
              "      const buttonEl =\n",
              "        document.querySelector('#df-968ba3a8-16f3-471c-9b90-b9b4b9d97847 button.colab-df-convert');\n",
              "      buttonEl.style.display =\n",
              "        google.colab.kernel.accessAllowed ? 'block' : 'none';\n",
              "\n",
              "      async function convertToInteractive(key) {\n",
              "        const element = document.querySelector('#df-968ba3a8-16f3-471c-9b90-b9b4b9d97847');\n",
              "        const dataTable =\n",
              "          await google.colab.kernel.invokeFunction('convertToInteractive',\n",
              "                                                    [key], {});\n",
              "        if (!dataTable) return;\n",
              "\n",
              "        const docLinkHtml = 'Like what you see? Visit the ' +\n",
              "          '<a target=\"_blank\" href=https://colab.research.google.com/notebooks/data_table.ipynb>data table notebook</a>'\n",
              "          + ' to learn more about interactive tables.';\n",
              "        element.innerHTML = '';\n",
              "        dataTable['output_type'] = 'display_data';\n",
              "        await google.colab.output.renderOutput(dataTable, element);\n",
              "        const docLink = document.createElement('div');\n",
              "        docLink.innerHTML = docLinkHtml;\n",
              "        element.appendChild(docLink);\n",
              "      }\n",
              "    </script>\n",
              "  </div>\n",
              "\n",
              "\n",
              "    </div>\n",
              "  </div>\n"
            ],
            "application/vnd.google.colaboratory.intrinsic+json": {
              "type": "dataframe",
              "summary": "{\n  \"name\": \"data_frame\",\n  \"rows\": 1,\n  \"fields\": [\n    {\n      \"column\": \"Edad (a\\u00f1os)\",\n      \"properties\": {\n        \"dtype\": \"number\",\n        \"std\": null,\n        \"min\": 44,\n        \"max\": 44,\n        \"num_unique_values\": 1,\n        \"samples\": [\n          44\n        ],\n        \"semantic_type\": \"\",\n        \"description\": \"\"\n      }\n    },\n    {\n      \"column\": \"Estatura (CM)\",\n      \"properties\": {\n        \"dtype\": \"number\",\n        \"std\": null,\n        \"min\": 160,\n        \"max\": 160,\n        \"num_unique_values\": 1,\n        \"samples\": [\n          160\n        ],\n        \"semantic_type\": \"\",\n        \"description\": \"\"\n      }\n    },\n    {\n      \"column\": \"Cantidad de personas\",\n      \"properties\": {\n        \"dtype\": \"number\",\n        \"std\": null,\n        \"min\": 1,\n        \"max\": 1,\n        \"num_unique_values\": 1,\n        \"samples\": [\n          1\n        ],\n        \"semantic_type\": \"\",\n        \"description\": \"\"\n      }\n    }\n  ]\n}"
            }
          },
          "metadata": {},
          "execution_count": 42
        }
      ]
    },
    {
      "cell_type": "markdown",
      "source": [
        "##### **MEDIANA**\n",
        "La mediana es el valor que dentro del conjunto de datos es menor que el 50% de los datos y mayor que el 50% restante. En pandas, el método que funciona para obtener el promedio o la media es **median()**."
      ],
      "metadata": {
        "id": "QcBE3nT8e0DD"
      }
    },
    {
      "cell_type": "code",
      "source": [
        "print(\"Mediana por columna:\\n\")\n",
        "data_frame.loc[:, ['Edad (años)', 'Estatura (CM)', 'Cantidad de personas']].median()"
      ],
      "metadata": {
        "colab": {
          "base_uri": "https://localhost:8080/"
        },
        "id": "t7f16YDUfrMp",
        "outputId": "8bc62cb3-2554-41be-c861-c10cda4d5f40"
      },
      "execution_count": 47,
      "outputs": [
        {
          "output_type": "execute_result",
          "data": {
            "text/plain": [
              "Edad (años)              48.0\n",
              "Estatura (CM)           165.0\n",
              "Cantidad de personas      1.0\n",
              "dtype: float64"
            ]
          },
          "metadata": {},
          "execution_count": 47
        }
      ]
    },
    {
      "cell_type": "markdown",
      "source": [
        "##### **MÁXIMO**\n",
        "El método **max()** en Pandas se utiliza para calcular el valor máximo en una columna o en todo el DataFrame, dependiendo de cómo se utilice.\n"
      ],
      "metadata": {
        "id": "A4nDUiHXgGEr"
      }
    },
    {
      "cell_type": "code",
      "source": [
        "print(\"Máximo valor por columna:\\n\")\n",
        "data_frame.loc[:, ['Edad (años)', 'Estatura (CM)', 'Cantidad de personas']].max()"
      ],
      "metadata": {
        "colab": {
          "base_uri": "https://localhost:8080/"
        },
        "id": "QGV5YiUJtjIr",
        "outputId": "68642ed1-8ae5-4ca5-a896-371188db3b0b"
      },
      "execution_count": 48,
      "outputs": [
        {
          "output_type": "stream",
          "name": "stdout",
          "text": [
            "Máximo valor por columna:\n",
            "\n"
          ]
        },
        {
          "output_type": "execute_result",
          "data": {
            "text/plain": [
              "Edad (años)              99\n",
              "Estatura (CM)           190\n",
              "Cantidad de personas     17\n",
              "dtype: int64"
            ]
          },
          "metadata": {},
          "execution_count": 48
        }
      ]
    },
    {
      "cell_type": "markdown",
      "source": [
        "##### **MINIMO**\n",
        "El método min() en Pandas se utiliza para calcular el valor mínimo en una columna o en todo el DataFrame, similar al método max()."
      ],
      "metadata": {
        "id": "JKKmGvvEt8Rw"
      }
    },
    {
      "cell_type": "code",
      "source": [
        "print(\"Minimo valor por columna:\\n\")\n",
        "data_frame.loc[:, ['Edad (años)', 'Estatura (CM)', 'Cantidad de personas']].min()"
      ],
      "metadata": {
        "colab": {
          "base_uri": "https://localhost:8080/"
        },
        "id": "9CdUVuqUt8rL",
        "outputId": "f4a62b37-315c-4981-b012-532125b7b633"
      },
      "execution_count": 49,
      "outputs": [
        {
          "output_type": "stream",
          "name": "stdout",
          "text": [
            "Minimo valor por columna:\n",
            "\n"
          ]
        },
        {
          "output_type": "execute_result",
          "data": {
            "text/plain": [
              "Edad (años)              7\n",
              "Estatura (CM)           35\n",
              "Cantidad de personas     1\n",
              "dtype: int64"
            ]
          },
          "metadata": {},
          "execution_count": 49
        }
      ]
    },
    {
      "cell_type": "markdown",
      "source": [
        "##### **CAJA DE BIGOTE**\n"
      ],
      "metadata": {
        "id": "SHwSMZFmu6r-"
      }
    },
    {
      "cell_type": "code",
      "source": [
        "data_frame.boxplot(column='Edad (años)')\n",
        "plt.title('CAJA DE BIGOTE')\n",
        "plt.ylabel('Valor')\n",
        "plt.show()\n",
        "\n",
        "data_frame.boxplot(column='Estatura (CM)')\n",
        "plt.title('CAJA DE BIGOTE')\n",
        "plt.ylabel('Valor')\n",
        "plt.show()\n",
        "\n",
        "data_frame.boxplot(column='Cantidad de personas')\n",
        "plt.title('CAJA DE BIGOTE')\n",
        "plt.ylabel('Valor')\n",
        "plt.show()"
      ],
      "metadata": {
        "colab": {
          "base_uri": "https://localhost:8080/",
          "height": 1000
        },
        "id": "we7L38rPxcnY",
        "outputId": "dcc392bc-f0fa-4616-ba85-7c3f4881d6ae"
      },
      "execution_count": 24,
      "outputs": [
        {
          "output_type": "display_data",
          "data": {
            "text/plain": [
              "<Figure size 640x480 with 1 Axes>"
            ],
            "image/png": "[encoded data removed]"
          },
          "metadata": {}
        },
        {
          "output_type": "display_data",
          "data": {
            "text/plain": [
              "<Figure size 640x480 with 1 Axes>"
            ],
            "image/png": "[encoded data removed]"
          },
          "metadata": {}
        },
        {
          "output_type": "display_data",
          "data": {
            "text/plain": [
              "<Figure size 640x480 with 1 Axes>"
            ],
            "image/png": "[encoded data removed]"
          },
          "metadata": {}
        }
      ]
    },
    {
      "cell_type": "markdown",
      "source": [
        "##### **HISTOGRAMA**\n",
        "La función hist() se utiliza para especificar el número de contenedores o intervalos en los que se dividirá el rango de los datos para crear el histograma. En otras palabras, determina la cantidad de barras que se mostrarán en el histograma.\n",
        "\n",
        "En este caso, bins=10 significa que se crearán 10 contenedores para representar los datos en el histograma. Ajustar el valor de bins puede ayudar a visualizar mejor la distribución de los datos y a detectar patrones o características importantes en ellos. Un número inadecuado de bins puede hacer que el histograma sea demasiado generalizado o demasiado detallado, por lo que elegir el valor correcto es importante para una visualización adecuada de los datos."
      ],
      "metadata": {
        "id": "SWdkVu3XvAAO"
      }
    },
    {
      "cell_type": "code",
      "source": [
        "data_frame.loc[:, ['Edad (años)', 'Estatura (CM)', 'Cantidad de personas']].hist(bins=10)\n",
        "plt.show()"
      ],
      "metadata": {
        "colab": {
          "base_uri": "https://localhost:8080/",
          "height": 452
        },
        "id": "a_Rb8hbcvSeF",
        "outputId": "85f05edb-4985-4468-92c4-481f12418ea1"
      },
      "execution_count": 25,
      "outputs": [
        {
          "output_type": "display_data",
          "data": {
            "text/plain": [
              "<Figure size 640x480 with 4 Axes>"
            ],
            "image/png": "[encoded data removed]"
          },
          "metadata": {}
        }
      ]
    },
    {
      "cell_type": "markdown",
      "source": [
        "## **3 CAMPOS DE VARIABLE CUALITATIVA**\n",
        "\n",
        "PARA LOS SIGUIENTES CAMPOS:\n",
        "1.   Área Conocimiento.\n",
        "2.   Grupo edad.\n",
        "3.   Género.\n",
        "\n",
        "SE REALIZA:\n",
        "1.   Moda\n",
        "2.   Tabla de frecuencia absoluta y relativa\n",
        "3.   Diagrama de barrase\n",
        "4.   Diagrama de tortas\n",
        "5.   Campos únicos\n"
      ],
      "metadata": {
        "id": "xWVivIc3wynD"
      }
    },
    {
      "cell_type": "markdown",
      "source": [
        "##### **MODA**\n",
        "\n",
        "En Pandas, el método mode() se utiliza para calcular la moda de un DataFrame o de una Serie. La moda representa el valor que aparece con mayor frecuencia en un conjunto de datos.\n",
        "\n",
        "Cuando aplicas mode() a un DataFrame, el método devuelve un nuevo DataFrame que contiene las modas de cada columna. Si hay varios valores que son igualmente frecuentes y son la moda, mode() devolverá todos esos valores."
      ],
      "metadata": {
        "id": "OylpoHvgBf-g"
      }
    },
    {
      "cell_type": "code",
      "source": [
        "print(\"Moda por columna:\\n\")\n",
        "data_frame.loc[:, ['Área Conocimiento', 'Grupo edad', 'Género']].mode()"
      ],
      "metadata": {
        "id": "bRxLGpAPBf-r",
        "colab": {
          "base_uri": "https://localhost:8080/",
          "height": 115
        },
        "outputId": "e80b4e74-f5aa-42fe-b065-b424e8c1e15c"
      },
      "execution_count": 89,
      "outputs": [
        {
          "output_type": "stream",
          "name": "stdout",
          "text": [
            "Moda por columna:\n",
            "\n"
          ]
        },
        {
          "output_type": "execute_result",
          "data": {
            "text/plain": [
              "  Área Conocimiento Grupo edad    Género\n",
              "0         NO INDICA     ADULTO  FEMENINO"
            ],
            "text/html": [
              "\n",
              "  <div id=\"df-e72f2df1-bdf9-43c2-a9da-d72acaeb4a91\" class=\"colab-df-container\">\n",
              "    <div>\n",
              "<style scoped>\n",
              "    .dataframe tbody tr th:only-of-type {\n",
              "        vertical-align: middle;\n",
              "    }\n",
              "\n",
              "    .dataframe tbody tr th {\n",
              "        vertical-align: top;\n",
              "    }\n",
              "\n",
              "    .dataframe thead th {\n",
              "        text-align: right;\n",
              "    }\n",
              "</style>\n",
              "<table border=\"1\" class=\"dataframe\">\n",
              "  <thead>\n",
              "    <tr style=\"text-align: right;\">\n",
              "      <th></th>\n",
              "      <th>Área Conocimiento</th>\n",
              "      <th>Grupo edad</th>\n",
              "      <th>Género</th>\n",
              "    </tr>\n",
              "  </thead>\n",
              "  <tbody>\n",
              "    <tr>\n",
              "      <th>0</th>\n",
              "      <td>NO INDICA</td>\n",
              "      <td>ADULTO</td>\n",
              "      <td>FEMENINO</td>\n",
              "    </tr>\n",
              "  </tbody>\n",
              "</table>\n",
              "</div>\n",
              "    <div class=\"colab-df-buttons\">\n",
              "\n",
              "  <div class=\"colab-df-container\">\n",
              "    <button class=\"colab-df-convert\" onclick=\"convertToInteractive('df-e72f2df1-bdf9-43c2-a9da-d72acaeb4a91')\"\n",
              "            title=\"Convert this dataframe to an interactive table.\"\n",
              "            style=\"display:none;\">\n",
              "\n",
              "  <svg xmlns=\"http://www.w3.org/2000/svg\" height=\"24px\" viewBox=\"0 -960 960 960\">\n",
              "    <path d=\"M120-120v-720h720v720H120Zm60-500h600v-160H180v160Zm220 220h160v-160H400v160Zm0 220h160v-160H400v160ZM180-400h160v-160H180v160Zm440 0h160v-160H620v160ZM180-180h160v-160H180v160Zm440 0h160v-160H620v160Z\"/>\n",
              "  </svg>\n",
              "    </button>\n",
              "\n",
              "  <style>\n",
              "    .colab-df-container {\n",
              "      display:flex;\n",
              "      gap: 12px;\n",
              "    }\n",
              "\n",
              "    .colab-df-convert {\n",
              "      background-color: #E8F0FE;\n",
              "      border: none;\n",
              "      border-radius: 50%;\n",
              "      cursor: pointer;\n",
              "      display: none;\n",
              "      fill: #1967D2;\n",
              "      height: 32px;\n",
              "      padding: 0 0 0 0;\n",
              "      width: 32px;\n",
              "    }\n",
              "\n",
              "    .colab-df-convert:hover {\n",
              "      background-color: #E2EBFA;\n",
              "      box-shadow: 0px 1px 2px rgba(60, 64, 67, 0.3), 0px 1px 3px 1px rgba(60, 64, 67, 0.15);\n",
              "      fill: #174EA6;\n",
              "    }\n",
              "\n",
              "    .colab-df-buttons div {\n",
              "      margin-bottom: 4px;\n",
              "    }\n",
              "\n",
              "    [theme=dark] .colab-df-convert {\n",
              "      background-color: #3B4455;\n",
              "      fill: #D2E3FC;\n",
              "    }\n",
              "\n",
              "    [theme=dark] .colab-df-convert:hover {\n",
              "      background-color: #434B5C;\n",
              "      box-shadow: 0px 1px 3px 1px rgba(0, 0, 0, 0.15);\n",
              "      filter: drop-shadow(0px 1px 2px rgba(0, 0, 0, 0.3));\n",
              "      fill: #FFFFFF;\n",
              "    }\n",
              "  </style>\n",
              "\n",
              "    <script>\n",
              "      const buttonEl =\n",
              "        document.querySelector('#df-e72f2df1-bdf9-43c2-a9da-d72acaeb4a91 button.colab-df-convert');\n",
              "      buttonEl.style.display =\n",
              "        google.colab.kernel.accessAllowed ? 'block' : 'none';\n",
              "\n",
              "      async function convertToInteractive(key) {\n",
              "        const element = document.querySelector('#df-e72f2df1-bdf9-43c2-a9da-d72acaeb4a91');\n",
              "        const dataTable =\n",
              "          await google.colab.kernel.invokeFunction('convertToInteractive',\n",
              "                                                    [key], {});\n",
              "        if (!dataTable) return;\n",
              "\n",
              "        const docLinkHtml = 'Like what you see? Visit the ' +\n",
              "          '<a target=\"_blank\" href=https://colab.research.google.com/notebooks/data_table.ipynb>data table notebook</a>'\n",
              "          + ' to learn more about interactive tables.';\n",
              "        element.innerHTML = '';\n",
              "        dataTable['output_type'] = 'display_data';\n",
              "        await google.colab.output.renderOutput(dataTable, element);\n",
              "        const docLink = document.createElement('div');\n",
              "        docLink.innerHTML = docLinkHtml;\n",
              "        element.appendChild(docLink);\n",
              "      }\n",
              "    </script>\n",
              "  </div>\n",
              "\n",
              "\n",
              "    </div>\n",
              "  </div>\n"
            ],
            "application/vnd.google.colaboratory.intrinsic+json": {
              "type": "dataframe",
              "summary": "{\n  \"name\": \"data_frame\",\n  \"rows\": 1,\n  \"fields\": [\n    {\n      \"column\": \"\\u00c1rea Conocimiento\",\n      \"properties\": {\n        \"dtype\": \"string\",\n        \"num_unique_values\": 1,\n        \"samples\": [\n          \"NO INDICA\"\n        ],\n        \"semantic_type\": \"\",\n        \"description\": \"\"\n      }\n    },\n    {\n      \"column\": \"Grupo edad\",\n      \"properties\": {\n        \"dtype\": \"string\",\n        \"num_unique_values\": 1,\n        \"samples\": [\n          \"ADULTO\"\n        ],\n        \"semantic_type\": \"\",\n        \"description\": \"\"\n      }\n    },\n    {\n      \"column\": \"G\\u00e9nero\",\n      \"properties\": {\n        \"dtype\": \"string\",\n        \"num_unique_values\": 1,\n        \"samples\": [\n          \"FEMENINO\"\n        ],\n        \"semantic_type\": \"\",\n        \"description\": \"\"\n      }\n    }\n  ]\n}"
            }
          },
          "metadata": {},
          "execution_count": 89
        }
      ]
    },
    {
      "cell_type": "markdown",
      "source": [
        "##### **FRECUENCIA ABSOLUTA**"
      ],
      "metadata": {
        "id": "nXiGXPFJzJDc"
      }
    },
    {
      "cell_type": "code",
      "source": [
        "print(\"\\n Frecuencia absoluta Área Conocimiento: \\n\", data_frame['Área Conocimiento'].value_counts())\n",
        "print(\"\\n Frecuencia absoluta Grupo edad: \\n\", data_frame['Grupo edad'].value_counts())\n",
        "print(\"\\n Frecuencia absoluta Género: \\n\", data_frame['Género'].value_counts())"
      ],
      "metadata": {
        "colab": {
          "base_uri": "https://localhost:8080/"
        },
        "id": "BV1zQ5uzzqIY",
        "outputId": "bde910aa-8579-498f-f9b5-23bb94a517c2"
      },
      "execution_count": 90,
      "outputs": [
        {
          "output_type": "stream",
          "name": "stdout",
          "text": [
            "\n",
            " Frecuencia absoluta Área Conocimiento: \n",
            " NO INDICA                                       183155\n",
            "NINGUNA                                          51171\n",
            "ECONOMÍA, ADMINISTRACIÓN CONTADURIA Y AFINES     12448\n",
            "INGENIERÍA, ARQUITECTURA Y AFINES                10355\n",
            "CIENCIAS SOCIALES Y HUMANAS                       7028\n",
            "CIENCIAS DE LA SALUD                              6663\n",
            "BELLAS ARTES                                      3181\n",
            "CIENCIAS DE LA EDUCACIÓN                          2884\n",
            "MATEMÁTICAS Y CIENCIAS NATURALES                  1394\n",
            "AGRONOMÍA, VETERINARIA Y AFINES                    784\n",
            "AGRONOMÍA, VETERINARIA Y ZOOTECNIA                 132\n",
            "COCINA Y CULINARIA                                 127\n",
            "AVIACIÓN                                            94\n",
            "(NO REGISTRA)                                       73\n",
            "Name: Área Conocimiento, dtype: int64\n",
            "\n",
            " Frecuencia absoluta Grupo edad: \n",
            " ADULTO          188062\n",
            "ADULTO MAYOR     72511\n",
            "ADULTO JOVEN     14993\n",
            "ADOLESCENTE       2723\n",
            "INFANTE           1200\n",
            "Name: Grupo edad, dtype: int64\n",
            "\n",
            " Frecuencia absoluta Género: \n",
            " FEMENINO       155766\n",
            "MASCULINO      123489\n",
            "DESCONOCIDO       234\n",
            "Name: Género, dtype: int64\n"
          ]
        }
      ]
    },
    {
      "cell_type": "markdown",
      "source": [
        "##### **FRECUENCIA RELATIVA**\n"
      ],
      "metadata": {
        "id": "hVNZg5P32QWX"
      }
    },
    {
      "cell_type": "code",
      "source": [
        "print(\"\\n Frecuencia relativa Área Conocimiento: \\n\", (100 * data_frame[\"Área Conocimiento\"].value_counts() / len(data_frame[\"Área Conocimiento\"])))\n",
        "print(\"\\n Frecuencia relativa Grupo edad: \\n\", (100 * data_frame[\"Grupo edad\"].value_counts() / len(data_frame[\"Grupo edad\"])))\n",
        "print(\"\\n Frecuencia relativa Género: \\n\", (100 * data_frame[\"Género\"].value_counts() / len(data_frame[\"Género\"])))"
      ],
      "metadata": {
        "colab": {
          "base_uri": "https://localhost:8080/"
        },
        "id": "mkS-pEfD7xSe",
        "outputId": "092e699e-ff0e-4cac-e4c3-6906714d1069"
      },
      "execution_count": 91,
      "outputs": [
        {
          "output_type": "stream",
          "name": "stdout",
          "text": [
            "\n",
            " Frecuencia relativa Área Conocimiento: \n",
            " NO INDICA                                       65.532096\n",
            "NINGUNA                                         18.308771\n",
            "ECONOMÍA, ADMINISTRACIÓN CONTADURIA Y AFINES     4.453843\n",
            "INGENIERÍA, ARQUITECTURA Y AFINES                3.704976\n",
            "CIENCIAS SOCIALES Y HUMANAS                      2.514589\n",
            "CIENCIAS DE LA SALUD                             2.383994\n",
            "BELLAS ARTES                                     1.138149\n",
            "CIENCIAS DE LA EDUCACIÓN                         1.031883\n",
            "MATEMÁTICAS Y CIENCIAS NATURALES                 0.498767\n",
            "AGRONOMÍA, VETERINARIA Y AFINES                  0.280512\n",
            "AGRONOMÍA, VETERINARIA Y ZOOTECNIA               0.047229\n",
            "COCINA Y CULINARIA                               0.045440\n",
            "AVIACIÓN                                         0.033633\n",
            "(NO REGISTRA)                                    0.026119\n",
            "Name: Área Conocimiento, dtype: float64\n",
            "\n",
            " Frecuencia relativa Grupo edad: \n",
            " ADULTO          67.287800\n",
            "ADULTO MAYOR    25.944134\n",
            "ADULTO JOVEN     5.364433\n",
            "ADOLESCENTE      0.974278\n",
            "INFANTE          0.429355\n",
            "Name: Grupo edad, dtype: float64\n",
            "\n",
            " Frecuencia relativa Género: \n",
            " FEMENINO       55.732426\n",
            "MASCULINO      44.183850\n",
            "DESCONOCIDO     0.083724\n",
            "Name: Género, dtype: float64\n"
          ]
        }
      ]
    },
    {
      "cell_type": "markdown",
      "source": [
        "##### **GRAFICO DE BARRAS**"
      ],
      "metadata": {
        "id": "rAGIv7nMGvEN"
      }
    },
    {
      "cell_type": "code",
      "source": [
        "print(\"\\n GRAFICO DE BARRAS (Área Conocimiento): \\n\", data_frame[\"Área Conocimiento\"].value_counts().plot(kind=\"bar\",figsize=(15,6),title=\"Área Conocimiento\", fontsize=6))"
      ],
      "metadata": {
        "colab": {
          "base_uri": "https://localhost:8080/",
          "height": 806
        },
        "id": "c1aADQCjG3E1",
        "outputId": "e1ca808d-6da3-4ebe-8804-542d4893a06b"
      },
      "execution_count": 92,
      "outputs": [
        {
          "output_type": "stream",
          "name": "stdout",
          "text": [
            "\n",
            " GRAFICO DE BARRAS (Área Conocimiento): \n",
            " Axes(0.125,0.11;0.775x0.77)\n"
          ]
        },
        {
          "output_type": "display_data",
          "data": {
            "text/plain": [
              "<Figure size 1500x600 with 1 Axes>"
            ],
            "image/png": "[encoded data removed]"
          },
          "metadata": {}
        }
      ]
    },
    {
      "cell_type": "code",
      "source": [
        "print(\"\\n GRAFICO DE BARRAS (Grupo edad): \\n\", data_frame[\"Grupo edad\"].value_counts().plot(kind=\"bar\",figsize=(11,6),title=\"Grupo edad\", fontsize=6))"
      ],
      "metadata": {
        "colab": {
          "base_uri": "https://localhost:8080/",
          "height": 648
        },
        "id": "mD8V1wPhIgVn",
        "outputId": "3c902adc-9c75-4bb4-f442-b84323ccda23"
      },
      "execution_count": 61,
      "outputs": [
        {
          "output_type": "stream",
          "name": "stdout",
          "text": [
            "\n",
            " GRAFICO DE BARRAS (Grupo edad): \n",
            " Axes(0.125,0.11;0.775x0.77)\n"
          ]
        },
        {
          "output_type": "display_data",
          "data": {
            "text/plain": [
              "<Figure size 1100x600 with 1 Axes>"
            ],
            "image/png": "[encoded data removed]"
          },
          "metadata": {}
        }
      ]
    },
    {
      "cell_type": "code",
      "source": [
        "print(\"\\n GRAFICO DE BARRAS (Género): \\n\", data_frame[\"Género\"].value_counts().plot(kind=\"bar\",figsize=(11,6),title=\"Género\", fontsize=6))"
      ],
      "metadata": {
        "colab": {
          "base_uri": "https://localhost:8080/",
          "height": 647
        },
        "id": "DVeZSeOpIgy-",
        "outputId": "13a6fd66-08c1-4b02-eda1-15623f3a9f1d"
      },
      "execution_count": 62,
      "outputs": [
        {
          "output_type": "stream",
          "name": "stdout",
          "text": [
            "\n",
            " GRAFICO DE BARRAS (Género): \n",
            " Axes(0.125,0.11;0.775x0.77)\n"
          ]
        },
        {
          "output_type": "display_data",
          "data": {
            "text/plain": [
              "<Figure size 1100x600 with 1 Axes>"
            ],
            "image/png": "[encoded data removed]"
          },
          "metadata": {}
        }
      ]
    },
    {
      "cell_type": "markdown",
      "source": [
        "##### **GRAFICO DE TORTA**"
      ],
      "metadata": {
        "id": "G_fWdArpGylc"
      }
    },
    {
      "cell_type": "code",
      "source": [
        "# data_frame[\"País\"].value_counts().plot(kind=\"pie\",autopct=\"%.2f\", figsize=(12,10), title= \"País\" )\n",
        "\n",
        "# Crear el gráfico circular\n",
        "plt.figure(figsize=(12, 10))\n",
        "plt.pie(data_frame[\"Área Conocimiento\"].value_counts(), labels=None, autopct=\"%.2f\", startangle=90)\n",
        "plt.legend(data_frame['Área Conocimiento'].unique(), loc=\"center left\", bbox_to_anchor=(1, 0.5))\n",
        "\n",
        "plt.title('Área Conocimiento')\n",
        "plt.show()"
      ],
      "metadata": {
        "colab": {
          "base_uri": "https://localhost:8080/",
          "height": 829
        },
        "id": "rRPNUfgCG3jD",
        "outputId": "f8d3565c-3c9e-44f9-cb11-60498077c482"
      },
      "execution_count": 93,
      "outputs": [
        {
          "output_type": "display_data",
          "data": {
            "text/plain": [
              "<Figure size 1200x1000 with 1 Axes>"
            ],
            "image/png": "[encoded data removed]"
          },
          "metadata": {}
        }
      ]
    },
    {
      "cell_type": "code",
      "source": [
        "data_frame[\"Grupo edad\"].value_counts().plot(kind=\"pie\",autopct=\"%.2f\", figsize=(12,10), title=\"Grupo edad\" )"
      ],
      "metadata": {
        "colab": {
          "base_uri": "https://localhost:8080/",
          "height": 846
        },
        "id": "sJmSZx5SItll",
        "outputId": "10f3c6ae-816e-4253-c221-30dc2dc8651b"
      },
      "execution_count": 69,
      "outputs": [
        {
          "output_type": "execute_result",
          "data": {
            "text/plain": [
              "<Axes: title={'center': 'Grupo edad'}, ylabel='Grupo edad'>"
            ]
          },
          "metadata": {},
          "execution_count": 69
        },
        {
          "output_type": "display_data",
          "data": {
            "text/plain": [
              "<Figure size 1200x1000 with 1 Axes>"
            ],
            "image/png": "[encoded data removed]"
          },
          "metadata": {}
        }
      ]
    },
    {
      "cell_type": "code",
      "source": [
        "data_frame[\"Género\"].value_counts().plot(kind=\"pie\",autopct=\"%.2f\", figsize=(12,10), title= \"Género\" )"
      ],
      "metadata": {
        "colab": {
          "base_uri": "https://localhost:8080/",
          "height": 846
        },
        "id": "cnA-sgKpItLJ",
        "outputId": "73c6ad19-41d0-47be-98f5-1c59f91fb770"
      },
      "execution_count": 70,
      "outputs": [
        {
          "output_type": "execute_result",
          "data": {
            "text/plain": [
              "<Axes: title={'center': 'Género'}, ylabel='Género'>"
            ]
          },
          "metadata": {},
          "execution_count": 70
        },
        {
          "output_type": "display_data",
          "data": {
            "text/plain": [
              "<Figure size 1200x1000 with 1 Axes>"
            ],
            "image/png": "[encoded data removed]"
          },
          "metadata": {}
        }
      ]
    },
    {
      "cell_type": "markdown",
      "source": [
        "##### **CAMPOS UNICOS**"
      ],
      "metadata": {
        "id": "gAuENEgdMeEr"
      }
    },
    {
      "cell_type": "code",
      "source": [
        "data_frame['Área Conocimiento'].unique()"
      ],
      "metadata": {
        "colab": {
          "base_uri": "https://localhost:8080/"
        },
        "id": "ndr2xwDFMdvd",
        "outputId": "de083720-0bac-44c4-a9a8-4fbbb5387547"
      },
      "execution_count": 94,
      "outputs": [
        {
          "output_type": "execute_result",
          "data": {
            "text/plain": [
              "array(['NO INDICA', 'NINGUNA', 'CIENCIAS DE LA EDUCACIÓN',\n",
              "       'CIENCIAS SOCIALES Y HUMANAS',\n",
              "       'ECONOMÍA, ADMINISTRACIÓN CONTADURIA Y AFINES',\n",
              "       'INGENIERÍA, ARQUITECTURA Y AFINES',\n",
              "       'AGRONOMÍA, VETERINARIA Y AFINES', 'BELLAS ARTES',\n",
              "       'MATEMÁTICAS Y CIENCIAS NATURALES', 'CIENCIAS DE LA SALUD',\n",
              "       '(NO REGISTRA)', 'AGRONOMÍA, VETERINARIA Y ZOOTECNIA', 'AVIACIÓN',\n",
              "       'COCINA Y CULINARIA'], dtype=object)"
            ]
          },
          "metadata": {},
          "execution_count": 94
        }
      ]
    },
    {
      "cell_type": "code",
      "source": [
        "data_frame['Grupo edad'].unique()"
      ],
      "metadata": {
        "colab": {
          "base_uri": "https://localhost:8080/"
        },
        "id": "YNCMbjFqM7DW",
        "outputId": "3ee8d36a-5d7d-4f1f-c352-3cb8f4575e54"
      },
      "execution_count": 79,
      "outputs": [
        {
          "output_type": "execute_result",
          "data": {
            "text/plain": [
              "array(['ADULTO', 'ADULTO MAYOR', 'ADULTO JOVEN', 'ADOLESCENTE', 'INFANTE'],\n",
              "      dtype=object)"
            ]
          },
          "metadata": {},
          "execution_count": 79
        }
      ]
    },
    {
      "cell_type": "code",
      "source": [
        "data_frame['Género'].unique()"
      ],
      "metadata": {
        "colab": {
          "base_uri": "https://localhost:8080/"
        },
        "id": "NO07InOpM9Dv",
        "outputId": "f2216927-6aa5-41e9-a071-3ed5fe694024"
      },
      "execution_count": 80,
      "outputs": [
        {
          "output_type": "execute_result",
          "data": {
            "text/plain": [
              "array(['FEMENINO', 'MASCULINO', 'DESCONOCIDO'], dtype=object)"
            ]
          },
          "metadata": {},
          "execution_count": 80
        }
      ]
    }
  ]
}